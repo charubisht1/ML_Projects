{
 "cells": [
  {
   "cell_type": "markdown",
   "id": "5a73b115",
   "metadata": {},
   "source": [
    "Loading required libraries and dataset. Since the dataset is huge, we sample only 2% of it in our study. \n",
    "  "
   ]
  },
  {
   "cell_type": "code",
   "execution_count": 1,
   "id": "b790e68e",
   "metadata": {},
   "outputs": [],
   "source": [
    "import pandas as pd\n",
    "import numpy as np\n",
    "pd.set_option(\"display.max_rows\",None,\"display.max_columns\", None)\n",
    "import warnings\n",
    "warnings.filterwarnings('always') "
   ]
  },
  {
   "cell_type": "markdown",
   "id": "2eeb8e32",
   "metadata": {},
   "source": [
    "Column graphical_appearance_name correspond to product_pattern and perceived_colour_value_name corresponds to product_color to make the interpretation easier for the reader.\n"
   ]
  },
  {
   "cell_type": "code",
   "execution_count": 2,
   "id": "b2d1cf11",
   "metadata": {},
   "outputs": [
    {
     "name": "stdout",
     "output_type": "stream",
     "text": [
      "<class 'pandas.core.frame.DataFrame'>\n",
      "Int64Index: 15971 entries, 65748 to 24132\n",
      "Data columns (total 14 columns):\n",
      " #   Column                       Non-Null Count  Dtype  \n",
      "---  ------                       --------------  -----  \n",
      " 0   t_date                       15971 non-null  object \n",
      " 1   product_type_no              15971 non-null  int64  \n",
      " 2   product_type_name            15971 non-null  object \n",
      " 3   product_group_no             15971 non-null  int64  \n",
      " 4   product_group_name           15971 non-null  object \n",
      " 5   graphical_appearance_no      15971 non-null  int64  \n",
      " 6   graphical_appearance_name    15971 non-null  object \n",
      " 7   colour_group_code            15971 non-null  int64  \n",
      " 8   colour_group_name            15971 non-null  object \n",
      " 9   perceived_colour_value_id    15971 non-null  int64  \n",
      " 10  perceived_colour_value_name  15971 non-null  object \n",
      " 11  index_group_no               15971 non-null  int64  \n",
      " 12  index_group_name             15971 non-null  object \n",
      " 13  Price                        15971 non-null  float64\n",
      "dtypes: float64(1), int64(6), object(7)\n",
      "memory usage: 1.8+ MB\n"
     ]
    }
   ],
   "source": [
    "hmdata = pd.read_csv('C:/Users/Study/OneDrive/Desktop/DU/Business_Intelligence/Home_assignment_BI/dataset_hm.csv')\n",
    "hmdata = hmdata.sample(frac=0.2, random_state=100)\n",
    "hmdata.describe(include=object)\n",
    "hmdata.shape\n",
    "hmdata.info()"
   ]
  },
  {
   "cell_type": "code",
   "execution_count": 3,
   "id": "47e5e687",
   "metadata": {},
   "outputs": [
    {
     "name": "stdout",
     "output_type": "stream",
     "text": [
      "Requirement already satisfied: sklearn in c:\\users\\study\\onedrive\\desktop\\du\\business_intelligence\\labs\\venv\\lib\\site-packages (0.0)\n",
      "Requirement already satisfied: scikit-learn in c:\\users\\study\\onedrive\\desktop\\du\\business_intelligence\\labs\\venv\\lib\\site-packages (from sklearn) (1.0.2)\n",
      "Requirement already satisfied: scipy>=1.1.0 in c:\\users\\study\\onedrive\\desktop\\du\\business_intelligence\\labs\\venv\\lib\\site-packages (from scikit-learn->sklearn) (1.8.0)\n",
      "Requirement already satisfied: threadpoolctl>=2.0.0 in c:\\users\\study\\onedrive\\desktop\\du\\business_intelligence\\labs\\venv\\lib\\site-packages (from scikit-learn->sklearn) (3.1.0)\n",
      "Requirement already satisfied: joblib>=0.11 in c:\\users\\study\\onedrive\\desktop\\du\\business_intelligence\\labs\\venv\\lib\\site-packages (from scikit-learn->sklearn) (1.1.0)\n",
      "Requirement already satisfied: numpy>=1.14.6 in c:\\users\\study\\onedrive\\desktop\\du\\business_intelligence\\labs\\venv\\lib\\site-packages (from scikit-learn->sklearn) (1.22.3)\n"
     ]
    },
    {
     "name": "stderr",
     "output_type": "stream",
     "text": [
      "WARNING: You are using pip version 22.0.4; however, version 22.1 is available.\n",
      "You should consider upgrading via the 'c:\\users\\study\\onedrive\\desktop\\du\\business_intelligence\\labs\\venv\\scripts\\python.exe -m pip install --upgrade pip' command.\n",
      "sys:1: ResourceWarning: unclosed socket <zmq.Socket(zmq.PUSH) at 0x11663208820>\n",
      "ResourceWarning: Enable tracemalloc to get the object allocation traceback\n",
      "sys:1: ResourceWarning: unclosed socket <zmq.Socket(zmq.PUSH) at 0x11663208b20>\n",
      "ResourceWarning: Enable tracemalloc to get the object allocation traceback\n",
      "c:\\users\\study\\onedrive\\desktop\\du\\business_intelligence\\labs\\venv\\lib\\site-packages\\IPython\\utils\\_process_win32.py:124: ResourceWarning: unclosed file <_io.BufferedWriter name=4>\n",
      "  return process_handler(cmd, _system_body)\n",
      "ResourceWarning: Enable tracemalloc to get the object allocation traceback\n",
      "c:\\users\\study\\onedrive\\desktop\\du\\business_intelligence\\labs\\venv\\lib\\site-packages\\IPython\\utils\\_process_win32.py:124: ResourceWarning: unclosed file <_io.BufferedReader name=5>\n",
      "  return process_handler(cmd, _system_body)\n",
      "ResourceWarning: Enable tracemalloc to get the object allocation traceback\n",
      "c:\\users\\study\\onedrive\\desktop\\du\\business_intelligence\\labs\\venv\\lib\\site-packages\\IPython\\utils\\_process_win32.py:124: ResourceWarning: unclosed file <_io.BufferedReader name=6>\n",
      "  return process_handler(cmd, _system_body)\n",
      "ResourceWarning: Enable tracemalloc to get the object allocation traceback\n"
     ]
    },
    {
     "name": "stdout",
     "output_type": "stream",
     "text": [
      "Requirement already satisfied: statsmodels in c:\\users\\study\\onedrive\\desktop\\du\\business_intelligence\\labs\\venv\\lib\\site-packages (0.13.2)\n",
      "Requirement already satisfied: pandas>=0.25 in c:\\users\\study\\onedrive\\desktop\\du\\business_intelligence\\labs\\venv\\lib\\site-packages (from statsmodels) (1.4.2)\n",
      "Requirement already satisfied: patsy>=0.5.2 in c:\\users\\study\\onedrive\\desktop\\du\\business_intelligence\\labs\\venv\\lib\\site-packages (from statsmodels) (0.5.2)\n",
      "Requirement already satisfied: packaging>=21.3 in c:\\users\\study\\onedrive\\desktop\\du\\business_intelligence\\labs\\venv\\lib\\site-packages (from statsmodels) (21.3)\n",
      "Requirement already satisfied: numpy>=1.17 in c:\\users\\study\\onedrive\\desktop\\du\\business_intelligence\\labs\\venv\\lib\\site-packages (from statsmodels) (1.22.3)\n",
      "Requirement already satisfied: scipy>=1.3 in c:\\users\\study\\onedrive\\desktop\\du\\business_intelligence\\labs\\venv\\lib\\site-packages (from statsmodels) (1.8.0)\n",
      "Requirement already satisfied: pyparsing!=3.0.5,>=2.0.2 in c:\\users\\study\\onedrive\\desktop\\du\\business_intelligence\\labs\\venv\\lib\\site-packages (from packaging>=21.3->statsmodels) (3.0.7)\n",
      "Requirement already satisfied: python-dateutil>=2.8.1 in c:\\users\\study\\onedrive\\desktop\\du\\business_intelligence\\labs\\venv\\lib\\site-packages (from pandas>=0.25->statsmodels) (2.8.2)\n",
      "Requirement already satisfied: pytz>=2020.1 in c:\\users\\study\\onedrive\\desktop\\du\\business_intelligence\\labs\\venv\\lib\\site-packages (from pandas>=0.25->statsmodels) (2022.1)\n",
      "Requirement already satisfied: six in c:\\users\\study\\onedrive\\desktop\\du\\business_intelligence\\labs\\venv\\lib\\site-packages (from patsy>=0.5.2->statsmodels) (1.16.0)\n"
     ]
    },
    {
     "name": "stderr",
     "output_type": "stream",
     "text": [
      "WARNING: You are using pip version 22.0.4; however, version 22.1 is available.\n",
      "You should consider upgrading via the 'c:\\users\\study\\onedrive\\desktop\\du\\business_intelligence\\labs\\venv\\scripts\\python.exe -m pip install --upgrade pip' command.\n",
      "sys:1: ResourceWarning: unclosed socket <zmq.Socket(zmq.PUSH) at 0x116666c4160>\n",
      "ResourceWarning: Enable tracemalloc to get the object allocation traceback\n",
      "sys:1: ResourceWarning: unclosed socket <zmq.Socket(zmq.PUSH) at 0x116666c4100>\n",
      "ResourceWarning: Enable tracemalloc to get the object allocation traceback\n",
      "c:\\users\\study\\onedrive\\desktop\\du\\business_intelligence\\labs\\venv\\lib\\site-packages\\IPython\\utils\\_process_win32.py:124: ResourceWarning: unclosed file <_io.BufferedWriter name=4>\n",
      "  return process_handler(cmd, _system_body)\n",
      "ResourceWarning: Enable tracemalloc to get the object allocation traceback\n",
      "c:\\users\\study\\onedrive\\desktop\\du\\business_intelligence\\labs\\venv\\lib\\site-packages\\IPython\\utils\\_process_win32.py:124: ResourceWarning: unclosed file <_io.BufferedReader name=5>\n",
      "  return process_handler(cmd, _system_body)\n",
      "ResourceWarning: Enable tracemalloc to get the object allocation traceback\n",
      "c:\\users\\study\\onedrive\\desktop\\du\\business_intelligence\\labs\\venv\\lib\\site-packages\\IPython\\utils\\_process_win32.py:124: ResourceWarning: unclosed file <_io.BufferedReader name=6>\n",
      "  return process_handler(cmd, _system_body)\n",
      "ResourceWarning: Enable tracemalloc to get the object allocation traceback\n"
     ]
    }
   ],
   "source": [
    "!pip install sklearn\n",
    "from sklearn.model_selection import train_test_split\n",
    "from sklearn.linear_model import LogisticRegression\n",
    "from sklearn.metrics import classification_report\n",
    "from sklearn import metrics \n",
    "from sklearn.metrics import confusion_matrix\n",
    "!pip install statsmodels \n",
    "import matplotlib.pyplot as plt\n"
   ]
  },
  {
   "cell_type": "markdown",
   "id": "2f180324",
   "metadata": {},
   "source": [
    "We prepare are data to fit the model. y_hmdata is the dependent variable and x_hmdata is the independent variable"
   ]
  },
  {
   "cell_type": "code",
   "execution_count": 4,
   "id": "f8ee4c17",
   "metadata": {},
   "outputs": [
    {
     "data": {
      "text/plain": [
       "(15971, 37)"
      ]
     },
     "execution_count": 4,
     "metadata": {},
     "output_type": "execute_result"
    }
   ],
   "source": [
    "y_hmdata = hmdata[[\"product_group_name\"]] \n",
    "x_hmdata = hmdata[[\"graphical_appearance_name\",\"perceived_colour_value_name\"]]\n",
    "x_hmdata = pd.get_dummies(x_hmdata)\n",
    "x_hmdata.shape\n"
   ]
  },
  {
   "cell_type": "code",
   "execution_count": 5,
   "id": "66b4e0ee",
   "metadata": {},
   "outputs": [
    {
     "name": "stdout",
     "output_type": "stream",
     "text": [
      "(11978, 37) (11978, 1) (3993, 37) (3993, 1)\n"
     ]
    }
   ],
   "source": [
    "x_train,x_test,y_train,y_test=train_test_split(x_hmdata,y_hmdata,test_size=0.25,random_state=100)\n",
    "print(x_train.shape,y_train.shape,x_test.shape,y_test.shape)"
   ]
  },
  {
   "cell_type": "code",
   "execution_count": 6,
   "id": "724be814",
   "metadata": {},
   "outputs": [
    {
     "name": "stdout",
     "output_type": "stream",
     "text": [
      "{'C': 1.0, 'class_weight': None, 'dual': False, 'fit_intercept': True, 'intercept_scaling': 1, 'l1_ratio': None, 'max_iter': 1000000, 'multi_class': 'multinomial', 'n_jobs': None, 'penalty': 'none', 'random_state': 0, 'solver': 'saga', 'tol': 0.0001, 'verbose': 0, 'warm_start': False}\n"
     ]
    }
   ],
   "source": [
    "#fit model\n",
    "model1 = LogisticRegression(random_state=0, multi_class='multinomial', penalty='none', solver='saga',max_iter=1000000).fit(x_train, y_train.values.ravel())\n",
    "preds = model1.predict(x_test)\n",
    "params = model1.get_params()\n",
    "print(params)\n"
   ]
  },
  {
   "cell_type": "code",
   "execution_count": null,
   "id": "f1b850f5",
   "metadata": {},
   "outputs": [],
   "source": []
  },
  {
   "cell_type": "code",
   "execution_count": 7,
   "id": "8af11ccc",
   "metadata": {},
   "outputs": [
    {
     "data": {
      "text/plain": [
       "array([[5.37278858e-01, 1.29873949e+00, 1.15835773e-01, 4.67843305e+00,\n",
       "        4.40323563e+00, 4.67504488e-01, 9.17780427e+00, 9.68380106e+00,\n",
       "        6.25512941e-01, 2.45892288e+00, 1.07280852e+00, 1.30141406e+00,\n",
       "        2.50906031e+01, 3.77263600e+00, 7.76303282e-01, 3.84610121e-03,\n",
       "        1.99787122e+00, 2.54485097e-01, 1.27245479e-01, 8.40943025e-01,\n",
       "        5.64870109e-01, 1.00967129e+00, 7.12924553e+00, 7.99755747e+00,\n",
       "        3.03557200e-01, 3.72027206e-01, 1.66135302e-01, 1.25325309e+01,\n",
       "        6.01530076e-01, 8.30389870e-01, 6.38382384e-01, 8.43731152e-01,\n",
       "        5.19327233e-01, 9.48394331e-01, 6.62994648e-01, 5.20834419e+00,\n",
       "        1.38124011e+01],\n",
       "       [2.22221751e-01, 4.30135916e-01, 2.42475537e-01, 2.84936701e+00,\n",
       "        6.30961903e+00, 1.26931081e+00, 1.24961353e+01, 5.21227944e+01,\n",
       "        1.17819655e-01, 7.39932619e-01, 3.47768491e-01, 7.54150503e-01,\n",
       "        1.04885471e+01, 2.75981813e-01, 1.82133336e+00, 8.59774917e+00,\n",
       "        8.67514588e-01, 2.86697524e-01, 6.05957504e-02, 3.04387283e+00,\n",
       "        8.73341232e-01, 1.14907079e+00, 2.35582702e+00, 6.69097884e+00,\n",
       "        3.14957105e-01, 2.16261265e-01, 8.17512250e-02, 3.01881810e+01,\n",
       "        3.07099928e-01, 6.34662547e-01, 1.10885365e+00, 9.28589616e-01,\n",
       "        5.80821005e-01, 7.73525564e-01, 1.10092059e+00, 1.94691486e+00,\n",
       "        2.12532192e+01],\n",
       "       [6.26341787e-02, 5.27933098e-01, 6.76233479e+01, 6.60794037e-01,\n",
       "        2.02124377e+00, 5.55629513e-01, 5.05806662e+00, 1.15008675e+00,\n",
       "        5.90585682e-02, 6.25306160e-01, 2.07808751e+00, 2.06858098e-01,\n",
       "        9.50169157e+00, 4.16200009e-01, 1.51494751e+00, 3.58960117e+00,\n",
       "        7.49138044e-01, 1.50868359e-01, 3.27297416e+02, 5.89773342e-01,\n",
       "        2.57711340e-01, 8.58264626e-01, 2.32812931e+00, 6.85391798e+00,\n",
       "        1.11666534e-01, 1.29240016e-01, 2.31354906e-02, 6.23356829e+00,\n",
       "        7.33997465e+01, 1.88173600e+00, 1.83257593e+00, 2.34240134e+00,\n",
       "        2.57377069e+00, 2.46073983e+00, 1.98380440e+00, 1.24348184e+01,\n",
       "        3.07180526e-02],\n",
       "       [3.54276732e+01, 5.26351042e-02, 9.72786492e-01, 1.89124450e-01,\n",
       "        1.25412386e+03, 4.25444331e-02, 5.61868573e-01, 7.76309589e-02,\n",
       "        8.59547533e+01, 7.05793481e-02, 6.02915256e-02, 7.66272552e-02,\n",
       "        3.74234685e-01, 7.63275731e-02, 1.42212386e+02, 6.46981559e-01,\n",
       "        3.11310599e-01, 6.74985219e+01, 9.67993889e-01, 3.87388499e-01,\n",
       "        3.40096845e-02, 3.59238712e-02, 1.67646181e-01, 6.41037209e-01,\n",
       "        9.31649905e+00, 3.04174253e+01, 9.80030615e-01, 3.98999194e-01,\n",
       "        7.93261304e-01, 3.39685047e-01, 5.42010487e-01, 1.13666617e+00,\n",
       "        6.95454002e-01, 8.34762902e-01, 8.84130160e-01, 6.18102716e-02,\n",
       "        8.05611943e-01],\n",
       "       [3.55277573e-01, 7.14171748e+00, 7.48345427e-01, 1.29387996e+01,\n",
       "        1.20526084e-03, 3.03194330e+00, 1.98721607e-02, 1.26294993e+00,\n",
       "        1.79806839e-01, 1.28921125e+00, 5.45694978e-01, 6.70460289e+00,\n",
       "        1.11536580e-02, 6.90011284e-01, 7.53463896e-01, 7.15782282e+01,\n",
       "        4.84606958e+01, 3.05678759e-01, 5.02013727e-01, 2.65708040e+01,\n",
       "        2.38269372e+00, 1.54525322e+00, 5.49092019e+00, 2.59041181e-02,\n",
       "        1.80219897e+00, 2.73022427e-01, 3.69202145e+03, 1.10622161e-02,\n",
       "        2.22960211e-01, 1.77078222e+00, 2.40396736e+00, 1.93494099e+00,\n",
       "        2.51472652e+00, 1.65667417e+00, 2.77847996e+00, 1.27544259e-02,\n",
       "        3.02415760e-01],\n",
       "       [1.06240932e+01, 9.02017998e+00, 7.23224383e-01, 4.63920333e-02,\n",
       "        1.17810708e-02, 2.35124083e+01, 1.54390691e-01, 1.75701215e-02,\n",
       "        1.48657539e+01, 9.65980772e+00, 3.92028365e+01, 9.58732887e+00,\n",
       "        9.58100968e-02, 4.38162192e+01, 4.35694102e-03, 1.81917918e-01,\n",
       "        5.10517130e-02, 4.40307428e+00, 8.15426250e-01, 6.43532322e-02,\n",
       "        9.70650963e+01, 1.80912763e+01, 2.77822320e-02, 1.64195791e-01,\n",
       "        5.57865537e+00, 1.15805393e+01, 8.79551423e-01, 9.60668152e-02,\n",
       "        4.16989139e-01, 1.67638903e+00, 5.91625171e-01, 2.47747983e-01,\n",
       "        7.36525124e-01, 4.00562639e-01, 2.81132894e-01, 1.00598696e+01,\n",
       "        4.55178879e-01]])"
      ]
     },
     "execution_count": 7,
     "metadata": {},
     "output_type": "execute_result"
    }
   ],
   "source": [
    "#Calculate odds ratio estimates\n",
    "np.exp(model1.coef_)\n"
   ]
  },
  {
   "cell_type": "code",
   "execution_count": 8,
   "id": "264f6c46",
   "metadata": {
    "scrolled": true
   },
   "outputs": [
    {
     "name": "stdout",
     "output_type": "stream",
     "text": [
      "Intercept: \n",
      " [ 2.35203529  2.59336839  3.65754015 -5.23089456 -1.00033067 -2.3717186 ]\n",
      "Coefficients: \n",
      " [[-0.62123803  0.26139417 -2.15558184  1.54296324  1.48233964 -0.76034633\n",
      "   2.21678799  2.2704545  -0.46918326  0.8997234   0.07028     0.26345141\n",
      "   3.2224934   1.32777396 -0.25321201 -5.56069532  0.69208222 -1.368513\n",
      "  -2.06163716 -0.17323137 -0.57115947  0.00962483  1.96420541  2.07913618\n",
      "  -1.19218522 -0.98878829 -1.79495275  2.52832773 -0.50827874 -0.18585997\n",
      "  -0.44881783 -0.16992138 -0.65522109 -0.0529849  -0.41098836  1.65026199\n",
      "   2.62556682]\n",
      " [-1.50407952 -0.84365404 -1.41685445  1.04709687  1.8420753   0.23847408\n",
      "   2.52541942  3.95360237 -2.13860017 -0.30119615 -1.05621828 -0.28216332\n",
      "   2.35028391 -1.28742031  0.59956885  2.15150044 -0.14212295 -1.24932754\n",
      "  -2.80353051  1.11313066 -0.13542893  0.13895361  0.85689184  1.90076018\n",
      "  -1.15531882 -1.53126804 -2.50407449  3.40745049 -1.18058209 -0.45466184\n",
      "   0.10332673 -0.07408839 -0.54331265 -0.25679656  0.09614673  0.666246\n",
      "   3.05650838]\n",
      " [-2.77044416 -0.63878571  4.21395331 -0.41431308  0.70371305 -0.58765355\n",
      "   1.62098432  0.13983738 -2.82922565 -0.46951389  0.731448   -1.57572224\n",
      "   2.25146984 -0.87658934  0.41538079  1.2780411  -0.28883201 -1.89134762\n",
      "   5.79086929 -0.52801698 -1.35591516 -0.1528428   0.84506508  1.92482046\n",
      "  -2.19223822 -2.04608401 -3.76638745  1.82994893  4.29592048  0.63219476\n",
      "   0.60572259  0.85117662  0.94537202  0.90046205  0.68501641  2.52050047\n",
      "  -3.48290476]\n",
      " [ 3.56749324 -2.944372   -0.02759065 -1.66535001  7.13419249 -3.15720626\n",
      "  -0.57648731 -2.55578898  4.45382103 -2.6510177  -2.80856372 -2.56880245\n",
      "  -0.98287218 -2.57272103  4.95732161 -0.43543749 -1.16696416  4.2121057\n",
      "  -0.0325295  -0.94832722 -3.38110996 -3.32635327 -1.78589959 -0.44466778\n",
      "   2.23178692  3.41501564 -0.02017147 -0.91879588 -0.2316026  -1.07973642\n",
      "  -0.61246993  0.12809957 -0.36319041 -0.18060754 -0.12315099 -2.78368572\n",
      "  -0.21615311]\n",
      " [-1.0348559   1.96595329 -0.28989061  2.56023052 -6.72105927  1.10920377\n",
      "  -3.91843549  0.2334502  -1.71587212  0.2540306  -0.60569511  1.90279429\n",
      "  -4.49598777 -0.37104733 -0.28307418  4.27079095  3.88075307 -1.18522053\n",
      "  -0.68912782  3.27981302  0.86823166  0.43518779  1.70309585 -3.65335332\n",
      "   0.58900757 -1.29820134  8.21392941 -4.50421993 -1.50076195  0.57142138\n",
      "   0.87712044  0.66007683  0.92216406  0.50481208  1.021904   -4.36187694\n",
      "  -1.19595252]\n",
      " [ 2.36312437  2.19946429 -0.32403576 -3.07062753 -4.44126121  3.15752829\n",
      "  -1.86826894 -4.04155546  2.69906017  2.26797374  3.6687491   2.26044232\n",
      "  -2.3453872   3.78000405 -5.43598507 -1.7041997  -2.97491618  1.482303\n",
      "  -0.2040443  -2.74336812  4.57538185  2.89542985 -3.5833586  -1.80669571\n",
      "   1.71894777  2.44932604 -0.12834325 -2.34271134 -0.8746951   0.51664209\n",
      "  -0.524882   -1.39534325 -0.30581193 -0.91488512 -1.26892779  2.3085542\n",
      "  -0.7870648 ]]\n"
     ]
    }
   ],
   "source": [
    "#Print model parameters\n",
    "print('Intercept: \\n', model1.intercept_)\n",
    "print('Coefficients: \\n', model1.coef_)"
   ]
  },
  {
   "cell_type": "code",
   "execution_count": 9,
   "id": "ecc9bfae",
   "metadata": {},
   "outputs": [
    {
     "data": {
      "text/plain": [
       "array([[  11,   21,  606,    0,    0,    0],\n",
       "       [   4,  179,  760,    0,    0,    0],\n",
       "       [  17,   29, 2046,    0,    2,    0],\n",
       "       [   1,    0,   13,    0,    0,    0],\n",
       "       [   1,    0,  221,    0,    0,    0],\n",
       "       [  10,    0,   72,    0,    0,    0]], dtype=int64)"
      ]
     },
     "execution_count": 9,
     "metadata": {},
     "output_type": "execute_result"
    }
   ],
   "source": [
    "#Create a confusion matrix\n",
    "confusion_matrix(y_test, preds)\n"
   ]
  },
  {
   "attachments": {},
   "cell_type": "markdown",
   "id": "59fe5fe7",
   "metadata": {},
   "source": [
    "Predicted values are the column-wise values. Actual values are the row wise values\n"
   ]
  },
  {
   "cell_type": "markdown",
   "id": "23c875ff",
   "metadata": {},
   "source": [
    "Total test examples of any class = sum of corresponding row (TP + FN for that class)"
   ]
  },
  {
   "cell_type": "markdown",
   "id": "7d633712",
   "metadata": {},
   "source": [
    "TPs are the diagonal values of the matrix "
   ]
  },
  {
   "cell_type": "markdown",
   "id": "fa84e58b",
   "metadata": {},
   "source": [
    "Total FNs of a class = sum of values of corresponding rows - TPs"
   ]
  },
  {
   "cell_type": "markdown",
   "id": "6dc1375c",
   "metadata": {},
   "source": [
    "Total FPs of a class = sum of corresponding columns - TPs"
   ]
  },
  {
   "cell_type": "markdown",
   "id": "96e06e2d",
   "metadata": {},
   "source": [
    "Total TNs of a class = Sum of all columns and rows - sum of rows and colums of that perticular class\n"
   ]
  },
  {
   "cell_type": "code",
   "execution_count": 10,
   "id": "db5e96d9",
   "metadata": {},
   "outputs": [
    {
     "name": "stdout",
     "output_type": "stream",
     "text": [
      "Accuracy Score: 0.5599799649386427\n"
     ]
    }
   ],
   "source": [
    "#Accuracy statistics\n",
    "print('Accuracy Score:', metrics.accuracy_score(y_test, preds))\n"
   ]
  },
  {
   "cell_type": "code",
   "execution_count": 11,
   "id": "2e79326a",
   "metadata": {},
   "outputs": [
    {
     "name": "stdout",
     "output_type": "stream",
     "text": [
      "                    precision    recall  f1-score   support\n",
      "\n",
      " Garment Full body       0.25      0.02      0.03       638\n",
      "Garment Lower body       0.78      0.19      0.31       943\n",
      "Garment Upper body       0.55      0.98      0.70      2094\n",
      "         Nightwear       0.00      0.00      0.00        14\n",
      "             Shoes       0.00      0.00      0.00       222\n",
      "          Swimwear       0.00      0.00      0.00        82\n",
      "\n",
      "          accuracy                           0.56      3993\n",
      "         macro avg       0.26      0.20      0.17      3993\n",
      "      weighted avg       0.51      0.56      0.45      3993\n",
      "\n"
     ]
    },
    {
     "name": "stderr",
     "output_type": "stream",
     "text": [
      "c:\\users\\study\\onedrive\\desktop\\du\\business_intelligence\\labs\\venv\\lib\\site-packages\\sklearn\\metrics\\_classification.py:1318: UndefinedMetricWarning: Precision and F-score are ill-defined and being set to 0.0 in labels with no predicted samples. Use `zero_division` parameter to control this behavior.\n",
      "  _warn_prf(average, modifier, msg_start, len(result))\n",
      "c:\\users\\study\\onedrive\\desktop\\du\\business_intelligence\\labs\\venv\\lib\\site-packages\\sklearn\\metrics\\_classification.py:1318: UndefinedMetricWarning: Precision and F-score are ill-defined and being set to 0.0 in labels with no predicted samples. Use `zero_division` parameter to control this behavior.\n",
      "  _warn_prf(average, modifier, msg_start, len(result))\n",
      "c:\\users\\study\\onedrive\\desktop\\du\\business_intelligence\\labs\\venv\\lib\\site-packages\\sklearn\\metrics\\_classification.py:1318: UndefinedMetricWarning: Precision and F-score are ill-defined and being set to 0.0 in labels with no predicted samples. Use `zero_division` parameter to control this behavior.\n",
      "  _warn_prf(average, modifier, msg_start, len(result))\n"
     ]
    }
   ],
   "source": [
    "class_report=classification_report(y_test, preds)\n",
    "print(class_report)"
   ]
  },
  {
   "cell_type": "markdown",
   "id": "d49a0ba8",
   "metadata": {},
   "source": [
    "From confusion matrix we were able to point out that the product distribution is uneven and that most of the data is present in the first three classes, hence we only evaluate odds ratio for Upper garments (class 1), Lower garment (class 2) and Full body garments (class 3). From table<> we can say that there is indeed similarity in patterns and colours across products categories. The model generates an overall accuracy of 56% with a high f-score of 0.7 for upper garments (Class 1).  \\"
   ]
  }
 ],
 "metadata": {
  "kernelspec": {
   "display_name": "Python 3 (ipykernel)",
   "language": "python",
   "name": "python3"
  },
  "language_info": {
   "codemirror_mode": {
    "name": "ipython",
    "version": 3
   },
   "file_extension": ".py",
   "mimetype": "text/x-python",
   "name": "python",
   "nbconvert_exporter": "python",
   "pygments_lexer": "ipython3",
   "version": "3.10.2"
  }
 },
 "nbformat": 4,
 "nbformat_minor": 5
}
