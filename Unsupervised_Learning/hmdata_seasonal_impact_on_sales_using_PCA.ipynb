{
 "cells": [
  {
   "cell_type": "markdown",
   "id": "82607923",
   "metadata": {},
   "source": [
    "Loading required libraries"
   ]
  },
  {
   "cell_type": "code",
   "execution_count": 1,
   "id": "65048056",
   "metadata": {},
   "outputs": [],
   "source": [
    "import pandas as pd\n",
    "import numpy as np\n",
    "pd.set_option(\"display.max_rows\",None,\"display.max_columns\", None)\n",
    "import warnings\n",
    "warnings.filterwarnings('always') "
   ]
  },
  {
   "cell_type": "code",
   "execution_count": 2,
   "id": "ab08e7cc",
   "metadata": {},
   "outputs": [
    {
     "name": "stdout",
     "output_type": "stream",
     "text": [
      "Requirement already satisfied: scikit-learn in c:\\users\\study\\onedrive\\desktop\\du\\business_intelligence\\labs\\venv\\lib\\site-packages (1.0.2)\n",
      "Requirement already satisfied: scipy>=1.1.0 in c:\\users\\study\\onedrive\\desktop\\du\\business_intelligence\\labs\\venv\\lib\\site-packages (from scikit-learn) (1.8.0)\n",
      "Requirement already satisfied: numpy>=1.14.6 in c:\\users\\study\\onedrive\\desktop\\du\\business_intelligence\\labs\\venv\\lib\\site-packages (from scikit-learn) (1.22.3)\n",
      "Requirement already satisfied: joblib>=0.11 in c:\\users\\study\\onedrive\\desktop\\du\\business_intelligence\\labs\\venv\\lib\\site-packages (from scikit-learn) (1.1.0)\n",
      "Requirement already satisfied: threadpoolctl>=2.0.0 in c:\\users\\study\\onedrive\\desktop\\du\\business_intelligence\\labs\\venv\\lib\\site-packages (from scikit-learn) (3.1.0)\n"
     ]
    },
    {
     "name": "stderr",
     "output_type": "stream",
     "text": [
      "sys:1: ResourceWarning: unclosed socket <zmq.Socket(zmq.PUSH) at 0x29d67823ac0>\n",
      "ResourceWarning: Enable tracemalloc to get the object allocation traceback\n",
      "c:\\users\\study\\onedrive\\desktop\\du\\business_intelligence\\labs\\venv\\lib\\site-packages\\IPython\\utils\\_process_win32.py:124: ResourceWarning: unclosed file <_io.BufferedWriter name=4>\n",
      "  return process_handler(cmd, _system_body)\n",
      "ResourceWarning: Enable tracemalloc to get the object allocation traceback\n",
      "c:\\users\\study\\onedrive\\desktop\\du\\business_intelligence\\labs\\venv\\lib\\site-packages\\IPython\\utils\\_process_win32.py:124: ResourceWarning: unclosed file <_io.BufferedReader name=5>\n",
      "  return process_handler(cmd, _system_body)\n",
      "ResourceWarning: Enable tracemalloc to get the object allocation traceback\n",
      "c:\\users\\study\\onedrive\\desktop\\du\\business_intelligence\\labs\\venv\\lib\\site-packages\\IPython\\utils\\_process_win32.py:124: ResourceWarning: unclosed file <_io.BufferedReader name=6>\n",
      "  return process_handler(cmd, _system_body)\n",
      "ResourceWarning: Enable tracemalloc to get the object allocation traceback\n"
     ]
    }
   ],
   "source": [
    "!pip install scikit-learn\n",
    "import numpy as np\n",
    "import matplotlib.pyplot as plt  # To visualize\n",
    "import pandas as pd  # To read data"
   ]
  },
  {
   "cell_type": "markdown",
   "id": "c4ae740b",
   "metadata": {},
   "source": [
    "Loading dataset\n",
    "Since the dataset is huge, we sample only 1 % of it in our study. \n",
    "We then cleanse our dataset acccording to our model    "
   ]
  },
  {
   "cell_type": "code",
   "execution_count": 3,
   "id": "7a391669",
   "metadata": {},
   "outputs": [
    {
     "data": {
      "text/plain": [
       "(7986, 14)"
      ]
     },
     "execution_count": 3,
     "metadata": {},
     "output_type": "execute_result"
    }
   ],
   "source": [
    "hmdata = pd.read_csv('C:/Users/Study/OneDrive/Desktop/DU/Business_Intelligence/Home_assignment_BI/dataset_hm.csv')\n",
    "hmdata.head(10) \n",
    "hmtrain = hmdata.sample(frac=0.1, random_state=100)\n",
    "hmtrain.shape\n",
    "\n"
   ]
  },
  {
   "cell_type": "code",
   "execution_count": 10,
   "id": "f234e6c0",
   "metadata": {},
   "outputs": [
    {
     "data": {
      "text/plain": [
       "(0, 17)"
      ]
     },
     "execution_count": 10,
     "metadata": {},
     "output_type": "execute_result"
    }
   ],
   "source": [
    "# filter price\n",
    "hmtrain = hmtrain[(hmtrain['Price']>0)]\n",
    "hmtrain.shape\n",
    "hmtrain[(hmtrain['Price']<0)].shape"
   ]
  },
  {
   "cell_type": "code",
   "execution_count": 11,
   "id": "fca731f5",
   "metadata": {},
   "outputs": [
    {
     "data": {
      "text/html": [
       "<div>\n",
       "<style scoped>\n",
       "    .dataframe tbody tr th:only-of-type {\n",
       "        vertical-align: middle;\n",
       "    }\n",
       "\n",
       "    .dataframe tbody tr th {\n",
       "        vertical-align: top;\n",
       "    }\n",
       "\n",
       "    .dataframe thead th {\n",
       "        text-align: right;\n",
       "    }\n",
       "</style>\n",
       "<table border=\"1\" class=\"dataframe\">\n",
       "  <thead>\n",
       "    <tr style=\"text-align: right;\">\n",
       "      <th></th>\n",
       "      <th>t_date</th>\n",
       "      <th>product_type_no</th>\n",
       "      <th>product_type_name</th>\n",
       "      <th>product_group_no</th>\n",
       "      <th>product_group_name</th>\n",
       "      <th>graphical_appearance_no</th>\n",
       "      <th>graphical_appearance_name</th>\n",
       "      <th>colour_group_code</th>\n",
       "      <th>colour_group_name</th>\n",
       "      <th>perceived_colour_value_id</th>\n",
       "      <th>perceived_colour_value_name</th>\n",
       "      <th>index_group_no</th>\n",
       "      <th>index_group_name</th>\n",
       "      <th>Price</th>\n",
       "      <th>t_month</th>\n",
       "      <th>idxgrp_idx_prdtyp</th>\n",
       "      <th>year</th>\n",
       "    </tr>\n",
       "  </thead>\n",
       "  <tbody>\n",
       "    <tr>\n",
       "      <th>65748</th>\n",
       "      <td>2019-08-20</td>\n",
       "      <td>252</td>\n",
       "      <td>Sweater</td>\n",
       "      <td>3</td>\n",
       "      <td>Garment Upper body</td>\n",
       "      <td>1010008</td>\n",
       "      <td>Front print</td>\n",
       "      <td>73</td>\n",
       "      <td>Dark Blue</td>\n",
       "      <td>4</td>\n",
       "      <td>Dark</td>\n",
       "      <td>4</td>\n",
       "      <td>Baby/Children</td>\n",
       "      <td>0.012315</td>\n",
       "      <td>8</td>\n",
       "      <td>Baby/Children_Sweater</td>\n",
       "      <td>2019</td>\n",
       "    </tr>\n",
       "    <tr>\n",
       "      <th>48841</th>\n",
       "      <td>2019-08-21</td>\n",
       "      <td>252</td>\n",
       "      <td>Sweater</td>\n",
       "      <td>3</td>\n",
       "      <td>Garment Upper body</td>\n",
       "      <td>1010001</td>\n",
       "      <td>All over pattern</td>\n",
       "      <td>7</td>\n",
       "      <td>Grey</td>\n",
       "      <td>2</td>\n",
       "      <td>Medium Dusty</td>\n",
       "      <td>3</td>\n",
       "      <td>Menswear</td>\n",
       "      <td>0.033728</td>\n",
       "      <td>8</td>\n",
       "      <td>Menswear_Sweater</td>\n",
       "      <td>2019</td>\n",
       "    </tr>\n",
       "    <tr>\n",
       "      <th>58116</th>\n",
       "      <td>2019-09-19</td>\n",
       "      <td>255</td>\n",
       "      <td>T-shirt</td>\n",
       "      <td>3</td>\n",
       "      <td>Garment Upper body</td>\n",
       "      <td>1010014</td>\n",
       "      <td>Placement print</td>\n",
       "      <td>42</td>\n",
       "      <td>Red</td>\n",
       "      <td>5</td>\n",
       "      <td>Bright</td>\n",
       "      <td>4</td>\n",
       "      <td>Baby/Children</td>\n",
       "      <td>0.027390</td>\n",
       "      <td>9</td>\n",
       "      <td>Baby/Children_T-shirt</td>\n",
       "      <td>2019</td>\n",
       "    </tr>\n",
       "    <tr>\n",
       "      <th>62171</th>\n",
       "      <td>2019-10-18</td>\n",
       "      <td>272</td>\n",
       "      <td>Trousers</td>\n",
       "      <td>2</td>\n",
       "      <td>Garment Lower body</td>\n",
       "      <td>1010016</td>\n",
       "      <td>Solid</td>\n",
       "      <td>73</td>\n",
       "      <td>Dark Blue</td>\n",
       "      <td>4</td>\n",
       "      <td>Dark</td>\n",
       "      <td>4</td>\n",
       "      <td>Baby/Children</td>\n",
       "      <td>0.048582</td>\n",
       "      <td>10</td>\n",
       "      <td>Baby/Children_Trousers</td>\n",
       "      <td>2019</td>\n",
       "    </tr>\n",
       "    <tr>\n",
       "      <th>60294</th>\n",
       "      <td>2019-02-02</td>\n",
       "      <td>308</td>\n",
       "      <td>Hoodie</td>\n",
       "      <td>3</td>\n",
       "      <td>Garment Upper body</td>\n",
       "      <td>1010016</td>\n",
       "      <td>Solid</td>\n",
       "      <td>9</td>\n",
       "      <td>Black</td>\n",
       "      <td>4</td>\n",
       "      <td>Dark</td>\n",
       "      <td>2</td>\n",
       "      <td>Divided</td>\n",
       "      <td>0.028780</td>\n",
       "      <td>2</td>\n",
       "      <td>Divided_Hoodie</td>\n",
       "      <td>2019</td>\n",
       "    </tr>\n",
       "    <tr>\n",
       "      <th>7994</th>\n",
       "      <td>2019-07-16</td>\n",
       "      <td>272</td>\n",
       "      <td>Trousers</td>\n",
       "      <td>2</td>\n",
       "      <td>Garment Lower body</td>\n",
       "      <td>1010010</td>\n",
       "      <td>Melange</td>\n",
       "      <td>10</td>\n",
       "      <td>White</td>\n",
       "      <td>3</td>\n",
       "      <td>Light</td>\n",
       "      <td>4</td>\n",
       "      <td>Baby/Children</td>\n",
       "      <td>0.040482</td>\n",
       "      <td>7</td>\n",
       "      <td>Baby/Children_Trousers</td>\n",
       "      <td>2019</td>\n",
       "    </tr>\n",
       "  </tbody>\n",
       "</table>\n",
       "</div>"
      ],
      "text/plain": [
       "          t_date  product_type_no product_type_name  product_group_no  \\\n",
       "65748 2019-08-20              252           Sweater                 3   \n",
       "48841 2019-08-21              252           Sweater                 3   \n",
       "58116 2019-09-19              255           T-shirt                 3   \n",
       "62171 2019-10-18              272          Trousers                 2   \n",
       "60294 2019-02-02              308            Hoodie                 3   \n",
       "7994  2019-07-16              272          Trousers                 2   \n",
       "\n",
       "       product_group_name  graphical_appearance_no graphical_appearance_name  \\\n",
       "65748  Garment Upper body                  1010008               Front print   \n",
       "48841  Garment Upper body                  1010001          All over pattern   \n",
       "58116  Garment Upper body                  1010014           Placement print   \n",
       "62171  Garment Lower body                  1010016                     Solid   \n",
       "60294  Garment Upper body                  1010016                     Solid   \n",
       "7994   Garment Lower body                  1010010                   Melange   \n",
       "\n",
       "       colour_group_code colour_group_name  perceived_colour_value_id  \\\n",
       "65748                 73         Dark Blue                          4   \n",
       "48841                  7              Grey                          2   \n",
       "58116                 42               Red                          5   \n",
       "62171                 73         Dark Blue                          4   \n",
       "60294                  9             Black                          4   \n",
       "7994                  10             White                          3   \n",
       "\n",
       "      perceived_colour_value_name  index_group_no index_group_name     Price  \\\n",
       "65748                        Dark               4    Baby/Children  0.012315   \n",
       "48841                Medium Dusty               3         Menswear  0.033728   \n",
       "58116                      Bright               4    Baby/Children  0.027390   \n",
       "62171                        Dark               4    Baby/Children  0.048582   \n",
       "60294                        Dark               2          Divided  0.028780   \n",
       "7994                        Light               4    Baby/Children  0.040482   \n",
       "\n",
       "       t_month       idxgrp_idx_prdtyp  year  \n",
       "65748        8   Baby/Children_Sweater  2019  \n",
       "48841        8        Menswear_Sweater  2019  \n",
       "58116        9   Baby/Children_T-shirt  2019  \n",
       "62171       10  Baby/Children_Trousers  2019  \n",
       "60294        2          Divided_Hoodie  2019  \n",
       "7994         7  Baby/Children_Trousers  2019  "
      ]
     },
     "execution_count": 11,
     "metadata": {},
     "output_type": "execute_result"
    }
   ],
   "source": [
    "# Changing date format \n",
    "hmtrain['t_date'] = pd.to_datetime(hmtrain['t_date'],infer_datetime_format=True)\n",
    "hmtrain['t_date'].dt.strftime('%d/%m/%Y')\n",
    "hmtrain['t_month'] = pd.to_datetime(hmtrain['t_date']).dt.month\n",
    "hmtrain['t_month'].head(6)\n",
    "hmtrain.head(6)"
   ]
  },
  {
   "cell_type": "code",
   "execution_count": 6,
   "id": "ccafd2f3",
   "metadata": {},
   "outputs": [
    {
     "name": "stdout",
     "output_type": "stream",
     "text": [
      "<class 'pandas.core.frame.DataFrame'>\n",
      "Int64Index: 7471 entries, 65748 to 25965\n",
      "Data columns (total 15 columns):\n",
      " #   Column                       Non-Null Count  Dtype         \n",
      "---  ------                       --------------  -----         \n",
      " 0   t_date                       7471 non-null   datetime64[ns]\n",
      " 1   product_type_no              7471 non-null   int64         \n",
      " 2   product_type_name            7471 non-null   object        \n",
      " 3   product_group_no             7471 non-null   int64         \n",
      " 4   product_group_name           7471 non-null   object        \n",
      " 5   graphical_appearance_no      7471 non-null   int64         \n",
      " 6   graphical_appearance_name    7471 non-null   object        \n",
      " 7   colour_group_code            7471 non-null   int64         \n",
      " 8   colour_group_name            7471 non-null   object        \n",
      " 9   perceived_colour_value_id    7471 non-null   int64         \n",
      " 10  perceived_colour_value_name  7471 non-null   object        \n",
      " 11  index_group_no               7471 non-null   int64         \n",
      " 12  index_group_name             7471 non-null   object        \n",
      " 13  Price                        7471 non-null   float64       \n",
      " 14  t_month                      7471 non-null   int64         \n",
      "dtypes: datetime64[ns](1), float64(1), int64(7), object(6)\n",
      "memory usage: 933.9+ KB\n"
     ]
    }
   ],
   "source": [
    "hmtrain.info()"
   ]
  },
  {
   "cell_type": "markdown",
   "id": "b0879b87",
   "metadata": {},
   "source": [
    "\n",
    "\n",
    "\n",
    "We create a new dataframe hmtraingrp1 to keep only the columns we require to apply PCA"
   ]
  },
  {
   "cell_type": "code",
   "execution_count": 12,
   "id": "aef86b14",
   "metadata": {},
   "outputs": [
    {
     "data": {
      "text/html": [
       "<div>\n",
       "<style scoped>\n",
       "    .dataframe tbody tr th:only-of-type {\n",
       "        vertical-align: middle;\n",
       "    }\n",
       "\n",
       "    .dataframe tbody tr th {\n",
       "        vertical-align: top;\n",
       "    }\n",
       "\n",
       "    .dataframe thead th {\n",
       "        text-align: right;\n",
       "    }\n",
       "</style>\n",
       "<table border=\"1\" class=\"dataframe\">\n",
       "  <thead>\n",
       "    <tr style=\"text-align: right;\">\n",
       "      <th></th>\n",
       "      <th>idxgrp_idx_prdtyp</th>\n",
       "      <th>t_month</th>\n",
       "      <th>year</th>\n",
       "      <th>Price_x</th>\n",
       "      <th>Price_y</th>\n",
       "      <th>monthsales/ttl-sales</th>\n",
       "      <th>ym_date</th>\n",
       "    </tr>\n",
       "  </thead>\n",
       "  <tbody>\n",
       "    <tr>\n",
       "      <th>0</th>\n",
       "      <td>Baby/Children_Blazer</td>\n",
       "      <td>4</td>\n",
       "      <td>2019</td>\n",
       "      <td>0.076843</td>\n",
       "      <td>0.233459</td>\n",
       "      <td>32.914943</td>\n",
       "      <td>2019-04-01</td>\n",
       "    </tr>\n",
       "    <tr>\n",
       "      <th>1</th>\n",
       "      <td>Baby/Children_Blazer</td>\n",
       "      <td>6</td>\n",
       "      <td>2019</td>\n",
       "      <td>0.068315</td>\n",
       "      <td>0.233459</td>\n",
       "      <td>29.262149</td>\n",
       "      <td>2019-06-01</td>\n",
       "    </tr>\n",
       "    <tr>\n",
       "      <th>2</th>\n",
       "      <td>Baby/Children_Blazer</td>\n",
       "      <td>7</td>\n",
       "      <td>2019</td>\n",
       "      <td>0.015414</td>\n",
       "      <td>0.233459</td>\n",
       "      <td>6.602254</td>\n",
       "      <td>2019-07-01</td>\n",
       "    </tr>\n",
       "    <tr>\n",
       "      <th>3</th>\n",
       "      <td>Baby/Children_Blazer</td>\n",
       "      <td>9</td>\n",
       "      <td>2019</td>\n",
       "      <td>0.002060</td>\n",
       "      <td>0.233459</td>\n",
       "      <td>0.882184</td>\n",
       "      <td>2019-09-01</td>\n",
       "    </tr>\n",
       "    <tr>\n",
       "      <th>4</th>\n",
       "      <td>Baby/Children_Blazer</td>\n",
       "      <td>10</td>\n",
       "      <td>2019</td>\n",
       "      <td>0.049804</td>\n",
       "      <td>0.233459</td>\n",
       "      <td>21.332986</td>\n",
       "      <td>2019-10-01</td>\n",
       "    </tr>\n",
       "  </tbody>\n",
       "</table>\n",
       "</div>"
      ],
      "text/plain": [
       "      idxgrp_idx_prdtyp  t_month  year   Price_x   Price_y  \\\n",
       "0  Baby/Children_Blazer        4  2019  0.076843  0.233459   \n",
       "1  Baby/Children_Blazer        6  2019  0.068315  0.233459   \n",
       "2  Baby/Children_Blazer        7  2019  0.015414  0.233459   \n",
       "3  Baby/Children_Blazer        9  2019  0.002060  0.233459   \n",
       "4  Baby/Children_Blazer       10  2019  0.049804  0.233459   \n",
       "\n",
       "   monthsales/ttl-sales    ym_date  \n",
       "0             32.914943 2019-04-01  \n",
       "1             29.262149 2019-06-01  \n",
       "2              6.602254 2019-07-01  \n",
       "3              0.882184 2019-09-01  \n",
       "4             21.332986 2019-10-01  "
      ]
     },
     "execution_count": 12,
     "metadata": {},
     "output_type": "execute_result"
    }
   ],
   "source": [
    "hmtrain['idxgrp_idx_prdtyp'] = hmtrain['index_group_name'] + '_' + hmtrain['product_type_name']\n",
    "hmtrain['idxgrp_idx_prdtyp'].head(6)\n",
    "hmtrain['year'] = hmtrain['t_date'].dt.year\n",
    "hmtrain['t_month'] = hmtrain['t_date'].dt.month\n",
    "hmtraingrp1 = hmtrain.groupby(['idxgrp_idx_prdtyp'])[['Price']].sum().reset_index()\n",
    "hmtraingrp2 = hmtrain.groupby(['idxgrp_idx_prdtyp','t_month','year'])[['Price']].sum().reset_index()\n",
    "hmtraingrp2 = pd.merge(hmtraingrp2, hmtraingrp1, on='idxgrp_idx_prdtyp', how='left')\n",
    "hmtraingrp2['monthsales/ttl-sales'] = hmtraingrp2['Price_x'] / hmtraingrp2['Price_y'] * 100\n",
    "hmtraingrp2['ym_date'] = hmtraingrp2['year'].astype(str) + '-' + hmtraingrp2['t_month'].astype(str) + '-1'\n",
    "hmtraingrp2['ym_date'] = pd.to_datetime(hmtraingrp2['ym_date'])\n",
    "hmtraingrp2.head(5)\n"
   ]
  },
  {
   "cell_type": "markdown",
   "id": "4e59e495",
   "metadata": {},
   "source": [
    "We create a pivot table from the hmtraingrp2 which is then inputted in the PCA model "
   ]
  },
  {
   "cell_type": "code",
   "execution_count": 13,
   "id": "c89f6c8b",
   "metadata": {},
   "outputs": [
    {
     "data": {
      "text/html": [
       "<div>\n",
       "<style scoped>\n",
       "    .dataframe tbody tr th:only-of-type {\n",
       "        vertical-align: middle;\n",
       "    }\n",
       "\n",
       "    .dataframe tbody tr th {\n",
       "        vertical-align: top;\n",
       "    }\n",
       "\n",
       "    .dataframe thead th {\n",
       "        text-align: right;\n",
       "    }\n",
       "</style>\n",
       "<table border=\"1\" class=\"dataframe\">\n",
       "  <thead>\n",
       "    <tr style=\"text-align: right;\">\n",
       "      <th>idxgrp_idx_prdtyp</th>\n",
       "      <th>ym_date</th>\n",
       "      <th>Baby/Children_Blazer</th>\n",
       "      <th>Baby/Children_Blouse</th>\n",
       "      <th>Baby/Children_Bodysuit</th>\n",
       "      <th>Baby/Children_Boots</th>\n",
       "      <th>Baby/Children_Cardigan</th>\n",
       "      <th>Baby/Children_Coat</th>\n",
       "      <th>Baby/Children_Costumes</th>\n",
       "      <th>Baby/Children_Dress</th>\n",
       "      <th>Baby/Children_Dungarees</th>\n",
       "      <th>Baby/Children_Flat shoe</th>\n",
       "      <th>Baby/Children_Flip flop</th>\n",
       "      <th>Baby/Children_Hoodie</th>\n",
       "      <th>Baby/Children_Jacket</th>\n",
       "      <th>Baby/Children_Jumpsuit/Playsuit</th>\n",
       "      <th>Baby/Children_Leggings/Tights</th>\n",
       "      <th>Baby/Children_Polo shirt</th>\n",
       "      <th>Baby/Children_Pyjama bottom</th>\n",
       "      <th>Baby/Children_Sandals</th>\n",
       "      <th>Baby/Children_Shirt</th>\n",
       "      <th>Baby/Children_Shorts</th>\n",
       "      <th>Baby/Children_Skirt</th>\n",
       "      <th>Baby/Children_Sneakers</th>\n",
       "      <th>Baby/Children_Sweater</th>\n",
       "      <th>Baby/Children_Swimsuit</th>\n",
       "      <th>Baby/Children_T-shirt</th>\n",
       "      <th>Baby/Children_Top</th>\n",
       "      <th>Baby/Children_Trousers</th>\n",
       "      <th>Baby/Children_Vest top</th>\n",
       "      <th>Divided_Bikini top</th>\n",
       "      <th>Divided_Blazer</th>\n",
       "      <th>Divided_Blouse</th>\n",
       "      <th>Divided_Bodysuit</th>\n",
       "      <th>Divided_Boots</th>\n",
       "      <th>Divided_Cardigan</th>\n",
       "      <th>Divided_Coat</th>\n",
       "      <th>Divided_Dress</th>\n",
       "      <th>Divided_Dungarees</th>\n",
       "      <th>Divided_Flat shoe</th>\n",
       "      <th>Divided_Flip flop</th>\n",
       "      <th>Divided_Hoodie</th>\n",
       "      <th>Divided_Jacket</th>\n",
       "      <th>Divided_Jumpsuit/Playsuit</th>\n",
       "      <th>Divided_Leggings/Tights</th>\n",
       "      <th>Divided_Pumps</th>\n",
       "      <th>Divided_Sandals</th>\n",
       "      <th>Divided_Shirt</th>\n",
       "      <th>Divided_Shorts</th>\n",
       "      <th>Divided_Skirt</th>\n",
       "      <th>Divided_Sneakers</th>\n",
       "      <th>Divided_Sweater</th>\n",
       "      <th>Divided_Swimsuit</th>\n",
       "      <th>Divided_T-shirt</th>\n",
       "      <th>Divided_Top</th>\n",
       "      <th>Divided_Trousers</th>\n",
       "      <th>Divided_Vest top</th>\n",
       "      <th>Divided_Wedge</th>\n",
       "      <th>Ladieswear_Bikini top</th>\n",
       "      <th>Ladieswear_Blazer</th>\n",
       "      <th>Ladieswear_Blouse</th>\n",
       "      <th>Ladieswear_Bodysuit</th>\n",
       "      <th>Ladieswear_Boots</th>\n",
       "      <th>Ladieswear_Cardigan</th>\n",
       "      <th>Ladieswear_Coat</th>\n",
       "      <th>Ladieswear_Costumes</th>\n",
       "      <th>Ladieswear_Dress</th>\n",
       "      <th>Ladieswear_Flat shoe</th>\n",
       "      <th>Ladieswear_Flip flop</th>\n",
       "      <th>Ladieswear_Hoodie</th>\n",
       "      <th>Ladieswear_Jacket</th>\n",
       "      <th>Ladieswear_Jumpsuit/Playsuit</th>\n",
       "      <th>Ladieswear_Leggings/Tights</th>\n",
       "      <th>Ladieswear_Polo shirt</th>\n",
       "      <th>Ladieswear_Pumps</th>\n",
       "      <th>Ladieswear_Pyjama bottom</th>\n",
       "      <th>Ladieswear_Sandals</th>\n",
       "      <th>Ladieswear_Shirt</th>\n",
       "      <th>Ladieswear_Shorts</th>\n",
       "      <th>Ladieswear_Skirt</th>\n",
       "      <th>Ladieswear_Sneakers</th>\n",
       "      <th>Ladieswear_Sweater</th>\n",
       "      <th>Ladieswear_Swimsuit</th>\n",
       "      <th>Ladieswear_T-shirt</th>\n",
       "      <th>Ladieswear_Top</th>\n",
       "      <th>Ladieswear_Trousers</th>\n",
       "      <th>Ladieswear_Vest top</th>\n",
       "      <th>Ladieswear_Wedge</th>\n",
       "      <th>Mama_Blouse</th>\n",
       "      <th>Mama_Dress</th>\n",
       "      <th>Mama_Dungarees</th>\n",
       "      <th>Mama_Hoodie</th>\n",
       "      <th>Mama_Jacket</th>\n",
       "      <th>Mama_Leggings/Tights</th>\n",
       "      <th>Mama_Shirt</th>\n",
       "      <th>Mama_Shorts</th>\n",
       "      <th>Mama_Skirt</th>\n",
       "      <th>Mama_Sweater</th>\n",
       "      <th>Mama_T-shirt</th>\n",
       "      <th>Mama_Top</th>\n",
       "      <th>Mama_Trousers</th>\n",
       "      <th>Mama_Vest top</th>\n",
       "      <th>Menswear_Blazer</th>\n",
       "      <th>Menswear_Boots</th>\n",
       "      <th>Menswear_Cardigan</th>\n",
       "      <th>Menswear_Coat</th>\n",
       "      <th>Menswear_Flip flop</th>\n",
       "      <th>Menswear_Hoodie</th>\n",
       "      <th>Menswear_Jacket</th>\n",
       "      <th>Menswear_Polo shirt</th>\n",
       "      <th>Menswear_Pyjama bottom</th>\n",
       "      <th>Menswear_Sandals</th>\n",
       "      <th>Menswear_Shirt</th>\n",
       "      <th>Menswear_Shorts</th>\n",
       "      <th>Menswear_Sneakers</th>\n",
       "      <th>Menswear_Sweater</th>\n",
       "      <th>Menswear_T-shirt</th>\n",
       "      <th>Menswear_Top</th>\n",
       "      <th>Menswear_Trousers</th>\n",
       "      <th>Menswear_Vest top</th>\n",
       "      <th>Sport_Bikini top</th>\n",
       "      <th>Sport_Hoodie</th>\n",
       "      <th>Sport_Jacket</th>\n",
       "      <th>Sport_Leggings/Tights</th>\n",
       "      <th>Sport_Shorts</th>\n",
       "      <th>Sport_Skirt</th>\n",
       "      <th>Sport_Sweater</th>\n",
       "      <th>Sport_T-shirt</th>\n",
       "      <th>Sport_Top</th>\n",
       "      <th>Sport_Trousers</th>\n",
       "      <th>Sport_Vest top</th>\n",
       "    </tr>\n",
       "  </thead>\n",
       "  <tbody>\n",
       "    <tr>\n",
       "      <th>0</th>\n",
       "      <td>2019-01-01</td>\n",
       "      <td>0.000000</td>\n",
       "      <td>6.303199</td>\n",
       "      <td>12.417352</td>\n",
       "      <td>19.045830</td>\n",
       "      <td>3.588803</td>\n",
       "      <td>0.000000</td>\n",
       "      <td>0.00000</td>\n",
       "      <td>9.764627</td>\n",
       "      <td>19.506538</td>\n",
       "      <td>0.0</td>\n",
       "      <td>0.0</td>\n",
       "      <td>6.988347</td>\n",
       "      <td>5.195795</td>\n",
       "      <td>8.956111</td>\n",
       "      <td>7.493526</td>\n",
       "      <td>0.000000</td>\n",
       "      <td>0.000000</td>\n",
       "      <td>6.124670</td>\n",
       "      <td>4.258904</td>\n",
       "      <td>11.975772</td>\n",
       "      <td>3.382258</td>\n",
       "      <td>13.667443</td>\n",
       "      <td>7.279429</td>\n",
       "      <td>11.941819</td>\n",
       "      <td>8.099974</td>\n",
       "      <td>4.501385</td>\n",
       "      <td>6.616941</td>\n",
       "      <td>3.316538</td>\n",
       "      <td>0.000000</td>\n",
       "      <td>14.512992</td>\n",
       "      <td>8.909308</td>\n",
       "      <td>0.000000</td>\n",
       "      <td>31.93357</td>\n",
       "      <td>8.049003</td>\n",
       "      <td>13.431159</td>\n",
       "      <td>9.062424</td>\n",
       "      <td>5.328354</td>\n",
       "      <td>0.0</td>\n",
       "      <td>0.0</td>\n",
       "      <td>4.248393</td>\n",
       "      <td>7.006242</td>\n",
       "      <td>0.000000</td>\n",
       "      <td>0.000000</td>\n",
       "      <td>0.000000</td>\n",
       "      <td>0.000000</td>\n",
       "      <td>7.328526</td>\n",
       "      <td>11.348631</td>\n",
       "      <td>12.624216</td>\n",
       "      <td>0.000000</td>\n",
       "      <td>13.711682</td>\n",
       "      <td>0.0</td>\n",
       "      <td>12.909023</td>\n",
       "      <td>17.972537</td>\n",
       "      <td>10.987286</td>\n",
       "      <td>0.897703</td>\n",
       "      <td>0.0</td>\n",
       "      <td>5.424441</td>\n",
       "      <td>16.118394</td>\n",
       "      <td>10.288805</td>\n",
       "      <td>22.354497</td>\n",
       "      <td>12.135786</td>\n",
       "      <td>3.625102</td>\n",
       "      <td>3.439388</td>\n",
       "      <td>0.0</td>\n",
       "      <td>8.496651</td>\n",
       "      <td>0.000000</td>\n",
       "      <td>0.0</td>\n",
       "      <td>4.909607</td>\n",
       "      <td>6.490705</td>\n",
       "      <td>6.800765</td>\n",
       "      <td>0.000000</td>\n",
       "      <td>0.0</td>\n",
       "      <td>24.748785</td>\n",
       "      <td>7.743122</td>\n",
       "      <td>5.093872</td>\n",
       "      <td>3.323887</td>\n",
       "      <td>5.228762</td>\n",
       "      <td>5.776455</td>\n",
       "      <td>9.835185</td>\n",
       "      <td>7.576345</td>\n",
       "      <td>5.009910</td>\n",
       "      <td>7.471761</td>\n",
       "      <td>7.877292</td>\n",
       "      <td>6.690630</td>\n",
       "      <td>8.894658</td>\n",
       "      <td>14.776245</td>\n",
       "      <td>11.445495</td>\n",
       "      <td>8.167600</td>\n",
       "      <td>0.0</td>\n",
       "      <td>0.0</td>\n",
       "      <td>0.0</td>\n",
       "      <td>0.0</td>\n",
       "      <td>11.644956</td>\n",
       "      <td>6.888790</td>\n",
       "      <td>0.000000</td>\n",
       "      <td>0.000000</td>\n",
       "      <td>13.397633</td>\n",
       "      <td>18.543087</td>\n",
       "      <td>6.225377</td>\n",
       "      <td>22.990930</td>\n",
       "      <td>2.970256</td>\n",
       "      <td>26.994173</td>\n",
       "      <td>0.000000</td>\n",
       "      <td>8.701523</td>\n",
       "      <td>0.000000</td>\n",
       "      <td>19.283668</td>\n",
       "      <td>4.418523</td>\n",
       "      <td>14.978031</td>\n",
       "      <td>11.488860</td>\n",
       "      <td>0.000000</td>\n",
       "      <td>6.111974</td>\n",
       "      <td>8.272117</td>\n",
       "      <td>5.824312</td>\n",
       "      <td>5.285711</td>\n",
       "      <td>6.105708</td>\n",
       "      <td>11.942273</td>\n",
       "      <td>10.987265</td>\n",
       "      <td>19.048139</td>\n",
       "      <td>0.0</td>\n",
       "      <td>7.208807</td>\n",
       "      <td>15.685133</td>\n",
       "      <td>9.311371</td>\n",
       "      <td>2.128620</td>\n",
       "      <td>0.0</td>\n",
       "      <td>5.295761</td>\n",
       "      <td>4.882291</td>\n",
       "      <td>6.999806</td>\n",
       "      <td>6.061271</td>\n",
       "      <td>17.823269</td>\n",
       "    </tr>\n",
       "    <tr>\n",
       "      <th>1</th>\n",
       "      <td>2019-02-01</td>\n",
       "      <td>0.000000</td>\n",
       "      <td>8.241257</td>\n",
       "      <td>7.481470</td>\n",
       "      <td>7.569144</td>\n",
       "      <td>18.786410</td>\n",
       "      <td>0.000000</td>\n",
       "      <td>0.00000</td>\n",
       "      <td>11.025010</td>\n",
       "      <td>3.006534</td>\n",
       "      <td>0.0</td>\n",
       "      <td>0.0</td>\n",
       "      <td>10.264796</td>\n",
       "      <td>3.398480</td>\n",
       "      <td>12.287756</td>\n",
       "      <td>12.831751</td>\n",
       "      <td>0.000000</td>\n",
       "      <td>81.879451</td>\n",
       "      <td>8.176638</td>\n",
       "      <td>7.492396</td>\n",
       "      <td>9.006790</td>\n",
       "      <td>7.279274</td>\n",
       "      <td>8.225751</td>\n",
       "      <td>11.036523</td>\n",
       "      <td>12.580496</td>\n",
       "      <td>6.400308</td>\n",
       "      <td>5.130695</td>\n",
       "      <td>5.731506</td>\n",
       "      <td>12.867919</td>\n",
       "      <td>36.336643</td>\n",
       "      <td>9.900682</td>\n",
       "      <td>11.250020</td>\n",
       "      <td>0.000000</td>\n",
       "      <td>0.00000</td>\n",
       "      <td>5.778156</td>\n",
       "      <td>0.000000</td>\n",
       "      <td>8.558287</td>\n",
       "      <td>0.000000</td>\n",
       "      <td>0.0</td>\n",
       "      <td>0.0</td>\n",
       "      <td>18.852408</td>\n",
       "      <td>10.901827</td>\n",
       "      <td>0.000000</td>\n",
       "      <td>0.000000</td>\n",
       "      <td>0.000000</td>\n",
       "      <td>9.905465</td>\n",
       "      <td>7.646983</td>\n",
       "      <td>14.318266</td>\n",
       "      <td>4.903866</td>\n",
       "      <td>8.112215</td>\n",
       "      <td>7.040387</td>\n",
       "      <td>0.0</td>\n",
       "      <td>10.845918</td>\n",
       "      <td>6.330269</td>\n",
       "      <td>4.856348</td>\n",
       "      <td>6.839065</td>\n",
       "      <td>0.0</td>\n",
       "      <td>7.135436</td>\n",
       "      <td>5.097194</td>\n",
       "      <td>9.284343</td>\n",
       "      <td>11.274544</td>\n",
       "      <td>2.973559</td>\n",
       "      <td>8.527722</td>\n",
       "      <td>3.011212</td>\n",
       "      <td>0.0</td>\n",
       "      <td>8.171786</td>\n",
       "      <td>10.418083</td>\n",
       "      <td>0.0</td>\n",
       "      <td>12.896135</td>\n",
       "      <td>4.555306</td>\n",
       "      <td>0.000000</td>\n",
       "      <td>4.359150</td>\n",
       "      <td>0.0</td>\n",
       "      <td>11.147820</td>\n",
       "      <td>0.000000</td>\n",
       "      <td>0.000000</td>\n",
       "      <td>2.504615</td>\n",
       "      <td>6.406466</td>\n",
       "      <td>6.486920</td>\n",
       "      <td>6.088323</td>\n",
       "      <td>7.843561</td>\n",
       "      <td>15.541007</td>\n",
       "      <td>11.555731</td>\n",
       "      <td>8.228327</td>\n",
       "      <td>7.529567</td>\n",
       "      <td>11.631589</td>\n",
       "      <td>0.000000</td>\n",
       "      <td>0.000000</td>\n",
       "      <td>5.399979</td>\n",
       "      <td>0.0</td>\n",
       "      <td>0.0</td>\n",
       "      <td>0.0</td>\n",
       "      <td>0.0</td>\n",
       "      <td>0.000000</td>\n",
       "      <td>27.580395</td>\n",
       "      <td>0.000000</td>\n",
       "      <td>0.000000</td>\n",
       "      <td>16.023322</td>\n",
       "      <td>10.905258</td>\n",
       "      <td>11.033021</td>\n",
       "      <td>0.000000</td>\n",
       "      <td>2.303539</td>\n",
       "      <td>0.000000</td>\n",
       "      <td>9.720879</td>\n",
       "      <td>11.262835</td>\n",
       "      <td>0.000000</td>\n",
       "      <td>9.896551</td>\n",
       "      <td>2.784886</td>\n",
       "      <td>0.271690</td>\n",
       "      <td>26.220827</td>\n",
       "      <td>0.000000</td>\n",
       "      <td>5.230789</td>\n",
       "      <td>3.938853</td>\n",
       "      <td>7.243146</td>\n",
       "      <td>7.959921</td>\n",
       "      <td>10.097889</td>\n",
       "      <td>4.716590</td>\n",
       "      <td>7.586789</td>\n",
       "      <td>6.466849</td>\n",
       "      <td>0.0</td>\n",
       "      <td>0.000000</td>\n",
       "      <td>0.000000</td>\n",
       "      <td>4.364593</td>\n",
       "      <td>11.020022</td>\n",
       "      <td>0.0</td>\n",
       "      <td>0.000000</td>\n",
       "      <td>1.260874</td>\n",
       "      <td>4.354477</td>\n",
       "      <td>11.992155</td>\n",
       "      <td>20.553734</td>\n",
       "    </tr>\n",
       "    <tr>\n",
       "      <th>2</th>\n",
       "      <td>2019-03-01</td>\n",
       "      <td>0.000000</td>\n",
       "      <td>2.458142</td>\n",
       "      <td>9.217476</td>\n",
       "      <td>4.042403</td>\n",
       "      <td>4.450840</td>\n",
       "      <td>0.000000</td>\n",
       "      <td>0.00000</td>\n",
       "      <td>9.651423</td>\n",
       "      <td>0.000000</td>\n",
       "      <td>0.0</td>\n",
       "      <td>0.0</td>\n",
       "      <td>4.640947</td>\n",
       "      <td>4.073892</td>\n",
       "      <td>10.202360</td>\n",
       "      <td>7.315479</td>\n",
       "      <td>20.705072</td>\n",
       "      <td>0.000000</td>\n",
       "      <td>5.270966</td>\n",
       "      <td>9.925192</td>\n",
       "      <td>8.231631</td>\n",
       "      <td>4.418709</td>\n",
       "      <td>7.893665</td>\n",
       "      <td>7.777303</td>\n",
       "      <td>6.737616</td>\n",
       "      <td>8.216463</td>\n",
       "      <td>10.636698</td>\n",
       "      <td>7.820457</td>\n",
       "      <td>6.814102</td>\n",
       "      <td>0.000000</td>\n",
       "      <td>0.000000</td>\n",
       "      <td>6.865014</td>\n",
       "      <td>8.666006</td>\n",
       "      <td>0.00000</td>\n",
       "      <td>3.160193</td>\n",
       "      <td>0.000000</td>\n",
       "      <td>10.058838</td>\n",
       "      <td>0.000000</td>\n",
       "      <td>0.0</td>\n",
       "      <td>0.0</td>\n",
       "      <td>11.001616</td>\n",
       "      <td>8.417440</td>\n",
       "      <td>12.911687</td>\n",
       "      <td>30.748977</td>\n",
       "      <td>0.000000</td>\n",
       "      <td>0.000000</td>\n",
       "      <td>13.449191</td>\n",
       "      <td>11.639008</td>\n",
       "      <td>8.859267</td>\n",
       "      <td>34.020395</td>\n",
       "      <td>6.632031</td>\n",
       "      <td>0.0</td>\n",
       "      <td>8.094164</td>\n",
       "      <td>9.559651</td>\n",
       "      <td>9.330088</td>\n",
       "      <td>6.347923</td>\n",
       "      <td>0.0</td>\n",
       "      <td>8.100776</td>\n",
       "      <td>7.627676</td>\n",
       "      <td>16.403878</td>\n",
       "      <td>15.213716</td>\n",
       "      <td>9.216989</td>\n",
       "      <td>9.622115</td>\n",
       "      <td>1.133152</td>\n",
       "      <td>0.0</td>\n",
       "      <td>10.262344</td>\n",
       "      <td>9.999969</td>\n",
       "      <td>0.0</td>\n",
       "      <td>23.087641</td>\n",
       "      <td>7.266949</td>\n",
       "      <td>4.945518</td>\n",
       "      <td>9.177403</td>\n",
       "      <td>0.0</td>\n",
       "      <td>0.000000</td>\n",
       "      <td>7.411986</td>\n",
       "      <td>18.854167</td>\n",
       "      <td>10.764632</td>\n",
       "      <td>18.247673</td>\n",
       "      <td>12.908204</td>\n",
       "      <td>9.623819</td>\n",
       "      <td>6.148998</td>\n",
       "      <td>4.190783</td>\n",
       "      <td>11.177168</td>\n",
       "      <td>3.925703</td>\n",
       "      <td>11.321960</td>\n",
       "      <td>8.677747</td>\n",
       "      <td>0.000000</td>\n",
       "      <td>17.392688</td>\n",
       "      <td>10.910087</td>\n",
       "      <td>0.0</td>\n",
       "      <td>0.0</td>\n",
       "      <td>0.0</td>\n",
       "      <td>0.0</td>\n",
       "      <td>14.295402</td>\n",
       "      <td>0.000000</td>\n",
       "      <td>0.000000</td>\n",
       "      <td>25.113251</td>\n",
       "      <td>0.000000</td>\n",
       "      <td>8.660580</td>\n",
       "      <td>3.551728</td>\n",
       "      <td>0.000000</td>\n",
       "      <td>26.368540</td>\n",
       "      <td>0.000000</td>\n",
       "      <td>16.318321</td>\n",
       "      <td>6.301694</td>\n",
       "      <td>0.000000</td>\n",
       "      <td>17.517525</td>\n",
       "      <td>6.367874</td>\n",
       "      <td>9.917732</td>\n",
       "      <td>5.627003</td>\n",
       "      <td>0.000000</td>\n",
       "      <td>12.323871</td>\n",
       "      <td>13.651302</td>\n",
       "      <td>3.401375</td>\n",
       "      <td>16.416840</td>\n",
       "      <td>16.920429</td>\n",
       "      <td>0.000000</td>\n",
       "      <td>7.464389</td>\n",
       "      <td>3.571832</td>\n",
       "      <td>0.0</td>\n",
       "      <td>11.243561</td>\n",
       "      <td>0.000000</td>\n",
       "      <td>9.635380</td>\n",
       "      <td>9.290491</td>\n",
       "      <td>0.0</td>\n",
       "      <td>16.708249</td>\n",
       "      <td>13.548191</td>\n",
       "      <td>0.000000</td>\n",
       "      <td>2.299915</td>\n",
       "      <td>5.250796</td>\n",
       "    </tr>\n",
       "    <tr>\n",
       "      <th>3</th>\n",
       "      <td>2019-04-01</td>\n",
       "      <td>32.914943</td>\n",
       "      <td>5.882420</td>\n",
       "      <td>9.977619</td>\n",
       "      <td>5.571613</td>\n",
       "      <td>7.162790</td>\n",
       "      <td>0.000000</td>\n",
       "      <td>0.00000</td>\n",
       "      <td>9.695971</td>\n",
       "      <td>0.000000</td>\n",
       "      <td>0.0</td>\n",
       "      <td>0.0</td>\n",
       "      <td>8.151060</td>\n",
       "      <td>6.109482</td>\n",
       "      <td>4.901810</td>\n",
       "      <td>7.085246</td>\n",
       "      <td>9.018716</td>\n",
       "      <td>0.000000</td>\n",
       "      <td>7.022992</td>\n",
       "      <td>6.759743</td>\n",
       "      <td>8.192214</td>\n",
       "      <td>6.983813</td>\n",
       "      <td>7.597320</td>\n",
       "      <td>8.657527</td>\n",
       "      <td>9.471364</td>\n",
       "      <td>6.862837</td>\n",
       "      <td>12.105263</td>\n",
       "      <td>11.485833</td>\n",
       "      <td>8.273758</td>\n",
       "      <td>17.129597</td>\n",
       "      <td>15.715548</td>\n",
       "      <td>6.053921</td>\n",
       "      <td>0.000000</td>\n",
       "      <td>0.00000</td>\n",
       "      <td>7.910758</td>\n",
       "      <td>0.000000</td>\n",
       "      <td>9.291903</td>\n",
       "      <td>10.717841</td>\n",
       "      <td>0.0</td>\n",
       "      <td>0.0</td>\n",
       "      <td>11.276320</td>\n",
       "      <td>4.560055</td>\n",
       "      <td>8.198471</td>\n",
       "      <td>5.699406</td>\n",
       "      <td>42.044022</td>\n",
       "      <td>4.830703</td>\n",
       "      <td>5.696786</td>\n",
       "      <td>8.092926</td>\n",
       "      <td>8.260851</td>\n",
       "      <td>14.169384</td>\n",
       "      <td>7.303080</td>\n",
       "      <td>0.0</td>\n",
       "      <td>2.611052</td>\n",
       "      <td>2.403754</td>\n",
       "      <td>3.875551</td>\n",
       "      <td>12.156054</td>\n",
       "      <td>0.0</td>\n",
       "      <td>3.359265</td>\n",
       "      <td>6.259170</td>\n",
       "      <td>5.876330</td>\n",
       "      <td>2.305002</td>\n",
       "      <td>16.749163</td>\n",
       "      <td>8.386181</td>\n",
       "      <td>22.387108</td>\n",
       "      <td>0.0</td>\n",
       "      <td>9.334288</td>\n",
       "      <td>0.000000</td>\n",
       "      <td>0.0</td>\n",
       "      <td>9.834558</td>\n",
       "      <td>9.269442</td>\n",
       "      <td>9.520741</td>\n",
       "      <td>0.000000</td>\n",
       "      <td>0.0</td>\n",
       "      <td>2.907629</td>\n",
       "      <td>11.539721</td>\n",
       "      <td>7.760783</td>\n",
       "      <td>11.349549</td>\n",
       "      <td>12.149320</td>\n",
       "      <td>9.549855</td>\n",
       "      <td>0.917428</td>\n",
       "      <td>6.120936</td>\n",
       "      <td>4.222655</td>\n",
       "      <td>3.614983</td>\n",
       "      <td>9.509733</td>\n",
       "      <td>8.334654</td>\n",
       "      <td>6.084974</td>\n",
       "      <td>0.000000</td>\n",
       "      <td>5.768000</td>\n",
       "      <td>0.000000</td>\n",
       "      <td>0.0</td>\n",
       "      <td>0.0</td>\n",
       "      <td>0.0</td>\n",
       "      <td>0.0</td>\n",
       "      <td>0.000000</td>\n",
       "      <td>0.000000</td>\n",
       "      <td>0.000000</td>\n",
       "      <td>5.976979</td>\n",
       "      <td>0.000000</td>\n",
       "      <td>5.295703</td>\n",
       "      <td>3.831168</td>\n",
       "      <td>26.547909</td>\n",
       "      <td>6.501459</td>\n",
       "      <td>0.000000</td>\n",
       "      <td>31.039743</td>\n",
       "      <td>0.000000</td>\n",
       "      <td>30.911484</td>\n",
       "      <td>12.270416</td>\n",
       "      <td>4.683536</td>\n",
       "      <td>0.000000</td>\n",
       "      <td>0.000000</td>\n",
       "      <td>0.000000</td>\n",
       "      <td>12.240834</td>\n",
       "      <td>12.237342</td>\n",
       "      <td>11.487742</td>\n",
       "      <td>8.910571</td>\n",
       "      <td>6.122363</td>\n",
       "      <td>22.647936</td>\n",
       "      <td>5.231036</td>\n",
       "      <td>16.382513</td>\n",
       "      <td>0.0</td>\n",
       "      <td>0.000000</td>\n",
       "      <td>9.324396</td>\n",
       "      <td>11.816362</td>\n",
       "      <td>9.417728</td>\n",
       "      <td>0.0</td>\n",
       "      <td>14.598953</td>\n",
       "      <td>6.361287</td>\n",
       "      <td>3.630412</td>\n",
       "      <td>7.721358</td>\n",
       "      <td>0.000000</td>\n",
       "    </tr>\n",
       "    <tr>\n",
       "      <th>4</th>\n",
       "      <td>2019-05-01</td>\n",
       "      <td>0.000000</td>\n",
       "      <td>10.660956</td>\n",
       "      <td>2.299787</td>\n",
       "      <td>0.000000</td>\n",
       "      <td>9.889205</td>\n",
       "      <td>37.581549</td>\n",
       "      <td>47.81891</td>\n",
       "      <td>7.449976</td>\n",
       "      <td>7.536856</td>\n",
       "      <td>0.0</td>\n",
       "      <td>0.0</td>\n",
       "      <td>6.816426</td>\n",
       "      <td>10.890488</td>\n",
       "      <td>4.762476</td>\n",
       "      <td>7.146115</td>\n",
       "      <td>11.369779</td>\n",
       "      <td>0.000000</td>\n",
       "      <td>5.566854</td>\n",
       "      <td>7.504113</td>\n",
       "      <td>6.490635</td>\n",
       "      <td>8.470129</td>\n",
       "      <td>5.834367</td>\n",
       "      <td>4.395827</td>\n",
       "      <td>15.451723</td>\n",
       "      <td>9.729557</td>\n",
       "      <td>15.272139</td>\n",
       "      <td>14.025697</td>\n",
       "      <td>6.532084</td>\n",
       "      <td>0.000000</td>\n",
       "      <td>0.000000</td>\n",
       "      <td>8.645530</td>\n",
       "      <td>0.000000</td>\n",
       "      <td>0.00000</td>\n",
       "      <td>21.410057</td>\n",
       "      <td>24.239952</td>\n",
       "      <td>8.257920</td>\n",
       "      <td>0.000000</td>\n",
       "      <td>0.0</td>\n",
       "      <td>100.0</td>\n",
       "      <td>9.925190</td>\n",
       "      <td>4.148854</td>\n",
       "      <td>5.917375</td>\n",
       "      <td>0.000000</td>\n",
       "      <td>18.189298</td>\n",
       "      <td>0.000000</td>\n",
       "      <td>17.672935</td>\n",
       "      <td>4.530119</td>\n",
       "      <td>9.014106</td>\n",
       "      <td>14.733304</td>\n",
       "      <td>9.019231</td>\n",
       "      <td>0.0</td>\n",
       "      <td>5.664872</td>\n",
       "      <td>5.466105</td>\n",
       "      <td>5.008083</td>\n",
       "      <td>11.749715</td>\n",
       "      <td>0.0</td>\n",
       "      <td>7.848857</td>\n",
       "      <td>8.565857</td>\n",
       "      <td>10.326012</td>\n",
       "      <td>2.321175</td>\n",
       "      <td>2.536880</td>\n",
       "      <td>10.722185</td>\n",
       "      <td>7.734685</td>\n",
       "      <td>0.0</td>\n",
       "      <td>9.457275</td>\n",
       "      <td>17.312487</td>\n",
       "      <td>0.0</td>\n",
       "      <td>8.606642</td>\n",
       "      <td>13.428643</td>\n",
       "      <td>13.832203</td>\n",
       "      <td>27.451000</td>\n",
       "      <td>0.0</td>\n",
       "      <td>10.970725</td>\n",
       "      <td>19.816082</td>\n",
       "      <td>12.448409</td>\n",
       "      <td>7.988995</td>\n",
       "      <td>6.458613</td>\n",
       "      <td>13.233050</td>\n",
       "      <td>1.706162</td>\n",
       "      <td>9.334003</td>\n",
       "      <td>17.618045</td>\n",
       "      <td>8.312453</td>\n",
       "      <td>10.866029</td>\n",
       "      <td>8.947907</td>\n",
       "      <td>10.345958</td>\n",
       "      <td>26.224343</td>\n",
       "      <td>7.183140</td>\n",
       "      <td>5.237157</td>\n",
       "      <td>0.0</td>\n",
       "      <td>0.0</td>\n",
       "      <td>0.0</td>\n",
       "      <td>0.0</td>\n",
       "      <td>16.078368</td>\n",
       "      <td>0.000000</td>\n",
       "      <td>2.983864</td>\n",
       "      <td>4.586186</td>\n",
       "      <td>26.473845</td>\n",
       "      <td>11.889960</td>\n",
       "      <td>12.824888</td>\n",
       "      <td>9.229322</td>\n",
       "      <td>8.629706</td>\n",
       "      <td>0.000000</td>\n",
       "      <td>18.798168</td>\n",
       "      <td>6.359333</td>\n",
       "      <td>0.000000</td>\n",
       "      <td>9.309998</td>\n",
       "      <td>12.988015</td>\n",
       "      <td>6.332096</td>\n",
       "      <td>7.320533</td>\n",
       "      <td>49.019716</td>\n",
       "      <td>9.195533</td>\n",
       "      <td>2.580354</td>\n",
       "      <td>4.798422</td>\n",
       "      <td>9.984912</td>\n",
       "      <td>6.553626</td>\n",
       "      <td>14.273696</td>\n",
       "      <td>8.870872</td>\n",
       "      <td>4.589350</td>\n",
       "      <td>0.0</td>\n",
       "      <td>4.275788</td>\n",
       "      <td>0.000000</td>\n",
       "      <td>11.639590</td>\n",
       "      <td>20.091367</td>\n",
       "      <td>0.0</td>\n",
       "      <td>0.000000</td>\n",
       "      <td>19.085447</td>\n",
       "      <td>5.847858</td>\n",
       "      <td>9.024440</td>\n",
       "      <td>6.514612</td>\n",
       "    </tr>\n",
       "  </tbody>\n",
       "</table>\n",
       "</div>"
      ],
      "text/plain": [
       "idxgrp_idx_prdtyp    ym_date  Baby/Children_Blazer  Baby/Children_Blouse  \\\n",
       "0                 2019-01-01              0.000000              6.303199   \n",
       "1                 2019-02-01              0.000000              8.241257   \n",
       "2                 2019-03-01              0.000000              2.458142   \n",
       "3                 2019-04-01             32.914943              5.882420   \n",
       "4                 2019-05-01              0.000000             10.660956   \n",
       "\n",
       "idxgrp_idx_prdtyp  Baby/Children_Bodysuit  Baby/Children_Boots  \\\n",
       "0                               12.417352            19.045830   \n",
       "1                                7.481470             7.569144   \n",
       "2                                9.217476             4.042403   \n",
       "3                                9.977619             5.571613   \n",
       "4                                2.299787             0.000000   \n",
       "\n",
       "idxgrp_idx_prdtyp  Baby/Children_Cardigan  Baby/Children_Coat  \\\n",
       "0                                3.588803            0.000000   \n",
       "1                               18.786410            0.000000   \n",
       "2                                4.450840            0.000000   \n",
       "3                                7.162790            0.000000   \n",
       "4                                9.889205           37.581549   \n",
       "\n",
       "idxgrp_idx_prdtyp  Baby/Children_Costumes  Baby/Children_Dress  \\\n",
       "0                                 0.00000             9.764627   \n",
       "1                                 0.00000            11.025010   \n",
       "2                                 0.00000             9.651423   \n",
       "3                                 0.00000             9.695971   \n",
       "4                                47.81891             7.449976   \n",
       "\n",
       "idxgrp_idx_prdtyp  Baby/Children_Dungarees  Baby/Children_Flat shoe  \\\n",
       "0                                19.506538                      0.0   \n",
       "1                                 3.006534                      0.0   \n",
       "2                                 0.000000                      0.0   \n",
       "3                                 0.000000                      0.0   \n",
       "4                                 7.536856                      0.0   \n",
       "\n",
       "idxgrp_idx_prdtyp  Baby/Children_Flip flop  Baby/Children_Hoodie  \\\n",
       "0                                      0.0              6.988347   \n",
       "1                                      0.0             10.264796   \n",
       "2                                      0.0              4.640947   \n",
       "3                                      0.0              8.151060   \n",
       "4                                      0.0              6.816426   \n",
       "\n",
       "idxgrp_idx_prdtyp  Baby/Children_Jacket  Baby/Children_Jumpsuit/Playsuit  \\\n",
       "0                              5.195795                         8.956111   \n",
       "1                              3.398480                        12.287756   \n",
       "2                              4.073892                        10.202360   \n",
       "3                              6.109482                         4.901810   \n",
       "4                             10.890488                         4.762476   \n",
       "\n",
       "idxgrp_idx_prdtyp  Baby/Children_Leggings/Tights  Baby/Children_Polo shirt  \\\n",
       "0                                       7.493526                  0.000000   \n",
       "1                                      12.831751                  0.000000   \n",
       "2                                       7.315479                 20.705072   \n",
       "3                                       7.085246                  9.018716   \n",
       "4                                       7.146115                 11.369779   \n",
       "\n",
       "idxgrp_idx_prdtyp  Baby/Children_Pyjama bottom  Baby/Children_Sandals  \\\n",
       "0                                     0.000000               6.124670   \n",
       "1                                    81.879451               8.176638   \n",
       "2                                     0.000000               5.270966   \n",
       "3                                     0.000000               7.022992   \n",
       "4                                     0.000000               5.566854   \n",
       "\n",
       "idxgrp_idx_prdtyp  Baby/Children_Shirt  Baby/Children_Shorts  \\\n",
       "0                             4.258904             11.975772   \n",
       "1                             7.492396              9.006790   \n",
       "2                             9.925192              8.231631   \n",
       "3                             6.759743              8.192214   \n",
       "4                             7.504113              6.490635   \n",
       "\n",
       "idxgrp_idx_prdtyp  Baby/Children_Skirt  Baby/Children_Sneakers  \\\n",
       "0                             3.382258               13.667443   \n",
       "1                             7.279274                8.225751   \n",
       "2                             4.418709                7.893665   \n",
       "3                             6.983813                7.597320   \n",
       "4                             8.470129                5.834367   \n",
       "\n",
       "idxgrp_idx_prdtyp  Baby/Children_Sweater  Baby/Children_Swimsuit  \\\n",
       "0                               7.279429               11.941819   \n",
       "1                              11.036523               12.580496   \n",
       "2                               7.777303                6.737616   \n",
       "3                               8.657527                9.471364   \n",
       "4                               4.395827               15.451723   \n",
       "\n",
       "idxgrp_idx_prdtyp  Baby/Children_T-shirt  Baby/Children_Top  \\\n",
       "0                               8.099974           4.501385   \n",
       "1                               6.400308           5.130695   \n",
       "2                               8.216463          10.636698   \n",
       "3                               6.862837          12.105263   \n",
       "4                               9.729557          15.272139   \n",
       "\n",
       "idxgrp_idx_prdtyp  Baby/Children_Trousers  Baby/Children_Vest top  \\\n",
       "0                                6.616941                3.316538   \n",
       "1                                5.731506               12.867919   \n",
       "2                                7.820457                6.814102   \n",
       "3                               11.485833                8.273758   \n",
       "4                               14.025697                6.532084   \n",
       "\n",
       "idxgrp_idx_prdtyp  Divided_Bikini top  Divided_Blazer  Divided_Blouse  \\\n",
       "0                            0.000000       14.512992        8.909308   \n",
       "1                           36.336643        9.900682       11.250020   \n",
       "2                            0.000000        0.000000        6.865014   \n",
       "3                           17.129597       15.715548        6.053921   \n",
       "4                            0.000000        0.000000        8.645530   \n",
       "\n",
       "idxgrp_idx_prdtyp  Divided_Bodysuit  Divided_Boots  Divided_Cardigan  \\\n",
       "0                          0.000000       31.93357          8.049003   \n",
       "1                          0.000000        0.00000          5.778156   \n",
       "2                          8.666006        0.00000          3.160193   \n",
       "3                          0.000000        0.00000          7.910758   \n",
       "4                          0.000000        0.00000         21.410057   \n",
       "\n",
       "idxgrp_idx_prdtyp  Divided_Coat  Divided_Dress  Divided_Dungarees  \\\n",
       "0                     13.431159       9.062424           5.328354   \n",
       "1                      0.000000       8.558287           0.000000   \n",
       "2                      0.000000      10.058838           0.000000   \n",
       "3                      0.000000       9.291903          10.717841   \n",
       "4                     24.239952       8.257920           0.000000   \n",
       "\n",
       "idxgrp_idx_prdtyp  Divided_Flat shoe  Divided_Flip flop  Divided_Hoodie  \\\n",
       "0                                0.0                0.0        4.248393   \n",
       "1                                0.0                0.0       18.852408   \n",
       "2                                0.0                0.0       11.001616   \n",
       "3                                0.0                0.0       11.276320   \n",
       "4                                0.0              100.0        9.925190   \n",
       "\n",
       "idxgrp_idx_prdtyp  Divided_Jacket  Divided_Jumpsuit/Playsuit  \\\n",
       "0                        7.006242                   0.000000   \n",
       "1                       10.901827                   0.000000   \n",
       "2                        8.417440                  12.911687   \n",
       "3                        4.560055                   8.198471   \n",
       "4                        4.148854                   5.917375   \n",
       "\n",
       "idxgrp_idx_prdtyp  Divided_Leggings/Tights  Divided_Pumps  Divided_Sandals  \\\n",
       "0                                 0.000000       0.000000         0.000000   \n",
       "1                                 0.000000       0.000000         9.905465   \n",
       "2                                30.748977       0.000000         0.000000   \n",
       "3                                 5.699406      42.044022         4.830703   \n",
       "4                                 0.000000      18.189298         0.000000   \n",
       "\n",
       "idxgrp_idx_prdtyp  Divided_Shirt  Divided_Shorts  Divided_Skirt  \\\n",
       "0                       7.328526       11.348631      12.624216   \n",
       "1                       7.646983       14.318266       4.903866   \n",
       "2                      13.449191       11.639008       8.859267   \n",
       "3                       5.696786        8.092926       8.260851   \n",
       "4                      17.672935        4.530119       9.014106   \n",
       "\n",
       "idxgrp_idx_prdtyp  Divided_Sneakers  Divided_Sweater  Divided_Swimsuit  \\\n",
       "0                          0.000000        13.711682               0.0   \n",
       "1                          8.112215         7.040387               0.0   \n",
       "2                         34.020395         6.632031               0.0   \n",
       "3                         14.169384         7.303080               0.0   \n",
       "4                         14.733304         9.019231               0.0   \n",
       "\n",
       "idxgrp_idx_prdtyp  Divided_T-shirt  Divided_Top  Divided_Trousers  \\\n",
       "0                        12.909023    17.972537         10.987286   \n",
       "1                        10.845918     6.330269          4.856348   \n",
       "2                         8.094164     9.559651          9.330088   \n",
       "3                         2.611052     2.403754          3.875551   \n",
       "4                         5.664872     5.466105          5.008083   \n",
       "\n",
       "idxgrp_idx_prdtyp  Divided_Vest top  Divided_Wedge  Ladieswear_Bikini top  \\\n",
       "0                          0.897703            0.0               5.424441   \n",
       "1                          6.839065            0.0               7.135436   \n",
       "2                          6.347923            0.0               8.100776   \n",
       "3                         12.156054            0.0               3.359265   \n",
       "4                         11.749715            0.0               7.848857   \n",
       "\n",
       "idxgrp_idx_prdtyp  Ladieswear_Blazer  Ladieswear_Blouse  Ladieswear_Bodysuit  \\\n",
       "0                          16.118394          10.288805            22.354497   \n",
       "1                           5.097194           9.284343            11.274544   \n",
       "2                           7.627676          16.403878            15.213716   \n",
       "3                           6.259170           5.876330             2.305002   \n",
       "4                           8.565857          10.326012             2.321175   \n",
       "\n",
       "idxgrp_idx_prdtyp  Ladieswear_Boots  Ladieswear_Cardigan  Ladieswear_Coat  \\\n",
       "0                         12.135786             3.625102         3.439388   \n",
       "1                          2.973559             8.527722         3.011212   \n",
       "2                          9.216989             9.622115         1.133152   \n",
       "3                         16.749163             8.386181        22.387108   \n",
       "4                          2.536880            10.722185         7.734685   \n",
       "\n",
       "idxgrp_idx_prdtyp  Ladieswear_Costumes  Ladieswear_Dress  \\\n",
       "0                                  0.0          8.496651   \n",
       "1                                  0.0          8.171786   \n",
       "2                                  0.0         10.262344   \n",
       "3                                  0.0          9.334288   \n",
       "4                                  0.0          9.457275   \n",
       "\n",
       "idxgrp_idx_prdtyp  Ladieswear_Flat shoe  Ladieswear_Flip flop  \\\n",
       "0                              0.000000                   0.0   \n",
       "1                             10.418083                   0.0   \n",
       "2                              9.999969                   0.0   \n",
       "3                              0.000000                   0.0   \n",
       "4                             17.312487                   0.0   \n",
       "\n",
       "idxgrp_idx_prdtyp  Ladieswear_Hoodie  Ladieswear_Jacket  \\\n",
       "0                           4.909607           6.490705   \n",
       "1                          12.896135           4.555306   \n",
       "2                          23.087641           7.266949   \n",
       "3                           9.834558           9.269442   \n",
       "4                           8.606642          13.428643   \n",
       "\n",
       "idxgrp_idx_prdtyp  Ladieswear_Jumpsuit/Playsuit  Ladieswear_Leggings/Tights  \\\n",
       "0                                      6.800765                    0.000000   \n",
       "1                                      0.000000                    4.359150   \n",
       "2                                      4.945518                    9.177403   \n",
       "3                                      9.520741                    0.000000   \n",
       "4                                     13.832203                   27.451000   \n",
       "\n",
       "idxgrp_idx_prdtyp  Ladieswear_Polo shirt  Ladieswear_Pumps  \\\n",
       "0                                    0.0         24.748785   \n",
       "1                                    0.0         11.147820   \n",
       "2                                    0.0          0.000000   \n",
       "3                                    0.0          2.907629   \n",
       "4                                    0.0         10.970725   \n",
       "\n",
       "idxgrp_idx_prdtyp  Ladieswear_Pyjama bottom  Ladieswear_Sandals  \\\n",
       "0                                  7.743122            5.093872   \n",
       "1                                  0.000000            0.000000   \n",
       "2                                  7.411986           18.854167   \n",
       "3                                 11.539721            7.760783   \n",
       "4                                 19.816082           12.448409   \n",
       "\n",
       "idxgrp_idx_prdtyp  Ladieswear_Shirt  Ladieswear_Shorts  Ladieswear_Skirt  \\\n",
       "0                          3.323887           5.228762          5.776455   \n",
       "1                          2.504615           6.406466          6.486920   \n",
       "2                         10.764632          18.247673         12.908204   \n",
       "3                         11.349549          12.149320          9.549855   \n",
       "4                          7.988995           6.458613         13.233050   \n",
       "\n",
       "idxgrp_idx_prdtyp  Ladieswear_Sneakers  Ladieswear_Sweater  \\\n",
       "0                             9.835185            7.576345   \n",
       "1                             6.088323            7.843561   \n",
       "2                             9.623819            6.148998   \n",
       "3                             0.917428            6.120936   \n",
       "4                             1.706162            9.334003   \n",
       "\n",
       "idxgrp_idx_prdtyp  Ladieswear_Swimsuit  Ladieswear_T-shirt  Ladieswear_Top  \\\n",
       "0                             5.009910            7.471761        7.877292   \n",
       "1                            15.541007           11.555731        8.228327   \n",
       "2                             4.190783           11.177168        3.925703   \n",
       "3                             4.222655            3.614983        9.509733   \n",
       "4                            17.618045            8.312453       10.866029   \n",
       "\n",
       "idxgrp_idx_prdtyp  Ladieswear_Trousers  Ladieswear_Vest top  Ladieswear_Wedge  \\\n",
       "0                             6.690630             8.894658         14.776245   \n",
       "1                             7.529567            11.631589          0.000000   \n",
       "2                            11.321960             8.677747          0.000000   \n",
       "3                             8.334654             6.084974          0.000000   \n",
       "4                             8.947907            10.345958         26.224343   \n",
       "\n",
       "idxgrp_idx_prdtyp  Mama_Blouse  Mama_Dress  Mama_Dungarees  Mama_Hoodie  \\\n",
       "0                    11.445495    8.167600             0.0          0.0   \n",
       "1                     0.000000    5.399979             0.0          0.0   \n",
       "2                    17.392688   10.910087             0.0          0.0   \n",
       "3                     5.768000    0.000000             0.0          0.0   \n",
       "4                     7.183140    5.237157             0.0          0.0   \n",
       "\n",
       "idxgrp_idx_prdtyp  Mama_Jacket  Mama_Leggings/Tights  Mama_Shirt  Mama_Shorts  \\\n",
       "0                          0.0                   0.0   11.644956     6.888790   \n",
       "1                          0.0                   0.0    0.000000    27.580395   \n",
       "2                          0.0                   0.0   14.295402     0.000000   \n",
       "3                          0.0                   0.0    0.000000     0.000000   \n",
       "4                          0.0                   0.0   16.078368     0.000000   \n",
       "\n",
       "idxgrp_idx_prdtyp  Mama_Skirt  Mama_Sweater  Mama_T-shirt   Mama_Top  \\\n",
       "0                    0.000000      0.000000     13.397633  18.543087   \n",
       "1                    0.000000      0.000000     16.023322  10.905258   \n",
       "2                    0.000000     25.113251      0.000000   8.660580   \n",
       "3                    0.000000      5.976979      0.000000   5.295703   \n",
       "4                    2.983864      4.586186     26.473845  11.889960   \n",
       "\n",
       "idxgrp_idx_prdtyp  Mama_Trousers  Mama_Vest top  Menswear_Blazer  \\\n",
       "0                       6.225377      22.990930         2.970256   \n",
       "1                      11.033021       0.000000         2.303539   \n",
       "2                       3.551728       0.000000        26.368540   \n",
       "3                       3.831168      26.547909         6.501459   \n",
       "4                      12.824888       9.229322         8.629706   \n",
       "\n",
       "idxgrp_idx_prdtyp  Menswear_Boots  Menswear_Cardigan  Menswear_Coat  \\\n",
       "0                       26.994173           0.000000       8.701523   \n",
       "1                        0.000000           9.720879      11.262835   \n",
       "2                        0.000000          16.318321       6.301694   \n",
       "3                        0.000000          31.039743       0.000000   \n",
       "4                        0.000000          18.798168       6.359333   \n",
       "\n",
       "idxgrp_idx_prdtyp  Menswear_Flip flop  Menswear_Hoodie  Menswear_Jacket  \\\n",
       "0                            0.000000        19.283668         4.418523   \n",
       "1                            0.000000         9.896551         2.784886   \n",
       "2                            0.000000        17.517525         6.367874   \n",
       "3                           30.911484        12.270416         4.683536   \n",
       "4                            0.000000         9.309998        12.988015   \n",
       "\n",
       "idxgrp_idx_prdtyp  Menswear_Polo shirt  Menswear_Pyjama bottom  \\\n",
       "0                            14.978031               11.488860   \n",
       "1                             0.271690               26.220827   \n",
       "2                             9.917732                5.627003   \n",
       "3                             0.000000                0.000000   \n",
       "4                             6.332096                7.320533   \n",
       "\n",
       "idxgrp_idx_prdtyp  Menswear_Sandals  Menswear_Shirt  Menswear_Shorts  \\\n",
       "0                          0.000000        6.111974         8.272117   \n",
       "1                          0.000000        5.230789         3.938853   \n",
       "2                          0.000000       12.323871        13.651302   \n",
       "3                          0.000000       12.240834        12.237342   \n",
       "4                         49.019716        9.195533         2.580354   \n",
       "\n",
       "idxgrp_idx_prdtyp  Menswear_Sneakers  Menswear_Sweater  Menswear_T-shirt  \\\n",
       "0                           5.824312          5.285711          6.105708   \n",
       "1                           7.243146          7.959921         10.097889   \n",
       "2                           3.401375         16.416840         16.920429   \n",
       "3                          11.487742          8.910571          6.122363   \n",
       "4                           4.798422          9.984912          6.553626   \n",
       "\n",
       "idxgrp_idx_prdtyp  Menswear_Top  Menswear_Trousers  Menswear_Vest top  \\\n",
       "0                     11.942273          10.987265          19.048139   \n",
       "1                      4.716590           7.586789           6.466849   \n",
       "2                      0.000000           7.464389           3.571832   \n",
       "3                     22.647936           5.231036          16.382513   \n",
       "4                     14.273696           8.870872           4.589350   \n",
       "\n",
       "idxgrp_idx_prdtyp  Sport_Bikini top  Sport_Hoodie  Sport_Jacket  \\\n",
       "0                               0.0      7.208807     15.685133   \n",
       "1                               0.0      0.000000      0.000000   \n",
       "2                               0.0     11.243561      0.000000   \n",
       "3                               0.0      0.000000      9.324396   \n",
       "4                               0.0      4.275788      0.000000   \n",
       "\n",
       "idxgrp_idx_prdtyp  Sport_Leggings/Tights  Sport_Shorts  Sport_Skirt  \\\n",
       "0                               9.311371      2.128620          0.0   \n",
       "1                               4.364593     11.020022          0.0   \n",
       "2                               9.635380      9.290491          0.0   \n",
       "3                              11.816362      9.417728          0.0   \n",
       "4                              11.639590     20.091367          0.0   \n",
       "\n",
       "idxgrp_idx_prdtyp  Sport_Sweater  Sport_T-shirt  Sport_Top  Sport_Trousers  \\\n",
       "0                       5.295761       4.882291   6.999806        6.061271   \n",
       "1                       0.000000       1.260874   4.354477       11.992155   \n",
       "2                      16.708249      13.548191   0.000000        2.299915   \n",
       "3                      14.598953       6.361287   3.630412        7.721358   \n",
       "4                       0.000000      19.085447   5.847858        9.024440   \n",
       "\n",
       "idxgrp_idx_prdtyp  Sport_Vest top  \n",
       "0                       17.823269  \n",
       "1                       20.553734  \n",
       "2                        5.250796  \n",
       "3                        0.000000  \n",
       "4                        6.514612  "
      ]
     },
     "metadata": {},
     "output_type": "display_data"
    }
   ],
   "source": [
    "hmtrain_df = hmtraingrp2 #creating backup of hmtraingrp2, just in case\n",
    "hmtraingrp2 = pd.pivot_table(hmtraingrp2, index='ym_date', columns='idxgrp_idx_prdtyp', values='monthsales/ttl-sales').reset_index().fillna(0)\n",
    "display(hmtraingrp2.head())\n"
   ]
  },
  {
   "cell_type": "markdown",
   "id": "63b379cc",
   "metadata": {},
   "source": [
    "We analyse the monthly trends of the products using below graph"
   ]
  },
  {
   "cell_type": "code",
   "execution_count": 25,
   "id": "5d8fb8d3",
   "metadata": {},
   "outputs": [
    {
     "data": {
      "application/vnd.plotly.v1+json": {
       "config": {
        "plotlyServerURL": "https://plot.ly"
       },
       "data": [
        {
         "hovertemplate": "variable=Ladieswear_Jacket<br>ym_date=%{x}<br>value=%{y}<extra></extra>",
         "legendgroup": "Ladieswear_Jacket",
         "line": {
          "color": "#636efa",
          "dash": "solid"
         },
         "marker": {
          "symbol": "circle"
         },
         "mode": "lines",
         "name": "Ladieswear_Jacket",
         "orientation": "v",
         "showlegend": true,
         "type": "scatter",
         "x": [
          "2019-01-01T00:00:00",
          "2019-02-01T00:00:00",
          "2019-03-01T00:00:00",
          "2019-04-01T00:00:00",
          "2019-05-01T00:00:00",
          "2019-06-01T00:00:00",
          "2019-07-01T00:00:00",
          "2019-08-01T00:00:00",
          "2019-09-01T00:00:00",
          "2019-10-01T00:00:00",
          "2019-11-01T00:00:00",
          "2019-12-01T00:00:00"
         ],
         "xaxis": "x",
         "y": [
          6.490705128316926,
          4.555305735002215,
          7.266948821355622,
          9.269442296543067,
          13.42864333783609,
          10.120147621450304,
          5.230365932286659,
          2.751280550457694,
          12.715478028899033,
          6.263069320484899,
          11.25896823864588,
          10.649644988721612
         ],
         "yaxis": "y"
        },
        {
         "hovertemplate": "variable=Divided_Jacket<br>ym_date=%{x}<br>value=%{y}<extra></extra>",
         "legendgroup": "Divided_Jacket",
         "line": {
          "color": "#EF553B",
          "dash": "solid"
         },
         "marker": {
          "symbol": "circle"
         },
         "mode": "lines",
         "name": "Divided_Jacket",
         "orientation": "v",
         "showlegend": true,
         "type": "scatter",
         "x": [
          "2019-01-01T00:00:00",
          "2019-02-01T00:00:00",
          "2019-03-01T00:00:00",
          "2019-04-01T00:00:00",
          "2019-05-01T00:00:00",
          "2019-06-01T00:00:00",
          "2019-07-01T00:00:00",
          "2019-08-01T00:00:00",
          "2019-09-01T00:00:00",
          "2019-10-01T00:00:00",
          "2019-11-01T00:00:00",
          "2019-12-01T00:00:00"
         ],
         "xaxis": "x",
         "y": [
          7.006241960823405,
          10.901826580637985,
          8.417440475001756,
          4.56005485123562,
          4.148854296665646,
          5.921509494051033,
          10.132152858653418,
          19.15661646966094,
          4.647458732684498,
          14.451180345951004,
          6.23654783860496,
          4.420116096029735
         ],
         "yaxis": "y"
        },
        {
         "hovertemplate": "variable=Menswear_Jacket<br>ym_date=%{x}<br>value=%{y}<extra></extra>",
         "legendgroup": "Menswear_Jacket",
         "line": {
          "color": "#00cc96",
          "dash": "solid"
         },
         "marker": {
          "symbol": "circle"
         },
         "mode": "lines",
         "name": "Menswear_Jacket",
         "orientation": "v",
         "showlegend": true,
         "type": "scatter",
         "x": [
          "2019-01-01T00:00:00",
          "2019-02-01T00:00:00",
          "2019-03-01T00:00:00",
          "2019-04-01T00:00:00",
          "2019-05-01T00:00:00",
          "2019-06-01T00:00:00",
          "2019-07-01T00:00:00",
          "2019-08-01T00:00:00",
          "2019-09-01T00:00:00",
          "2019-10-01T00:00:00",
          "2019-11-01T00:00:00",
          "2019-12-01T00:00:00"
         ],
         "xaxis": "x",
         "y": [
          4.418523006772618,
          2.7848864987503,
          6.3678741751717824,
          4.683535727456242,
          12.988014602825585,
          6.782415297114347,
          4.689410794120505,
          15.209820634479588,
          7.211373211570263,
          14.422632103668626,
          13.391223661846496,
          7.0502902862236425
         ],
         "yaxis": "y"
        },
        {
         "hovertemplate": "variable=Ladieswear_Sweater<br>ym_date=%{x}<br>value=%{y}<extra></extra>",
         "legendgroup": "Ladieswear_Sweater",
         "line": {
          "color": "#ab63fa",
          "dash": "solid"
         },
         "marker": {
          "symbol": "circle"
         },
         "mode": "lines",
         "name": "Ladieswear_Sweater",
         "orientation": "v",
         "showlegend": true,
         "type": "scatter",
         "x": [
          "2019-01-01T00:00:00",
          "2019-02-01T00:00:00",
          "2019-03-01T00:00:00",
          "2019-04-01T00:00:00",
          "2019-05-01T00:00:00",
          "2019-06-01T00:00:00",
          "2019-07-01T00:00:00",
          "2019-08-01T00:00:00",
          "2019-09-01T00:00:00",
          "2019-10-01T00:00:00",
          "2019-11-01T00:00:00",
          "2019-12-01T00:00:00"
         ],
         "xaxis": "x",
         "y": [
          7.576344793384952,
          7.84356091966784,
          6.148998094102487,
          6.120935620080609,
          9.334003246889253,
          7.703789427190151,
          9.563255153289187,
          4.995740872660208,
          7.554230106014788,
          12.3270472694882,
          9.949311011298574,
          10.882783485933738
         ],
         "yaxis": "y"
        },
        {
         "hovertemplate": "variable=Divided_Sweater<br>ym_date=%{x}<br>value=%{y}<extra></extra>",
         "legendgroup": "Divided_Sweater",
         "line": {
          "color": "#FFA15A",
          "dash": "solid"
         },
         "marker": {
          "symbol": "circle"
         },
         "mode": "lines",
         "name": "Divided_Sweater",
         "orientation": "v",
         "showlegend": true,
         "type": "scatter",
         "x": [
          "2019-01-01T00:00:00",
          "2019-02-01T00:00:00",
          "2019-03-01T00:00:00",
          "2019-04-01T00:00:00",
          "2019-05-01T00:00:00",
          "2019-06-01T00:00:00",
          "2019-07-01T00:00:00",
          "2019-08-01T00:00:00",
          "2019-09-01T00:00:00",
          "2019-10-01T00:00:00",
          "2019-11-01T00:00:00",
          "2019-12-01T00:00:00"
         ],
         "xaxis": "x",
         "y": [
          13.711682241513163,
          7.04038744304256,
          6.632030647246731,
          7.303080276708915,
          9.019230632415306,
          9.125661737303993,
          6.9301257890953165,
          7.708767912725409,
          6.7169777952379865,
          4.09323938691714,
          11.96132736097844,
          9.757488776815046
         ],
         "yaxis": "y"
        },
        {
         "hovertemplate": "variable=Menswear_Sweater<br>ym_date=%{x}<br>value=%{y}<extra></extra>",
         "legendgroup": "Menswear_Sweater",
         "line": {
          "color": "#19d3f3",
          "dash": "solid"
         },
         "marker": {
          "symbol": "circle"
         },
         "mode": "lines",
         "name": "Menswear_Sweater",
         "orientation": "v",
         "showlegend": true,
         "type": "scatter",
         "x": [
          "2019-01-01T00:00:00",
          "2019-02-01T00:00:00",
          "2019-03-01T00:00:00",
          "2019-04-01T00:00:00",
          "2019-05-01T00:00:00",
          "2019-06-01T00:00:00",
          "2019-07-01T00:00:00",
          "2019-08-01T00:00:00",
          "2019-09-01T00:00:00",
          "2019-10-01T00:00:00",
          "2019-11-01T00:00:00",
          "2019-12-01T00:00:00"
         ],
         "xaxis": "x",
         "y": [
          5.285711044587231,
          7.959921254587569,
          16.416839824120206,
          8.910570665123776,
          9.984912326374419,
          7.024575298362675,
          6.519137440587717,
          10.392090587906361,
          9.139379211551413,
          8.689070363336478,
          6.571440753304902,
          3.1063512301572427
         ],
         "yaxis": "y"
        }
       ],
       "layout": {
        "legend": {
         "title": {
          "text": "variable"
         },
         "tracegroupgap": 0
        },
        "template": {
         "data": {
          "bar": [
           {
            "error_x": {
             "color": "#2a3f5f"
            },
            "error_y": {
             "color": "#2a3f5f"
            },
            "marker": {
             "line": {
              "color": "#E5ECF6",
              "width": 0.5
             },
             "pattern": {
              "fillmode": "overlay",
              "size": 10,
              "solidity": 0.2
             }
            },
            "type": "bar"
           }
          ],
          "barpolar": [
           {
            "marker": {
             "line": {
              "color": "#E5ECF6",
              "width": 0.5
             },
             "pattern": {
              "fillmode": "overlay",
              "size": 10,
              "solidity": 0.2
             }
            },
            "type": "barpolar"
           }
          ],
          "carpet": [
           {
            "aaxis": {
             "endlinecolor": "#2a3f5f",
             "gridcolor": "white",
             "linecolor": "white",
             "minorgridcolor": "white",
             "startlinecolor": "#2a3f5f"
            },
            "baxis": {
             "endlinecolor": "#2a3f5f",
             "gridcolor": "white",
             "linecolor": "white",
             "minorgridcolor": "white",
             "startlinecolor": "#2a3f5f"
            },
            "type": "carpet"
           }
          ],
          "choropleth": [
           {
            "colorbar": {
             "outlinewidth": 0,
             "ticks": ""
            },
            "type": "choropleth"
           }
          ],
          "contour": [
           {
            "colorbar": {
             "outlinewidth": 0,
             "ticks": ""
            },
            "colorscale": [
             [
              0,
              "#0d0887"
             ],
             [
              0.1111111111111111,
              "#46039f"
             ],
             [
              0.2222222222222222,
              "#7201a8"
             ],
             [
              0.3333333333333333,
              "#9c179e"
             ],
             [
              0.4444444444444444,
              "#bd3786"
             ],
             [
              0.5555555555555556,
              "#d8576b"
             ],
             [
              0.6666666666666666,
              "#ed7953"
             ],
             [
              0.7777777777777778,
              "#fb9f3a"
             ],
             [
              0.8888888888888888,
              "#fdca26"
             ],
             [
              1,
              "#f0f921"
             ]
            ],
            "type": "contour"
           }
          ],
          "contourcarpet": [
           {
            "colorbar": {
             "outlinewidth": 0,
             "ticks": ""
            },
            "type": "contourcarpet"
           }
          ],
          "heatmap": [
           {
            "colorbar": {
             "outlinewidth": 0,
             "ticks": ""
            },
            "colorscale": [
             [
              0,
              "#0d0887"
             ],
             [
              0.1111111111111111,
              "#46039f"
             ],
             [
              0.2222222222222222,
              "#7201a8"
             ],
             [
              0.3333333333333333,
              "#9c179e"
             ],
             [
              0.4444444444444444,
              "#bd3786"
             ],
             [
              0.5555555555555556,
              "#d8576b"
             ],
             [
              0.6666666666666666,
              "#ed7953"
             ],
             [
              0.7777777777777778,
              "#fb9f3a"
             ],
             [
              0.8888888888888888,
              "#fdca26"
             ],
             [
              1,
              "#f0f921"
             ]
            ],
            "type": "heatmap"
           }
          ],
          "heatmapgl": [
           {
            "colorbar": {
             "outlinewidth": 0,
             "ticks": ""
            },
            "colorscale": [
             [
              0,
              "#0d0887"
             ],
             [
              0.1111111111111111,
              "#46039f"
             ],
             [
              0.2222222222222222,
              "#7201a8"
             ],
             [
              0.3333333333333333,
              "#9c179e"
             ],
             [
              0.4444444444444444,
              "#bd3786"
             ],
             [
              0.5555555555555556,
              "#d8576b"
             ],
             [
              0.6666666666666666,
              "#ed7953"
             ],
             [
              0.7777777777777778,
              "#fb9f3a"
             ],
             [
              0.8888888888888888,
              "#fdca26"
             ],
             [
              1,
              "#f0f921"
             ]
            ],
            "type": "heatmapgl"
           }
          ],
          "histogram": [
           {
            "marker": {
             "pattern": {
              "fillmode": "overlay",
              "size": 10,
              "solidity": 0.2
             }
            },
            "type": "histogram"
           }
          ],
          "histogram2d": [
           {
            "colorbar": {
             "outlinewidth": 0,
             "ticks": ""
            },
            "colorscale": [
             [
              0,
              "#0d0887"
             ],
             [
              0.1111111111111111,
              "#46039f"
             ],
             [
              0.2222222222222222,
              "#7201a8"
             ],
             [
              0.3333333333333333,
              "#9c179e"
             ],
             [
              0.4444444444444444,
              "#bd3786"
             ],
             [
              0.5555555555555556,
              "#d8576b"
             ],
             [
              0.6666666666666666,
              "#ed7953"
             ],
             [
              0.7777777777777778,
              "#fb9f3a"
             ],
             [
              0.8888888888888888,
              "#fdca26"
             ],
             [
              1,
              "#f0f921"
             ]
            ],
            "type": "histogram2d"
           }
          ],
          "histogram2dcontour": [
           {
            "colorbar": {
             "outlinewidth": 0,
             "ticks": ""
            },
            "colorscale": [
             [
              0,
              "#0d0887"
             ],
             [
              0.1111111111111111,
              "#46039f"
             ],
             [
              0.2222222222222222,
              "#7201a8"
             ],
             [
              0.3333333333333333,
              "#9c179e"
             ],
             [
              0.4444444444444444,
              "#bd3786"
             ],
             [
              0.5555555555555556,
              "#d8576b"
             ],
             [
              0.6666666666666666,
              "#ed7953"
             ],
             [
              0.7777777777777778,
              "#fb9f3a"
             ],
             [
              0.8888888888888888,
              "#fdca26"
             ],
             [
              1,
              "#f0f921"
             ]
            ],
            "type": "histogram2dcontour"
           }
          ],
          "mesh3d": [
           {
            "colorbar": {
             "outlinewidth": 0,
             "ticks": ""
            },
            "type": "mesh3d"
           }
          ],
          "parcoords": [
           {
            "line": {
             "colorbar": {
              "outlinewidth": 0,
              "ticks": ""
             }
            },
            "type": "parcoords"
           }
          ],
          "pie": [
           {
            "automargin": true,
            "type": "pie"
           }
          ],
          "scatter": [
           {
            "fillpattern": {
             "fillmode": "overlay",
             "size": 10,
             "solidity": 0.2
            },
            "type": "scatter"
           }
          ],
          "scatter3d": [
           {
            "line": {
             "colorbar": {
              "outlinewidth": 0,
              "ticks": ""
             }
            },
            "marker": {
             "colorbar": {
              "outlinewidth": 0,
              "ticks": ""
             }
            },
            "type": "scatter3d"
           }
          ],
          "scattercarpet": [
           {
            "marker": {
             "colorbar": {
              "outlinewidth": 0,
              "ticks": ""
             }
            },
            "type": "scattercarpet"
           }
          ],
          "scattergeo": [
           {
            "marker": {
             "colorbar": {
              "outlinewidth": 0,
              "ticks": ""
             }
            },
            "type": "scattergeo"
           }
          ],
          "scattergl": [
           {
            "marker": {
             "colorbar": {
              "outlinewidth": 0,
              "ticks": ""
             }
            },
            "type": "scattergl"
           }
          ],
          "scattermapbox": [
           {
            "marker": {
             "colorbar": {
              "outlinewidth": 0,
              "ticks": ""
             }
            },
            "type": "scattermapbox"
           }
          ],
          "scatterpolar": [
           {
            "marker": {
             "colorbar": {
              "outlinewidth": 0,
              "ticks": ""
             }
            },
            "type": "scatterpolar"
           }
          ],
          "scatterpolargl": [
           {
            "marker": {
             "colorbar": {
              "outlinewidth": 0,
              "ticks": ""
             }
            },
            "type": "scatterpolargl"
           }
          ],
          "scatterternary": [
           {
            "marker": {
             "colorbar": {
              "outlinewidth": 0,
              "ticks": ""
             }
            },
            "type": "scatterternary"
           }
          ],
          "surface": [
           {
            "colorbar": {
             "outlinewidth": 0,
             "ticks": ""
            },
            "colorscale": [
             [
              0,
              "#0d0887"
             ],
             [
              0.1111111111111111,
              "#46039f"
             ],
             [
              0.2222222222222222,
              "#7201a8"
             ],
             [
              0.3333333333333333,
              "#9c179e"
             ],
             [
              0.4444444444444444,
              "#bd3786"
             ],
             [
              0.5555555555555556,
              "#d8576b"
             ],
             [
              0.6666666666666666,
              "#ed7953"
             ],
             [
              0.7777777777777778,
              "#fb9f3a"
             ],
             [
              0.8888888888888888,
              "#fdca26"
             ],
             [
              1,
              "#f0f921"
             ]
            ],
            "type": "surface"
           }
          ],
          "table": [
           {
            "cells": {
             "fill": {
              "color": "#EBF0F8"
             },
             "line": {
              "color": "white"
             }
            },
            "header": {
             "fill": {
              "color": "#C8D4E3"
             },
             "line": {
              "color": "white"
             }
            },
            "type": "table"
           }
          ]
         },
         "layout": {
          "annotationdefaults": {
           "arrowcolor": "#2a3f5f",
           "arrowhead": 0,
           "arrowwidth": 1
          },
          "autotypenumbers": "strict",
          "coloraxis": {
           "colorbar": {
            "outlinewidth": 0,
            "ticks": ""
           }
          },
          "colorscale": {
           "diverging": [
            [
             0,
             "#8e0152"
            ],
            [
             0.1,
             "#c51b7d"
            ],
            [
             0.2,
             "#de77ae"
            ],
            [
             0.3,
             "#f1b6da"
            ],
            [
             0.4,
             "#fde0ef"
            ],
            [
             0.5,
             "#f7f7f7"
            ],
            [
             0.6,
             "#e6f5d0"
            ],
            [
             0.7,
             "#b8e186"
            ],
            [
             0.8,
             "#7fbc41"
            ],
            [
             0.9,
             "#4d9221"
            ],
            [
             1,
             "#276419"
            ]
           ],
           "sequential": [
            [
             0,
             "#0d0887"
            ],
            [
             0.1111111111111111,
             "#46039f"
            ],
            [
             0.2222222222222222,
             "#7201a8"
            ],
            [
             0.3333333333333333,
             "#9c179e"
            ],
            [
             0.4444444444444444,
             "#bd3786"
            ],
            [
             0.5555555555555556,
             "#d8576b"
            ],
            [
             0.6666666666666666,
             "#ed7953"
            ],
            [
             0.7777777777777778,
             "#fb9f3a"
            ],
            [
             0.8888888888888888,
             "#fdca26"
            ],
            [
             1,
             "#f0f921"
            ]
           ],
           "sequentialminus": [
            [
             0,
             "#0d0887"
            ],
            [
             0.1111111111111111,
             "#46039f"
            ],
            [
             0.2222222222222222,
             "#7201a8"
            ],
            [
             0.3333333333333333,
             "#9c179e"
            ],
            [
             0.4444444444444444,
             "#bd3786"
            ],
            [
             0.5555555555555556,
             "#d8576b"
            ],
            [
             0.6666666666666666,
             "#ed7953"
            ],
            [
             0.7777777777777778,
             "#fb9f3a"
            ],
            [
             0.8888888888888888,
             "#fdca26"
            ],
            [
             1,
             "#f0f921"
            ]
           ]
          },
          "colorway": [
           "#636efa",
           "#EF553B",
           "#00cc96",
           "#ab63fa",
           "#FFA15A",
           "#19d3f3",
           "#FF6692",
           "#B6E880",
           "#FF97FF",
           "#FECB52"
          ],
          "font": {
           "color": "#2a3f5f"
          },
          "geo": {
           "bgcolor": "white",
           "lakecolor": "white",
           "landcolor": "#E5ECF6",
           "showlakes": true,
           "showland": true,
           "subunitcolor": "white"
          },
          "hoverlabel": {
           "align": "left"
          },
          "hovermode": "closest",
          "mapbox": {
           "style": "light"
          },
          "paper_bgcolor": "white",
          "plot_bgcolor": "#E5ECF6",
          "polar": {
           "angularaxis": {
            "gridcolor": "white",
            "linecolor": "white",
            "ticks": ""
           },
           "bgcolor": "#E5ECF6",
           "radialaxis": {
            "gridcolor": "white",
            "linecolor": "white",
            "ticks": ""
           }
          },
          "scene": {
           "xaxis": {
            "backgroundcolor": "#E5ECF6",
            "gridcolor": "white",
            "gridwidth": 2,
            "linecolor": "white",
            "showbackground": true,
            "ticks": "",
            "zerolinecolor": "white"
           },
           "yaxis": {
            "backgroundcolor": "#E5ECF6",
            "gridcolor": "white",
            "gridwidth": 2,
            "linecolor": "white",
            "showbackground": true,
            "ticks": "",
            "zerolinecolor": "white"
           },
           "zaxis": {
            "backgroundcolor": "#E5ECF6",
            "gridcolor": "white",
            "gridwidth": 2,
            "linecolor": "white",
            "showbackground": true,
            "ticks": "",
            "zerolinecolor": "white"
           }
          },
          "shapedefaults": {
           "line": {
            "color": "#2a3f5f"
           }
          },
          "ternary": {
           "aaxis": {
            "gridcolor": "white",
            "linecolor": "white",
            "ticks": ""
           },
           "baxis": {
            "gridcolor": "white",
            "linecolor": "white",
            "ticks": ""
           },
           "bgcolor": "#E5ECF6",
           "caxis": {
            "gridcolor": "white",
            "linecolor": "white",
            "ticks": ""
           }
          },
          "title": {
           "x": 0.05
          },
          "xaxis": {
           "automargin": true,
           "gridcolor": "white",
           "linecolor": "white",
           "ticks": "",
           "title": {
            "standoff": 15
           },
           "zerolinecolor": "white",
           "zerolinewidth": 2
          },
          "yaxis": {
           "automargin": true,
           "gridcolor": "white",
           "linecolor": "white",
           "ticks": "",
           "title": {
            "standoff": 15
           },
           "zerolinecolor": "white",
           "zerolinewidth": 2
          }
         }
        },
        "title": {
         "text": "MothlySales / TTL sales"
        },
        "xaxis": {
         "anchor": "y",
         "domain": [
          0,
          1
         ],
         "title": {
          "text": "ym_date"
         }
        },
        "yaxis": {
         "anchor": "x",
         "domain": [
          0,
          1
         ],
         "title": {
          "text": "value"
         }
        }
       }
      },
      "text/html": [
       "<div>                            <div id=\"2c8458c3-bb98-4886-a932-54463d92511c\" class=\"plotly-graph-div\" style=\"height:525px; width:100%;\"></div>            <script type=\"text/javascript\">                require([\"plotly\"], function(Plotly) {                    window.PLOTLYENV=window.PLOTLYENV || {};                                    if (document.getElementById(\"2c8458c3-bb98-4886-a932-54463d92511c\")) {                    Plotly.newPlot(                        \"2c8458c3-bb98-4886-a932-54463d92511c\",                        [{\"hovertemplate\":\"variable=Ladieswear_Jacket<br>ym_date=%{x}<br>value=%{y}<extra></extra>\",\"legendgroup\":\"Ladieswear_Jacket\",\"line\":{\"color\":\"#636efa\",\"dash\":\"solid\"},\"marker\":{\"symbol\":\"circle\"},\"mode\":\"lines\",\"name\":\"Ladieswear_Jacket\",\"orientation\":\"v\",\"showlegend\":true,\"x\":[\"2019-01-01T00:00:00\",\"2019-02-01T00:00:00\",\"2019-03-01T00:00:00\",\"2019-04-01T00:00:00\",\"2019-05-01T00:00:00\",\"2019-06-01T00:00:00\",\"2019-07-01T00:00:00\",\"2019-08-01T00:00:00\",\"2019-09-01T00:00:00\",\"2019-10-01T00:00:00\",\"2019-11-01T00:00:00\",\"2019-12-01T00:00:00\"],\"xaxis\":\"x\",\"y\":[6.490705128316926,4.555305735002215,7.266948821355622,9.269442296543067,13.42864333783609,10.120147621450304,5.230365932286659,2.751280550457694,12.715478028899033,6.263069320484899,11.25896823864588,10.649644988721612],\"yaxis\":\"y\",\"type\":\"scatter\"},{\"hovertemplate\":\"variable=Divided_Jacket<br>ym_date=%{x}<br>value=%{y}<extra></extra>\",\"legendgroup\":\"Divided_Jacket\",\"line\":{\"color\":\"#EF553B\",\"dash\":\"solid\"},\"marker\":{\"symbol\":\"circle\"},\"mode\":\"lines\",\"name\":\"Divided_Jacket\",\"orientation\":\"v\",\"showlegend\":true,\"x\":[\"2019-01-01T00:00:00\",\"2019-02-01T00:00:00\",\"2019-03-01T00:00:00\",\"2019-04-01T00:00:00\",\"2019-05-01T00:00:00\",\"2019-06-01T00:00:00\",\"2019-07-01T00:00:00\",\"2019-08-01T00:00:00\",\"2019-09-01T00:00:00\",\"2019-10-01T00:00:00\",\"2019-11-01T00:00:00\",\"2019-12-01T00:00:00\"],\"xaxis\":\"x\",\"y\":[7.006241960823405,10.901826580637985,8.417440475001756,4.56005485123562,4.148854296665646,5.921509494051033,10.132152858653418,19.15661646966094,4.647458732684498,14.451180345951004,6.23654783860496,4.420116096029735],\"yaxis\":\"y\",\"type\":\"scatter\"},{\"hovertemplate\":\"variable=Menswear_Jacket<br>ym_date=%{x}<br>value=%{y}<extra></extra>\",\"legendgroup\":\"Menswear_Jacket\",\"line\":{\"color\":\"#00cc96\",\"dash\":\"solid\"},\"marker\":{\"symbol\":\"circle\"},\"mode\":\"lines\",\"name\":\"Menswear_Jacket\",\"orientation\":\"v\",\"showlegend\":true,\"x\":[\"2019-01-01T00:00:00\",\"2019-02-01T00:00:00\",\"2019-03-01T00:00:00\",\"2019-04-01T00:00:00\",\"2019-05-01T00:00:00\",\"2019-06-01T00:00:00\",\"2019-07-01T00:00:00\",\"2019-08-01T00:00:00\",\"2019-09-01T00:00:00\",\"2019-10-01T00:00:00\",\"2019-11-01T00:00:00\",\"2019-12-01T00:00:00\"],\"xaxis\":\"x\",\"y\":[4.418523006772618,2.7848864987503,6.3678741751717824,4.683535727456242,12.988014602825585,6.782415297114347,4.689410794120505,15.209820634479588,7.211373211570263,14.422632103668626,13.391223661846496,7.0502902862236425],\"yaxis\":\"y\",\"type\":\"scatter\"},{\"hovertemplate\":\"variable=Ladieswear_Sweater<br>ym_date=%{x}<br>value=%{y}<extra></extra>\",\"legendgroup\":\"Ladieswear_Sweater\",\"line\":{\"color\":\"#ab63fa\",\"dash\":\"solid\"},\"marker\":{\"symbol\":\"circle\"},\"mode\":\"lines\",\"name\":\"Ladieswear_Sweater\",\"orientation\":\"v\",\"showlegend\":true,\"x\":[\"2019-01-01T00:00:00\",\"2019-02-01T00:00:00\",\"2019-03-01T00:00:00\",\"2019-04-01T00:00:00\",\"2019-05-01T00:00:00\",\"2019-06-01T00:00:00\",\"2019-07-01T00:00:00\",\"2019-08-01T00:00:00\",\"2019-09-01T00:00:00\",\"2019-10-01T00:00:00\",\"2019-11-01T00:00:00\",\"2019-12-01T00:00:00\"],\"xaxis\":\"x\",\"y\":[7.576344793384952,7.84356091966784,6.148998094102487,6.120935620080609,9.334003246889253,7.703789427190151,9.563255153289187,4.995740872660208,7.554230106014788,12.3270472694882,9.949311011298574,10.882783485933738],\"yaxis\":\"y\",\"type\":\"scatter\"},{\"hovertemplate\":\"variable=Divided_Sweater<br>ym_date=%{x}<br>value=%{y}<extra></extra>\",\"legendgroup\":\"Divided_Sweater\",\"line\":{\"color\":\"#FFA15A\",\"dash\":\"solid\"},\"marker\":{\"symbol\":\"circle\"},\"mode\":\"lines\",\"name\":\"Divided_Sweater\",\"orientation\":\"v\",\"showlegend\":true,\"x\":[\"2019-01-01T00:00:00\",\"2019-02-01T00:00:00\",\"2019-03-01T00:00:00\",\"2019-04-01T00:00:00\",\"2019-05-01T00:00:00\",\"2019-06-01T00:00:00\",\"2019-07-01T00:00:00\",\"2019-08-01T00:00:00\",\"2019-09-01T00:00:00\",\"2019-10-01T00:00:00\",\"2019-11-01T00:00:00\",\"2019-12-01T00:00:00\"],\"xaxis\":\"x\",\"y\":[13.711682241513163,7.04038744304256,6.632030647246731,7.303080276708915,9.019230632415306,9.125661737303993,6.9301257890953165,7.708767912725409,6.7169777952379865,4.09323938691714,11.96132736097844,9.757488776815046],\"yaxis\":\"y\",\"type\":\"scatter\"},{\"hovertemplate\":\"variable=Menswear_Sweater<br>ym_date=%{x}<br>value=%{y}<extra></extra>\",\"legendgroup\":\"Menswear_Sweater\",\"line\":{\"color\":\"#19d3f3\",\"dash\":\"solid\"},\"marker\":{\"symbol\":\"circle\"},\"mode\":\"lines\",\"name\":\"Menswear_Sweater\",\"orientation\":\"v\",\"showlegend\":true,\"x\":[\"2019-01-01T00:00:00\",\"2019-02-01T00:00:00\",\"2019-03-01T00:00:00\",\"2019-04-01T00:00:00\",\"2019-05-01T00:00:00\",\"2019-06-01T00:00:00\",\"2019-07-01T00:00:00\",\"2019-08-01T00:00:00\",\"2019-09-01T00:00:00\",\"2019-10-01T00:00:00\",\"2019-11-01T00:00:00\",\"2019-12-01T00:00:00\"],\"xaxis\":\"x\",\"y\":[5.285711044587231,7.959921254587569,16.416839824120206,8.910570665123776,9.984912326374419,7.024575298362675,6.519137440587717,10.392090587906361,9.139379211551413,8.689070363336478,6.571440753304902,3.1063512301572427],\"yaxis\":\"y\",\"type\":\"scatter\"}],                        {\"template\":{\"data\":{\"histogram2dcontour\":[{\"type\":\"histogram2dcontour\",\"colorbar\":{\"outlinewidth\":0,\"ticks\":\"\"},\"colorscale\":[[0.0,\"#0d0887\"],[0.1111111111111111,\"#46039f\"],[0.2222222222222222,\"#7201a8\"],[0.3333333333333333,\"#9c179e\"],[0.4444444444444444,\"#bd3786\"],[0.5555555555555556,\"#d8576b\"],[0.6666666666666666,\"#ed7953\"],[0.7777777777777778,\"#fb9f3a\"],[0.8888888888888888,\"#fdca26\"],[1.0,\"#f0f921\"]]}],\"choropleth\":[{\"type\":\"choropleth\",\"colorbar\":{\"outlinewidth\":0,\"ticks\":\"\"}}],\"histogram2d\":[{\"type\":\"histogram2d\",\"colorbar\":{\"outlinewidth\":0,\"ticks\":\"\"},\"colorscale\":[[0.0,\"#0d0887\"],[0.1111111111111111,\"#46039f\"],[0.2222222222222222,\"#7201a8\"],[0.3333333333333333,\"#9c179e\"],[0.4444444444444444,\"#bd3786\"],[0.5555555555555556,\"#d8576b\"],[0.6666666666666666,\"#ed7953\"],[0.7777777777777778,\"#fb9f3a\"],[0.8888888888888888,\"#fdca26\"],[1.0,\"#f0f921\"]]}],\"heatmap\":[{\"type\":\"heatmap\",\"colorbar\":{\"outlinewidth\":0,\"ticks\":\"\"},\"colorscale\":[[0.0,\"#0d0887\"],[0.1111111111111111,\"#46039f\"],[0.2222222222222222,\"#7201a8\"],[0.3333333333333333,\"#9c179e\"],[0.4444444444444444,\"#bd3786\"],[0.5555555555555556,\"#d8576b\"],[0.6666666666666666,\"#ed7953\"],[0.7777777777777778,\"#fb9f3a\"],[0.8888888888888888,\"#fdca26\"],[1.0,\"#f0f921\"]]}],\"heatmapgl\":[{\"type\":\"heatmapgl\",\"colorbar\":{\"outlinewidth\":0,\"ticks\":\"\"},\"colorscale\":[[0.0,\"#0d0887\"],[0.1111111111111111,\"#46039f\"],[0.2222222222222222,\"#7201a8\"],[0.3333333333333333,\"#9c179e\"],[0.4444444444444444,\"#bd3786\"],[0.5555555555555556,\"#d8576b\"],[0.6666666666666666,\"#ed7953\"],[0.7777777777777778,\"#fb9f3a\"],[0.8888888888888888,\"#fdca26\"],[1.0,\"#f0f921\"]]}],\"contourcarpet\":[{\"type\":\"contourcarpet\",\"colorbar\":{\"outlinewidth\":0,\"ticks\":\"\"}}],\"contour\":[{\"type\":\"contour\",\"colorbar\":{\"outlinewidth\":0,\"ticks\":\"\"},\"colorscale\":[[0.0,\"#0d0887\"],[0.1111111111111111,\"#46039f\"],[0.2222222222222222,\"#7201a8\"],[0.3333333333333333,\"#9c179e\"],[0.4444444444444444,\"#bd3786\"],[0.5555555555555556,\"#d8576b\"],[0.6666666666666666,\"#ed7953\"],[0.7777777777777778,\"#fb9f3a\"],[0.8888888888888888,\"#fdca26\"],[1.0,\"#f0f921\"]]}],\"surface\":[{\"type\":\"surface\",\"colorbar\":{\"outlinewidth\":0,\"ticks\":\"\"},\"colorscale\":[[0.0,\"#0d0887\"],[0.1111111111111111,\"#46039f\"],[0.2222222222222222,\"#7201a8\"],[0.3333333333333333,\"#9c179e\"],[0.4444444444444444,\"#bd3786\"],[0.5555555555555556,\"#d8576b\"],[0.6666666666666666,\"#ed7953\"],[0.7777777777777778,\"#fb9f3a\"],[0.8888888888888888,\"#fdca26\"],[1.0,\"#f0f921\"]]}],\"mesh3d\":[{\"type\":\"mesh3d\",\"colorbar\":{\"outlinewidth\":0,\"ticks\":\"\"}}],\"scatter\":[{\"fillpattern\":{\"fillmode\":\"overlay\",\"size\":10,\"solidity\":0.2},\"type\":\"scatter\"}],\"parcoords\":[{\"type\":\"parcoords\",\"line\":{\"colorbar\":{\"outlinewidth\":0,\"ticks\":\"\"}}}],\"scatterpolargl\":[{\"type\":\"scatterpolargl\",\"marker\":{\"colorbar\":{\"outlinewidth\":0,\"ticks\":\"\"}}}],\"bar\":[{\"error_x\":{\"color\":\"#2a3f5f\"},\"error_y\":{\"color\":\"#2a3f5f\"},\"marker\":{\"line\":{\"color\":\"#E5ECF6\",\"width\":0.5},\"pattern\":{\"fillmode\":\"overlay\",\"size\":10,\"solidity\":0.2}},\"type\":\"bar\"}],\"scattergeo\":[{\"type\":\"scattergeo\",\"marker\":{\"colorbar\":{\"outlinewidth\":0,\"ticks\":\"\"}}}],\"scatterpolar\":[{\"type\":\"scatterpolar\",\"marker\":{\"colorbar\":{\"outlinewidth\":0,\"ticks\":\"\"}}}],\"histogram\":[{\"marker\":{\"pattern\":{\"fillmode\":\"overlay\",\"size\":10,\"solidity\":0.2}},\"type\":\"histogram\"}],\"scattergl\":[{\"type\":\"scattergl\",\"marker\":{\"colorbar\":{\"outlinewidth\":0,\"ticks\":\"\"}}}],\"scatter3d\":[{\"type\":\"scatter3d\",\"line\":{\"colorbar\":{\"outlinewidth\":0,\"ticks\":\"\"}},\"marker\":{\"colorbar\":{\"outlinewidth\":0,\"ticks\":\"\"}}}],\"scattermapbox\":[{\"type\":\"scattermapbox\",\"marker\":{\"colorbar\":{\"outlinewidth\":0,\"ticks\":\"\"}}}],\"scatterternary\":[{\"type\":\"scatterternary\",\"marker\":{\"colorbar\":{\"outlinewidth\":0,\"ticks\":\"\"}}}],\"scattercarpet\":[{\"type\":\"scattercarpet\",\"marker\":{\"colorbar\":{\"outlinewidth\":0,\"ticks\":\"\"}}}],\"carpet\":[{\"aaxis\":{\"endlinecolor\":\"#2a3f5f\",\"gridcolor\":\"white\",\"linecolor\":\"white\",\"minorgridcolor\":\"white\",\"startlinecolor\":\"#2a3f5f\"},\"baxis\":{\"endlinecolor\":\"#2a3f5f\",\"gridcolor\":\"white\",\"linecolor\":\"white\",\"minorgridcolor\":\"white\",\"startlinecolor\":\"#2a3f5f\"},\"type\":\"carpet\"}],\"table\":[{\"cells\":{\"fill\":{\"color\":\"#EBF0F8\"},\"line\":{\"color\":\"white\"}},\"header\":{\"fill\":{\"color\":\"#C8D4E3\"},\"line\":{\"color\":\"white\"}},\"type\":\"table\"}],\"barpolar\":[{\"marker\":{\"line\":{\"color\":\"#E5ECF6\",\"width\":0.5},\"pattern\":{\"fillmode\":\"overlay\",\"size\":10,\"solidity\":0.2}},\"type\":\"barpolar\"}],\"pie\":[{\"automargin\":true,\"type\":\"pie\"}]},\"layout\":{\"autotypenumbers\":\"strict\",\"colorway\":[\"#636efa\",\"#EF553B\",\"#00cc96\",\"#ab63fa\",\"#FFA15A\",\"#19d3f3\",\"#FF6692\",\"#B6E880\",\"#FF97FF\",\"#FECB52\"],\"font\":{\"color\":\"#2a3f5f\"},\"hovermode\":\"closest\",\"hoverlabel\":{\"align\":\"left\"},\"paper_bgcolor\":\"white\",\"plot_bgcolor\":\"#E5ECF6\",\"polar\":{\"bgcolor\":\"#E5ECF6\",\"angularaxis\":{\"gridcolor\":\"white\",\"linecolor\":\"white\",\"ticks\":\"\"},\"radialaxis\":{\"gridcolor\":\"white\",\"linecolor\":\"white\",\"ticks\":\"\"}},\"ternary\":{\"bgcolor\":\"#E5ECF6\",\"aaxis\":{\"gridcolor\":\"white\",\"linecolor\":\"white\",\"ticks\":\"\"},\"baxis\":{\"gridcolor\":\"white\",\"linecolor\":\"white\",\"ticks\":\"\"},\"caxis\":{\"gridcolor\":\"white\",\"linecolor\":\"white\",\"ticks\":\"\"}},\"coloraxis\":{\"colorbar\":{\"outlinewidth\":0,\"ticks\":\"\"}},\"colorscale\":{\"sequential\":[[0.0,\"#0d0887\"],[0.1111111111111111,\"#46039f\"],[0.2222222222222222,\"#7201a8\"],[0.3333333333333333,\"#9c179e\"],[0.4444444444444444,\"#bd3786\"],[0.5555555555555556,\"#d8576b\"],[0.6666666666666666,\"#ed7953\"],[0.7777777777777778,\"#fb9f3a\"],[0.8888888888888888,\"#fdca26\"],[1.0,\"#f0f921\"]],\"sequentialminus\":[[0.0,\"#0d0887\"],[0.1111111111111111,\"#46039f\"],[0.2222222222222222,\"#7201a8\"],[0.3333333333333333,\"#9c179e\"],[0.4444444444444444,\"#bd3786\"],[0.5555555555555556,\"#d8576b\"],[0.6666666666666666,\"#ed7953\"],[0.7777777777777778,\"#fb9f3a\"],[0.8888888888888888,\"#fdca26\"],[1.0,\"#f0f921\"]],\"diverging\":[[0,\"#8e0152\"],[0.1,\"#c51b7d\"],[0.2,\"#de77ae\"],[0.3,\"#f1b6da\"],[0.4,\"#fde0ef\"],[0.5,\"#f7f7f7\"],[0.6,\"#e6f5d0\"],[0.7,\"#b8e186\"],[0.8,\"#7fbc41\"],[0.9,\"#4d9221\"],[1,\"#276419\"]]},\"xaxis\":{\"gridcolor\":\"white\",\"linecolor\":\"white\",\"ticks\":\"\",\"title\":{\"standoff\":15},\"zerolinecolor\":\"white\",\"automargin\":true,\"zerolinewidth\":2},\"yaxis\":{\"gridcolor\":\"white\",\"linecolor\":\"white\",\"ticks\":\"\",\"title\":{\"standoff\":15},\"zerolinecolor\":\"white\",\"automargin\":true,\"zerolinewidth\":2},\"scene\":{\"xaxis\":{\"backgroundcolor\":\"#E5ECF6\",\"gridcolor\":\"white\",\"linecolor\":\"white\",\"showbackground\":true,\"ticks\":\"\",\"zerolinecolor\":\"white\",\"gridwidth\":2},\"yaxis\":{\"backgroundcolor\":\"#E5ECF6\",\"gridcolor\":\"white\",\"linecolor\":\"white\",\"showbackground\":true,\"ticks\":\"\",\"zerolinecolor\":\"white\",\"gridwidth\":2},\"zaxis\":{\"backgroundcolor\":\"#E5ECF6\",\"gridcolor\":\"white\",\"linecolor\":\"white\",\"showbackground\":true,\"ticks\":\"\",\"zerolinecolor\":\"white\",\"gridwidth\":2}},\"shapedefaults\":{\"line\":{\"color\":\"#2a3f5f\"}},\"annotationdefaults\":{\"arrowcolor\":\"#2a3f5f\",\"arrowhead\":0,\"arrowwidth\":1},\"geo\":{\"bgcolor\":\"white\",\"landcolor\":\"#E5ECF6\",\"subunitcolor\":\"white\",\"showland\":true,\"showlakes\":true,\"lakecolor\":\"white\"},\"title\":{\"x\":0.05},\"mapbox\":{\"style\":\"light\"}}},\"xaxis\":{\"anchor\":\"y\",\"domain\":[0.0,1.0],\"title\":{\"text\":\"ym_date\"}},\"yaxis\":{\"anchor\":\"x\",\"domain\":[0.0,1.0],\"title\":{\"text\":\"value\"}},\"legend\":{\"title\":{\"text\":\"variable\"},\"tracegroupgap\":0},\"title\":{\"text\":\"MothlySales / TTL sales\"}},                        {\"responsive\": true}                    ).then(function(){\n",
       "                            \n",
       "var gd = document.getElementById('2c8458c3-bb98-4886-a932-54463d92511c');\n",
       "var x = new MutationObserver(function (mutations, observer) {{\n",
       "        var display = window.getComputedStyle(gd).display;\n",
       "        if (!display || display === 'none') {{\n",
       "            console.log([gd, 'removed!']);\n",
       "            Plotly.purge(gd);\n",
       "            observer.disconnect();\n",
       "        }}\n",
       "}});\n",
       "\n",
       "// Listen for the removal of the full notebook cells\n",
       "var notebookContainer = gd.closest('#notebook-container');\n",
       "if (notebookContainer) {{\n",
       "    x.observe(notebookContainer, {childList: true});\n",
       "}}\n",
       "\n",
       "// Listen for the clearing of the current output cell\n",
       "var outputEl = gd.closest('.output');\n",
       "if (outputEl) {{\n",
       "    x.observe(outputEl, {childList: true});\n",
       "}}\n",
       "\n",
       "                        })                };                });            </script>        </div>"
      ]
     },
     "metadata": {},
     "output_type": "display_data"
    }
   ],
   "source": [
    "import plotly.express as px\n",
    "fig = px.line(hmtraingrp2, x='ym_date', y=['Ladieswear_Jacket',\n",
    "                                      'Divided_Jacket',\n",
    "                                      'Menswear_Jacket',\n",
    "                                      'Ladieswear_Sweater',\n",
    "                                      'Divided_Sweater',\n",
    "                                      'Menswear_Sweater'], title=\"MothlySales / TTL sales\")\n",
    "fig.show()"
   ]
  },
  {
   "cell_type": "code",
   "execution_count": null,
   "id": "a9260e31",
   "metadata": {},
   "outputs": [],
   "source": [
    "'Menswear_Sneakers',\n",
    "                                      'Sport_T-shirt',\n",
    "                                      'Sport_Hoodie','Ladieswear_Top','Menswear_Boots' "
   ]
  },
  {
   "cell_type": "markdown",
   "id": "f64c3cf2",
   "metadata": {},
   "source": [
    "We now apply PCA and then plot PC1 vs PC2 to see how products are classified according to the seasonality."
   ]
  },
  {
   "cell_type": "code",
   "execution_count": 26,
   "id": "d4a67b48",
   "metadata": {},
   "outputs": [],
   "source": [
    "from sklearn.decomposition import PCA\n",
    "from sklearn.preprocessing import StandardScaler\n"
   ]
  },
  {
   "cell_type": "code",
   "execution_count": 57,
   "id": "6ac840c3",
   "metadata": {},
   "outputs": [
    {
     "data": {
      "application/vnd.plotly.v1+json": {
       "config": {
        "plotlyServerURL": "https://plot.ly"
       },
       "data": [
        {
         "hovertemplate": "<b>%{hovertext}</b><br><br>PC1=%{x}<br>PC2=%{y}<br>Summer_sales_indicator=%{marker.color}<extra></extra>",
         "hovertext": [
          "Baby/Children_Blazer",
          "Baby/Children_Blouse",
          "Baby/Children_Bodysuit",
          "Baby/Children_Boots",
          "Baby/Children_Cardigan",
          "Baby/Children_Coat",
          "Baby/Children_Costumes",
          "Baby/Children_Dress",
          "Baby/Children_Dungarees",
          "Baby/Children_Flat shoe",
          "Baby/Children_Flip flop",
          "Baby/Children_Hoodie",
          "Baby/Children_Jacket",
          "Baby/Children_Jumpsuit/Playsuit",
          "Baby/Children_Leggings/Tights",
          "Baby/Children_Polo shirt",
          "Baby/Children_Pyjama bottom",
          "Baby/Children_Sandals",
          "Baby/Children_Shirt",
          "Baby/Children_Shorts",
          "Baby/Children_Skirt",
          "Baby/Children_Sneakers",
          "Baby/Children_Sweater",
          "Baby/Children_Swimsuit",
          "Baby/Children_T-shirt",
          "Baby/Children_Top",
          "Baby/Children_Trousers",
          "Baby/Children_Vest top",
          "Divided_Bikini top",
          "Divided_Blazer",
          "Divided_Blouse",
          "Divided_Bodysuit",
          "Divided_Boots",
          "Divided_Cardigan",
          "Divided_Coat",
          "Divided_Dress",
          "Divided_Dungarees",
          "Divided_Flat shoe",
          "Divided_Flip flop",
          "Divided_Hoodie",
          "Divided_Jacket",
          "Divided_Jumpsuit/Playsuit",
          "Divided_Leggings/Tights",
          "Divided_Pumps",
          "Divided_Sandals",
          "Divided_Shirt",
          "Divided_Shorts",
          "Divided_Skirt",
          "Divided_Sneakers",
          "Divided_Sweater",
          "Divided_Swimsuit",
          "Divided_T-shirt",
          "Divided_Top",
          "Divided_Trousers",
          "Divided_Vest top",
          "Divided_Wedge",
          "Ladieswear_Bikini top",
          "Ladieswear_Blazer",
          "Ladieswear_Blouse",
          "Ladieswear_Bodysuit",
          "Ladieswear_Boots",
          "Ladieswear_Cardigan",
          "Ladieswear_Coat",
          "Ladieswear_Costumes",
          "Ladieswear_Dress",
          "Ladieswear_Flat shoe",
          "Ladieswear_Flip flop",
          "Ladieswear_Hoodie",
          "Ladieswear_Jacket",
          "Ladieswear_Jumpsuit/Playsuit",
          "Ladieswear_Leggings/Tights",
          "Ladieswear_Polo shirt",
          "Ladieswear_Pumps",
          "Ladieswear_Pyjama bottom",
          "Ladieswear_Sandals",
          "Ladieswear_Shirt",
          "Ladieswear_Shorts",
          "Ladieswear_Skirt",
          "Ladieswear_Sneakers",
          "Ladieswear_Sweater",
          "Ladieswear_Swimsuit",
          "Ladieswear_T-shirt",
          "Ladieswear_Top",
          "Ladieswear_Trousers",
          "Ladieswear_Vest top",
          "Ladieswear_Wedge",
          "Mama_Blouse",
          "Mama_Dress",
          "Mama_Dungarees",
          "Mama_Hoodie",
          "Mama_Jacket",
          "Mama_Leggings/Tights",
          "Mama_Shirt",
          "Mama_Shorts",
          "Mama_Skirt",
          "Mama_Sweater",
          "Mama_T-shirt",
          "Mama_Top",
          "Mama_Trousers",
          "Mama_Vest top",
          "Menswear_Blazer",
          "Menswear_Boots",
          "Menswear_Cardigan",
          "Menswear_Coat",
          "Menswear_Flip flop",
          "Menswear_Hoodie",
          "Menswear_Jacket",
          "Menswear_Polo shirt",
          "Menswear_Pyjama bottom",
          "Menswear_Sandals",
          "Menswear_Shirt",
          "Menswear_Shorts",
          "Menswear_Sneakers",
          "Menswear_Sweater",
          "Menswear_T-shirt",
          "Menswear_Top",
          "Menswear_Trousers",
          "Menswear_Vest top",
          "Sport_Bikini top",
          "Sport_Hoodie",
          "Sport_Jacket",
          "Sport_Leggings/Tights",
          "Sport_Shorts",
          "Sport_Skirt",
          "Sport_Sweater",
          "Sport_T-shirt",
          "Sport_Top",
          "Sport_Trousers",
          "Sport_Vest top"
         ],
         "legendgroup": "",
         "marker": {
          "color": [
           0.10511193785169447,
           -0.24468729790016813,
           -0.6916300176044917,
           -0.3161688535160909,
           0.12554852335930364,
           0.41418927226610514,
           0.476458444975553,
           0.11886990393524588,
           -0.43163407632567913,
           0.16557917300141708,
           -0.48963580121531736,
           0.05689962202534142,
           0.24959211399444797,
           -0.23881089330515057,
           -0.2653473117070664,
           -0.2885801182348119,
           -0.46255919339461904,
           -0.03214319835608449,
           -0.015371041791934048,
           -0.38103926444732755,
           0.44769763216448005,
           0.16861028744133008,
           -0.7408682863891122,
           0.3846527164029803,
           0.24452876554222167,
           0.0369631498872154,
           0.5700344074680135,
           0.04903368131557578,
           -0.35567443387167014,
           -0.38476323198556184,
           -0.09153867789520995,
           0.5655027351270846,
           -0.4144162328653469,
           0.025256990160265252,
           0.38756650745226184,
           0.23293433246048442,
           -0.09997639955779428,
           -0.5171549498525337,
           0.4721683850091213,
           -0.023161848162545864,
           -0.844384532896968,
           0.6352718132725053,
           -0.21877295301647123,
           0.3727408057165521,
           -0.0007291877313986216,
           0.32358826357736864,
           -0.05127027133474334,
           0.032450777994131014,
           0.32432097402506566,
           0.24977026249228823,
           0.16557917300141708,
           -0.5970834257398655,
           -0.014101627518021043,
           -0.09020137554650312,
           -0.010409294105009983,
           0.16557917300141708,
           0.18104926936778515,
           -0.08671099963124548,
           -0.1649610164606864,
           -0.167129193696141,
           -0.2839968111693347,
           -0.267743195591211,
           -0.08061608526001476,
           0.3503648338114392,
           -0.08260710129288343,
           0.29353921099719804,
           -0.5172735015527822,
           -0.45219391127861247,
           1,
           -0.39139710925412374,
           0.5054642850408548,
           -0.28754346746192494,
           0.3737325863126593,
           0.49015390343955695,
           0.46321786792128883,
           0.3278712266682427,
           -0.16861304975056934,
           0.12953526230151294,
           -0.7932313685155156,
           0.26601100420463036,
           -0.06557270344232954,
           -0.6668767724067084,
           0.35755185690686686,
           0.14756240443589083,
           -0.40921489783415665,
           0.26388931442931024,
           0.16212457518289955,
           0.4149466775863151,
           -0.5172735015527822,
           -0.28754346746192494,
           0.22090074923555403,
           -0.4283130569553463,
           -0.24466153269795934,
           -0.7404953938035796,
           0.1848542419315573,
           0.3088137382559169,
           -0.06745370529836484,
           -0.34214093402190265,
           0.11222625467398337,
           0.07420027574570486,
           0.24543194487516995,
           -0.591776340887113,
           0.3994711409545293,
           0.1532157028976335,
           0.4730894370288635,
           -0.4762728142957934,
           0.09123574311341794,
           -0.3850893377629043,
           0.24260699057288015,
           0.20443299091204628,
           0.4299224474908963,
           -0.11743688168619468,
           -0.5424422485082437,
           -0.1248623733572647,
           0.062175058598006115,
           0.5291420964310495,
           -0.039841992484956235,
           0.17021058419831617,
           -0.38501476077467456,
           -0.4875718056214119,
           0.16155018945616698,
           -0.1758622021836294,
           0.37024641385860985,
           0.406081314375977,
           -0.16182298681482038,
           0.14229064992613927,
           0.2230128199189073,
           -0.018382331486232733,
           0.01697388889070301
          ],
          "coloraxis": "coloraxis",
          "symbol": "circle"
         },
         "mode": "markers",
         "name": "",
         "orientation": "v",
         "showlegend": false,
         "type": "scatter",
         "x": [
          -0.021844629046919632,
          0.05880538466152102,
          0.1364228403682907,
          0.06791957806012854,
          -0.08564729505601523,
          -0.01565412847607308,
          -0.08086115815986732,
          -0.12246262408328401,
          0.14520321018800741,
          0.008779713205420894,
          0.14084906204179626,
          0.00608126115009781,
          0.03712514314942471,
          -0.024053256094759376,
          0.05256349770045013,
          0.074653579619101,
          0.028662162972015844,
          -0.0418905378645702,
          -0.02119411984762336,
          0.029365589426617975,
          -0.05508855457484687,
          -0.0656918668773392,
          0.1111350437852327,
          -0.11741124178107643,
          -0.059536810962986596,
          0.014607349941286724,
          -0.07498351440004566,
          -0.07840515010639941,
          -0.023244601731578798,
          0.03994491261909531,
          0.04996825253692426,
          -0.10468126061868627,
          0.1299145832531949,
          0.027630270670358538,
          -0.08194069512479756,
          -0.13231980189763778,
          -0.02746859319961323,
          0.13473435191608368,
          -0.05052442798524804,
          -0.029788293055702596,
          0.1809876999205084,
          -0.14089784944775108,
          -0.009416453606644953,
          -0.06902129664767263,
          -0.04391311865704448,
          -0.033229697031608316,
          -0.06642525208566742,
          0.054175500155489935,
          -0.10151723410474241,
          -0.010443355909830762,
          0.008779713205420868,
          0.13258986017190103,
          -0.05595611637929052,
          0.05965198224470898,
          0.0660705990184178,
          0.008779713205420868,
          -0.04979096107697537,
          0.0981819964204076,
          -0.012738232360748105,
          -0.01965804173887717,
          0.08852799531093368,
          0.07328911819903729,
          0.07264842014665901,
          -0.07244732718841837,
          0.0496029431501844,
          -0.10956392571538265,
          0.18737986100091378,
          0.09029488980098602,
          -0.18046738970294177,
          0.1822189635760209,
          -0.08961550143514513,
          0.07269906679490412,
          -0.07269950413356883,
          -0.07498447767160389,
          -0.07218083974364801,
          -0.022901026742967324,
          -0.015574477671135675,
          0.034135674232548374,
          0.18085078676462202,
          -0.09090264660599574,
          0.038424689133803855,
          0.1277164782658629,
          -0.045105798064885086,
          -0.10204273552550924,
          0.04364029799639632,
          0.02157453371388625,
          -0.033771492059847856,
          -0.1215412191664019,
          0.18737986100091378,
          0.07269906679490412,
          -0.04359181495711873,
          0.18806880024472625,
          0.09465560787495528,
          0.18933017307880223,
          0.005659903173174122,
          -0.05393188914447483,
          0.056860117846656295,
          0.04022477733865822,
          -0.01733542760421693,
          0.026124742803050764,
          -0.08867939997905507,
          0.18326584026951107,
          -0.10796369913213423,
          -0.08548096252744482,
          -0.10006059421359452,
          0.08482383898415904,
          0.0443232876185488,
          0.14623237770965009,
          -0.1103038609693038,
          -0.025729269175255292,
          -0.11325587987336738,
          0.05619512671219814,
          0.16635366778079536,
          0.011434849489974181,
          -0.10550018400638517,
          -0.0716332803507972,
          0.025727394594676774,
          -0.09468995588122836,
          0.1590957657872018,
          0.12260303236733536,
          -0.02558797854804442,
          0.014595771297945254,
          -0.05424291454778448,
          -0.07927322937487419,
          0.03712785901847706,
          0.045450190622388684,
          -0.02611192186063007,
          0.01585282938358182,
          -0.04845504371167248
         ],
         "xaxis": "x",
         "y": [
          0.15670774121590475,
          0.016921183121448302,
          -0.016661875278799317,
          0.06899755919047042,
          0.0622757364365751,
          -0.09566419060328896,
          -0.10063321954312457,
          -0.09425544188226441,
          -0.05876491315526334,
          0.22384050835223893,
          -0.03229006728369128,
          0.17812386098621455,
          0.03438990699146021,
          -0.03331656980502813,
          0.18642706226415423,
          -0.06696910365009907,
          -0.011763453046024313,
          -0.022727971502447458,
          -0.0878958506459576,
          -0.09212223461273153,
          -0.029059714984925475,
          0.1820441539948831,
          0.10441945684501261,
          -0.06653599234095876,
          -0.04118809729752455,
          -0.14042514848032323,
          -0.03747696670527503,
          0.058073918752623965,
          0.008545976144125297,
          -0.06807806403149703,
          0.11924653709876493,
          0.026516519115617674,
          0.12000225548332673,
          -0.06036606216633732,
          -0.07756618978278881,
          -0.09636675395088304,
          -0.0060955535241996395,
          -0.03288404479231933,
          -0.10492159566852473,
          0.06174742178865018,
          -0.020237270667349955,
          -0.07117602416661042,
          -0.016284985445369608,
          -0.07642253301289068,
          0.12343909063452088,
          -0.03325883132389544,
          -0.035800019540847376,
          0.14089193088922952,
          -0.07876300702139849,
          0.034172162807107234,
          0.2238405083522389,
          -0.011165870484620042,
          0.04169041096930801,
          0.13917060872233725,
          0.025881058191952754,
          0.2238405083522389,
          -0.022488769223155982,
          -0.010034022648215806,
          -0.07302775303795872,
          0.10161126730007802,
          0.005984324961135572,
          -0.06932153342344323,
          -0.1169097355047166,
          0.0170801608578616,
          -0.07333731649874992,
          -0.009289620525785873,
          -0.05371063660110676,
          -0.0026299178419946757,
          -0.0007173745442318114,
          -0.0954258205984441,
          -0.07295169279230095,
          -0.013481206823592632,
          0.01906951119433852,
          -0.13780467657464496,
          0.09339486111661918,
          0.1654058231389086,
          -0.04991396520039659,
          -0.10533027621647816,
          -0.020294667246506984,
          0.000270139652038974,
          -0.1515837213447298,
          -0.014621235181626547,
          -0.030576117325328153,
          -0.04713128079149044,
          -0.1513124398485766,
          -0.1400648390433043,
          0.18851590181138958,
          0.03789078585410678,
          -0.05371063660110676,
          -0.013481206823592632,
          0.03868214442299867,
          0.06970124618921925,
          -0.11060073637350734,
          -0.05257210655868798,
          0.15058305015703874,
          0.06480615043443567,
          -0.10143182120178336,
          -0.049113141930306206,
          -0.01883641461136394,
          -0.07451964898157389,
          0.01977425746557019,
          -0.006220698023107023,
          -0.10226722365564114,
          0.11439012193690634,
          -0.06535120454951296,
          -0.0833795273285841,
          -0.046339054927914354,
          -0.005037337597076762,
          -0.054437241308111846,
          -0.08555843152237623,
          0.06576102612071653,
          0.05067141553916984,
          0.04938772415873111,
          -0.04609383540327264,
          0.03516670155159339,
          0.029860126660036956,
          -0.12066038644975612,
          -0.043546841652727764,
          0.09952828121301537,
          -0.007984980117852475,
          -0.016213484120305353,
          0.02651664738687179,
          0.07253845985914054,
          -0.04290506641487584,
          0.17317796096094604,
          -0.15967846917752998,
          -0.09612660252544725,
          -0.035277560810939794,
          0.07402703458246905
         ],
         "yaxis": "y"
        }
       ],
       "layout": {
        "coloraxis": {
         "colorbar": {
          "title": {
           "text": "Summer_sales_indicator"
          }
         },
         "colorscale": [
          [
           0,
           "#0d0887"
          ],
          [
           0.1111111111111111,
           "#46039f"
          ],
          [
           0.2222222222222222,
           "#7201a8"
          ],
          [
           0.3333333333333333,
           "#9c179e"
          ],
          [
           0.4444444444444444,
           "#bd3786"
          ],
          [
           0.5555555555555556,
           "#d8576b"
          ],
          [
           0.6666666666666666,
           "#ed7953"
          ],
          [
           0.7777777777777778,
           "#fb9f3a"
          ],
          [
           0.8888888888888888,
           "#fdca26"
          ],
          [
           1,
           "#f0f921"
          ]
         ]
        },
        "legend": {
         "tracegroupgap": 0
        },
        "margin": {
         "t": 60
        },
        "template": {
         "data": {
          "bar": [
           {
            "error_x": {
             "color": "#2a3f5f"
            },
            "error_y": {
             "color": "#2a3f5f"
            },
            "marker": {
             "line": {
              "color": "#E5ECF6",
              "width": 0.5
             },
             "pattern": {
              "fillmode": "overlay",
              "size": 10,
              "solidity": 0.2
             }
            },
            "type": "bar"
           }
          ],
          "barpolar": [
           {
            "marker": {
             "line": {
              "color": "#E5ECF6",
              "width": 0.5
             },
             "pattern": {
              "fillmode": "overlay",
              "size": 10,
              "solidity": 0.2
             }
            },
            "type": "barpolar"
           }
          ],
          "carpet": [
           {
            "aaxis": {
             "endlinecolor": "#2a3f5f",
             "gridcolor": "white",
             "linecolor": "white",
             "minorgridcolor": "white",
             "startlinecolor": "#2a3f5f"
            },
            "baxis": {
             "endlinecolor": "#2a3f5f",
             "gridcolor": "white",
             "linecolor": "white",
             "minorgridcolor": "white",
             "startlinecolor": "#2a3f5f"
            },
            "type": "carpet"
           }
          ],
          "choropleth": [
           {
            "colorbar": {
             "outlinewidth": 0,
             "ticks": ""
            },
            "type": "choropleth"
           }
          ],
          "contour": [
           {
            "colorbar": {
             "outlinewidth": 0,
             "ticks": ""
            },
            "colorscale": [
             [
              0,
              "#0d0887"
             ],
             [
              0.1111111111111111,
              "#46039f"
             ],
             [
              0.2222222222222222,
              "#7201a8"
             ],
             [
              0.3333333333333333,
              "#9c179e"
             ],
             [
              0.4444444444444444,
              "#bd3786"
             ],
             [
              0.5555555555555556,
              "#d8576b"
             ],
             [
              0.6666666666666666,
              "#ed7953"
             ],
             [
              0.7777777777777778,
              "#fb9f3a"
             ],
             [
              0.8888888888888888,
              "#fdca26"
             ],
             [
              1,
              "#f0f921"
             ]
            ],
            "type": "contour"
           }
          ],
          "contourcarpet": [
           {
            "colorbar": {
             "outlinewidth": 0,
             "ticks": ""
            },
            "type": "contourcarpet"
           }
          ],
          "heatmap": [
           {
            "colorbar": {
             "outlinewidth": 0,
             "ticks": ""
            },
            "colorscale": [
             [
              0,
              "#0d0887"
             ],
             [
              0.1111111111111111,
              "#46039f"
             ],
             [
              0.2222222222222222,
              "#7201a8"
             ],
             [
              0.3333333333333333,
              "#9c179e"
             ],
             [
              0.4444444444444444,
              "#bd3786"
             ],
             [
              0.5555555555555556,
              "#d8576b"
             ],
             [
              0.6666666666666666,
              "#ed7953"
             ],
             [
              0.7777777777777778,
              "#fb9f3a"
             ],
             [
              0.8888888888888888,
              "#fdca26"
             ],
             [
              1,
              "#f0f921"
             ]
            ],
            "type": "heatmap"
           }
          ],
          "heatmapgl": [
           {
            "colorbar": {
             "outlinewidth": 0,
             "ticks": ""
            },
            "colorscale": [
             [
              0,
              "#0d0887"
             ],
             [
              0.1111111111111111,
              "#46039f"
             ],
             [
              0.2222222222222222,
              "#7201a8"
             ],
             [
              0.3333333333333333,
              "#9c179e"
             ],
             [
              0.4444444444444444,
              "#bd3786"
             ],
             [
              0.5555555555555556,
              "#d8576b"
             ],
             [
              0.6666666666666666,
              "#ed7953"
             ],
             [
              0.7777777777777778,
              "#fb9f3a"
             ],
             [
              0.8888888888888888,
              "#fdca26"
             ],
             [
              1,
              "#f0f921"
             ]
            ],
            "type": "heatmapgl"
           }
          ],
          "histogram": [
           {
            "marker": {
             "pattern": {
              "fillmode": "overlay",
              "size": 10,
              "solidity": 0.2
             }
            },
            "type": "histogram"
           }
          ],
          "histogram2d": [
           {
            "colorbar": {
             "outlinewidth": 0,
             "ticks": ""
            },
            "colorscale": [
             [
              0,
              "#0d0887"
             ],
             [
              0.1111111111111111,
              "#46039f"
             ],
             [
              0.2222222222222222,
              "#7201a8"
             ],
             [
              0.3333333333333333,
              "#9c179e"
             ],
             [
              0.4444444444444444,
              "#bd3786"
             ],
             [
              0.5555555555555556,
              "#d8576b"
             ],
             [
              0.6666666666666666,
              "#ed7953"
             ],
             [
              0.7777777777777778,
              "#fb9f3a"
             ],
             [
              0.8888888888888888,
              "#fdca26"
             ],
             [
              1,
              "#f0f921"
             ]
            ],
            "type": "histogram2d"
           }
          ],
          "histogram2dcontour": [
           {
            "colorbar": {
             "outlinewidth": 0,
             "ticks": ""
            },
            "colorscale": [
             [
              0,
              "#0d0887"
             ],
             [
              0.1111111111111111,
              "#46039f"
             ],
             [
              0.2222222222222222,
              "#7201a8"
             ],
             [
              0.3333333333333333,
              "#9c179e"
             ],
             [
              0.4444444444444444,
              "#bd3786"
             ],
             [
              0.5555555555555556,
              "#d8576b"
             ],
             [
              0.6666666666666666,
              "#ed7953"
             ],
             [
              0.7777777777777778,
              "#fb9f3a"
             ],
             [
              0.8888888888888888,
              "#fdca26"
             ],
             [
              1,
              "#f0f921"
             ]
            ],
            "type": "histogram2dcontour"
           }
          ],
          "mesh3d": [
           {
            "colorbar": {
             "outlinewidth": 0,
             "ticks": ""
            },
            "type": "mesh3d"
           }
          ],
          "parcoords": [
           {
            "line": {
             "colorbar": {
              "outlinewidth": 0,
              "ticks": ""
             }
            },
            "type": "parcoords"
           }
          ],
          "pie": [
           {
            "automargin": true,
            "type": "pie"
           }
          ],
          "scatter": [
           {
            "fillpattern": {
             "fillmode": "overlay",
             "size": 10,
             "solidity": 0.2
            },
            "type": "scatter"
           }
          ],
          "scatter3d": [
           {
            "line": {
             "colorbar": {
              "outlinewidth": 0,
              "ticks": ""
             }
            },
            "marker": {
             "colorbar": {
              "outlinewidth": 0,
              "ticks": ""
             }
            },
            "type": "scatter3d"
           }
          ],
          "scattercarpet": [
           {
            "marker": {
             "colorbar": {
              "outlinewidth": 0,
              "ticks": ""
             }
            },
            "type": "scattercarpet"
           }
          ],
          "scattergeo": [
           {
            "marker": {
             "colorbar": {
              "outlinewidth": 0,
              "ticks": ""
             }
            },
            "type": "scattergeo"
           }
          ],
          "scattergl": [
           {
            "marker": {
             "colorbar": {
              "outlinewidth": 0,
              "ticks": ""
             }
            },
            "type": "scattergl"
           }
          ],
          "scattermapbox": [
           {
            "marker": {
             "colorbar": {
              "outlinewidth": 0,
              "ticks": ""
             }
            },
            "type": "scattermapbox"
           }
          ],
          "scatterpolar": [
           {
            "marker": {
             "colorbar": {
              "outlinewidth": 0,
              "ticks": ""
             }
            },
            "type": "scatterpolar"
           }
          ],
          "scatterpolargl": [
           {
            "marker": {
             "colorbar": {
              "outlinewidth": 0,
              "ticks": ""
             }
            },
            "type": "scatterpolargl"
           }
          ],
          "scatterternary": [
           {
            "marker": {
             "colorbar": {
              "outlinewidth": 0,
              "ticks": ""
             }
            },
            "type": "scatterternary"
           }
          ],
          "surface": [
           {
            "colorbar": {
             "outlinewidth": 0,
             "ticks": ""
            },
            "colorscale": [
             [
              0,
              "#0d0887"
             ],
             [
              0.1111111111111111,
              "#46039f"
             ],
             [
              0.2222222222222222,
              "#7201a8"
             ],
             [
              0.3333333333333333,
              "#9c179e"
             ],
             [
              0.4444444444444444,
              "#bd3786"
             ],
             [
              0.5555555555555556,
              "#d8576b"
             ],
             [
              0.6666666666666666,
              "#ed7953"
             ],
             [
              0.7777777777777778,
              "#fb9f3a"
             ],
             [
              0.8888888888888888,
              "#fdca26"
             ],
             [
              1,
              "#f0f921"
             ]
            ],
            "type": "surface"
           }
          ],
          "table": [
           {
            "cells": {
             "fill": {
              "color": "#EBF0F8"
             },
             "line": {
              "color": "white"
             }
            },
            "header": {
             "fill": {
              "color": "#C8D4E3"
             },
             "line": {
              "color": "white"
             }
            },
            "type": "table"
           }
          ]
         },
         "layout": {
          "annotationdefaults": {
           "arrowcolor": "#2a3f5f",
           "arrowhead": 0,
           "arrowwidth": 1
          },
          "autotypenumbers": "strict",
          "coloraxis": {
           "colorbar": {
            "outlinewidth": 0,
            "ticks": ""
           }
          },
          "colorscale": {
           "diverging": [
            [
             0,
             "#8e0152"
            ],
            [
             0.1,
             "#c51b7d"
            ],
            [
             0.2,
             "#de77ae"
            ],
            [
             0.3,
             "#f1b6da"
            ],
            [
             0.4,
             "#fde0ef"
            ],
            [
             0.5,
             "#f7f7f7"
            ],
            [
             0.6,
             "#e6f5d0"
            ],
            [
             0.7,
             "#b8e186"
            ],
            [
             0.8,
             "#7fbc41"
            ],
            [
             0.9,
             "#4d9221"
            ],
            [
             1,
             "#276419"
            ]
           ],
           "sequential": [
            [
             0,
             "#0d0887"
            ],
            [
             0.1111111111111111,
             "#46039f"
            ],
            [
             0.2222222222222222,
             "#7201a8"
            ],
            [
             0.3333333333333333,
             "#9c179e"
            ],
            [
             0.4444444444444444,
             "#bd3786"
            ],
            [
             0.5555555555555556,
             "#d8576b"
            ],
            [
             0.6666666666666666,
             "#ed7953"
            ],
            [
             0.7777777777777778,
             "#fb9f3a"
            ],
            [
             0.8888888888888888,
             "#fdca26"
            ],
            [
             1,
             "#f0f921"
            ]
           ],
           "sequentialminus": [
            [
             0,
             "#0d0887"
            ],
            [
             0.1111111111111111,
             "#46039f"
            ],
            [
             0.2222222222222222,
             "#7201a8"
            ],
            [
             0.3333333333333333,
             "#9c179e"
            ],
            [
             0.4444444444444444,
             "#bd3786"
            ],
            [
             0.5555555555555556,
             "#d8576b"
            ],
            [
             0.6666666666666666,
             "#ed7953"
            ],
            [
             0.7777777777777778,
             "#fb9f3a"
            ],
            [
             0.8888888888888888,
             "#fdca26"
            ],
            [
             1,
             "#f0f921"
            ]
           ]
          },
          "colorway": [
           "#636efa",
           "#EF553B",
           "#00cc96",
           "#ab63fa",
           "#FFA15A",
           "#19d3f3",
           "#FF6692",
           "#B6E880",
           "#FF97FF",
           "#FECB52"
          ],
          "font": {
           "color": "#2a3f5f"
          },
          "geo": {
           "bgcolor": "white",
           "lakecolor": "white",
           "landcolor": "#E5ECF6",
           "showlakes": true,
           "showland": true,
           "subunitcolor": "white"
          },
          "hoverlabel": {
           "align": "left"
          },
          "hovermode": "closest",
          "mapbox": {
           "style": "light"
          },
          "paper_bgcolor": "white",
          "plot_bgcolor": "#E5ECF6",
          "polar": {
           "angularaxis": {
            "gridcolor": "white",
            "linecolor": "white",
            "ticks": ""
           },
           "bgcolor": "#E5ECF6",
           "radialaxis": {
            "gridcolor": "white",
            "linecolor": "white",
            "ticks": ""
           }
          },
          "scene": {
           "xaxis": {
            "backgroundcolor": "#E5ECF6",
            "gridcolor": "white",
            "gridwidth": 2,
            "linecolor": "white",
            "showbackground": true,
            "ticks": "",
            "zerolinecolor": "white"
           },
           "yaxis": {
            "backgroundcolor": "#E5ECF6",
            "gridcolor": "white",
            "gridwidth": 2,
            "linecolor": "white",
            "showbackground": true,
            "ticks": "",
            "zerolinecolor": "white"
           },
           "zaxis": {
            "backgroundcolor": "#E5ECF6",
            "gridcolor": "white",
            "gridwidth": 2,
            "linecolor": "white",
            "showbackground": true,
            "ticks": "",
            "zerolinecolor": "white"
           }
          },
          "shapedefaults": {
           "line": {
            "color": "#2a3f5f"
           }
          },
          "ternary": {
           "aaxis": {
            "gridcolor": "white",
            "linecolor": "white",
            "ticks": ""
           },
           "baxis": {
            "gridcolor": "white",
            "linecolor": "white",
            "ticks": ""
           },
           "bgcolor": "#E5ECF6",
           "caxis": {
            "gridcolor": "white",
            "linecolor": "white",
            "ticks": ""
           }
          },
          "title": {
           "x": 0.05
          },
          "xaxis": {
           "automargin": true,
           "gridcolor": "white",
           "linecolor": "white",
           "ticks": "",
           "title": {
            "standoff": 15
           },
           "zerolinecolor": "white",
           "zerolinewidth": 2
          },
          "yaxis": {
           "automargin": true,
           "gridcolor": "white",
           "linecolor": "white",
           "ticks": "",
           "title": {
            "standoff": 15
           },
           "zerolinecolor": "white",
           "zerolinewidth": 2
          }
         }
        },
        "xaxis": {
         "anchor": "y",
         "domain": [
          0,
          1
         ],
         "title": {
          "text": "PC1"
         }
        },
        "yaxis": {
         "anchor": "x",
         "domain": [
          0,
          1
         ],
         "title": {
          "text": "PC2"
         }
        }
       }
      },
      "text/html": [
       "<div>                            <div id=\"e8f89f6a-5ae2-4f9c-bc81-c57a72c2a003\" class=\"plotly-graph-div\" style=\"height:525px; width:100%;\"></div>            <script type=\"text/javascript\">                require([\"plotly\"], function(Plotly) {                    window.PLOTLYENV=window.PLOTLYENV || {};                                    if (document.getElementById(\"e8f89f6a-5ae2-4f9c-bc81-c57a72c2a003\")) {                    Plotly.newPlot(                        \"e8f89f6a-5ae2-4f9c-bc81-c57a72c2a003\",                        [{\"hovertemplate\":\"<b>%{hovertext}</b><br><br>PC1=%{x}<br>PC2=%{y}<br>Summer_sales_indicator=%{marker.color}<extra></extra>\",\"hovertext\":[\"Baby/Children_Blazer\",\"Baby/Children_Blouse\",\"Baby/Children_Bodysuit\",\"Baby/Children_Boots\",\"Baby/Children_Cardigan\",\"Baby/Children_Coat\",\"Baby/Children_Costumes\",\"Baby/Children_Dress\",\"Baby/Children_Dungarees\",\"Baby/Children_Flat shoe\",\"Baby/Children_Flip flop\",\"Baby/Children_Hoodie\",\"Baby/Children_Jacket\",\"Baby/Children_Jumpsuit/Playsuit\",\"Baby/Children_Leggings/Tights\",\"Baby/Children_Polo shirt\",\"Baby/Children_Pyjama bottom\",\"Baby/Children_Sandals\",\"Baby/Children_Shirt\",\"Baby/Children_Shorts\",\"Baby/Children_Skirt\",\"Baby/Children_Sneakers\",\"Baby/Children_Sweater\",\"Baby/Children_Swimsuit\",\"Baby/Children_T-shirt\",\"Baby/Children_Top\",\"Baby/Children_Trousers\",\"Baby/Children_Vest top\",\"Divided_Bikini top\",\"Divided_Blazer\",\"Divided_Blouse\",\"Divided_Bodysuit\",\"Divided_Boots\",\"Divided_Cardigan\",\"Divided_Coat\",\"Divided_Dress\",\"Divided_Dungarees\",\"Divided_Flat shoe\",\"Divided_Flip flop\",\"Divided_Hoodie\",\"Divided_Jacket\",\"Divided_Jumpsuit/Playsuit\",\"Divided_Leggings/Tights\",\"Divided_Pumps\",\"Divided_Sandals\",\"Divided_Shirt\",\"Divided_Shorts\",\"Divided_Skirt\",\"Divided_Sneakers\",\"Divided_Sweater\",\"Divided_Swimsuit\",\"Divided_T-shirt\",\"Divided_Top\",\"Divided_Trousers\",\"Divided_Vest top\",\"Divided_Wedge\",\"Ladieswear_Bikini top\",\"Ladieswear_Blazer\",\"Ladieswear_Blouse\",\"Ladieswear_Bodysuit\",\"Ladieswear_Boots\",\"Ladieswear_Cardigan\",\"Ladieswear_Coat\",\"Ladieswear_Costumes\",\"Ladieswear_Dress\",\"Ladieswear_Flat shoe\",\"Ladieswear_Flip flop\",\"Ladieswear_Hoodie\",\"Ladieswear_Jacket\",\"Ladieswear_Jumpsuit/Playsuit\",\"Ladieswear_Leggings/Tights\",\"Ladieswear_Polo shirt\",\"Ladieswear_Pumps\",\"Ladieswear_Pyjama bottom\",\"Ladieswear_Sandals\",\"Ladieswear_Shirt\",\"Ladieswear_Shorts\",\"Ladieswear_Skirt\",\"Ladieswear_Sneakers\",\"Ladieswear_Sweater\",\"Ladieswear_Swimsuit\",\"Ladieswear_T-shirt\",\"Ladieswear_Top\",\"Ladieswear_Trousers\",\"Ladieswear_Vest top\",\"Ladieswear_Wedge\",\"Mama_Blouse\",\"Mama_Dress\",\"Mama_Dungarees\",\"Mama_Hoodie\",\"Mama_Jacket\",\"Mama_Leggings/Tights\",\"Mama_Shirt\",\"Mama_Shorts\",\"Mama_Skirt\",\"Mama_Sweater\",\"Mama_T-shirt\",\"Mama_Top\",\"Mama_Trousers\",\"Mama_Vest top\",\"Menswear_Blazer\",\"Menswear_Boots\",\"Menswear_Cardigan\",\"Menswear_Coat\",\"Menswear_Flip flop\",\"Menswear_Hoodie\",\"Menswear_Jacket\",\"Menswear_Polo shirt\",\"Menswear_Pyjama bottom\",\"Menswear_Sandals\",\"Menswear_Shirt\",\"Menswear_Shorts\",\"Menswear_Sneakers\",\"Menswear_Sweater\",\"Menswear_T-shirt\",\"Menswear_Top\",\"Menswear_Trousers\",\"Menswear_Vest top\",\"Sport_Bikini top\",\"Sport_Hoodie\",\"Sport_Jacket\",\"Sport_Leggings/Tights\",\"Sport_Shorts\",\"Sport_Skirt\",\"Sport_Sweater\",\"Sport_T-shirt\",\"Sport_Top\",\"Sport_Trousers\",\"Sport_Vest top\"],\"legendgroup\":\"\",\"marker\":{\"color\":[0.10511193785169447,-0.24468729790016813,-0.6916300176044917,-0.3161688535160909,0.12554852335930364,0.41418927226610514,0.476458444975553,0.11886990393524588,-0.43163407632567913,0.16557917300141708,-0.48963580121531736,0.05689962202534142,0.24959211399444797,-0.23881089330515057,-0.2653473117070664,-0.2885801182348119,-0.46255919339461904,-0.03214319835608449,-0.015371041791934048,-0.38103926444732755,0.44769763216448005,0.16861028744133008,-0.7408682863891122,0.3846527164029803,0.24452876554222167,0.0369631498872154,0.5700344074680135,0.04903368131557578,-0.35567443387167014,-0.38476323198556184,-0.09153867789520995,0.5655027351270846,-0.4144162328653469,0.025256990160265252,0.38756650745226184,0.23293433246048442,-0.09997639955779428,-0.5171549498525337,0.4721683850091213,-0.023161848162545864,-0.844384532896968,0.6352718132725053,-0.21877295301647123,0.3727408057165521,-0.0007291877313986216,0.32358826357736864,-0.05127027133474334,0.032450777994131014,0.32432097402506566,0.24977026249228823,0.16557917300141708,-0.5970834257398655,-0.014101627518021043,-0.09020137554650312,-0.010409294105009983,0.16557917300141708,0.18104926936778515,-0.08671099963124548,-0.1649610164606864,-0.167129193696141,-0.2839968111693347,-0.267743195591211,-0.08061608526001476,0.3503648338114392,-0.08260710129288343,0.29353921099719804,-0.5172735015527822,-0.45219391127861247,1.0,-0.39139710925412374,0.5054642850408548,-0.28754346746192494,0.3737325863126593,0.49015390343955695,0.46321786792128883,0.3278712266682427,-0.16861304975056934,0.12953526230151294,-0.7932313685155156,0.26601100420463036,-0.06557270344232954,-0.6668767724067084,0.35755185690686686,0.14756240443589083,-0.40921489783415665,0.26388931442931024,0.16212457518289955,0.4149466775863151,-0.5172735015527822,-0.28754346746192494,0.22090074923555403,-0.4283130569553463,-0.24466153269795934,-0.7404953938035796,0.1848542419315573,0.3088137382559169,-0.06745370529836484,-0.34214093402190265,0.11222625467398337,0.07420027574570486,0.24543194487516995,-0.591776340887113,0.3994711409545293,0.1532157028976335,0.4730894370288635,-0.4762728142957934,0.09123574311341794,-0.3850893377629043,0.24260699057288015,0.20443299091204628,0.4299224474908963,-0.11743688168619468,-0.5424422485082437,-0.1248623733572647,0.062175058598006115,0.5291420964310495,-0.039841992484956235,0.17021058419831617,-0.38501476077467456,-0.4875718056214119,0.16155018945616698,-0.1758622021836294,0.37024641385860985,0.406081314375977,-0.16182298681482038,0.14229064992613927,0.2230128199189073,-0.018382331486232733,0.01697388889070301],\"coloraxis\":\"coloraxis\",\"symbol\":\"circle\"},\"mode\":\"markers\",\"name\":\"\",\"orientation\":\"v\",\"showlegend\":false,\"x\":[-0.021844629046919632,0.05880538466152102,0.1364228403682907,0.06791957806012854,-0.08564729505601523,-0.01565412847607308,-0.08086115815986732,-0.12246262408328401,0.14520321018800741,0.008779713205420894,0.14084906204179626,0.00608126115009781,0.03712514314942471,-0.024053256094759376,0.05256349770045013,0.074653579619101,0.028662162972015844,-0.0418905378645702,-0.02119411984762336,0.029365589426617975,-0.05508855457484687,-0.0656918668773392,0.1111350437852327,-0.11741124178107643,-0.059536810962986596,0.014607349941286724,-0.07498351440004566,-0.07840515010639941,-0.023244601731578798,0.03994491261909531,0.04996825253692426,-0.10468126061868627,0.1299145832531949,0.027630270670358538,-0.08194069512479756,-0.13231980189763778,-0.02746859319961323,0.13473435191608368,-0.05052442798524804,-0.029788293055702596,0.1809876999205084,-0.14089784944775108,-0.009416453606644953,-0.06902129664767263,-0.04391311865704448,-0.033229697031608316,-0.06642525208566742,0.054175500155489935,-0.10151723410474241,-0.010443355909830762,0.008779713205420868,0.13258986017190103,-0.05595611637929052,0.05965198224470898,0.0660705990184178,0.008779713205420868,-0.04979096107697537,0.0981819964204076,-0.012738232360748105,-0.01965804173887717,0.08852799531093368,0.07328911819903729,0.07264842014665901,-0.07244732718841837,0.0496029431501844,-0.10956392571538265,0.18737986100091378,0.09029488980098602,-0.18046738970294177,0.1822189635760209,-0.08961550143514513,0.07269906679490412,-0.07269950413356883,-0.07498447767160389,-0.07218083974364801,-0.022901026742967324,-0.015574477671135675,0.034135674232548374,0.18085078676462202,-0.09090264660599574,0.038424689133803855,0.1277164782658629,-0.045105798064885086,-0.10204273552550924,0.04364029799639632,0.02157453371388625,-0.033771492059847856,-0.1215412191664019,0.18737986100091378,0.07269906679490412,-0.04359181495711873,0.18806880024472625,0.09465560787495528,0.18933017307880223,0.005659903173174122,-0.05393188914447483,0.056860117846656295,0.04022477733865822,-0.01733542760421693,0.026124742803050764,-0.08867939997905507,0.18326584026951107,-0.10796369913213423,-0.08548096252744482,-0.10006059421359452,0.08482383898415904,0.0443232876185488,0.14623237770965009,-0.1103038609693038,-0.025729269175255292,-0.11325587987336738,0.05619512671219814,0.16635366778079536,0.011434849489974181,-0.10550018400638517,-0.0716332803507972,0.025727394594676774,-0.09468995588122836,0.1590957657872018,0.12260303236733536,-0.02558797854804442,0.014595771297945254,-0.05424291454778448,-0.07927322937487419,0.03712785901847706,0.045450190622388684,-0.02611192186063007,0.01585282938358182,-0.04845504371167248],\"xaxis\":\"x\",\"y\":[0.15670774121590475,0.016921183121448302,-0.016661875278799317,0.06899755919047042,0.0622757364365751,-0.09566419060328896,-0.10063321954312457,-0.09425544188226441,-0.05876491315526334,0.22384050835223893,-0.03229006728369128,0.17812386098621455,0.03438990699146021,-0.03331656980502813,0.18642706226415423,-0.06696910365009907,-0.011763453046024313,-0.022727971502447458,-0.0878958506459576,-0.09212223461273153,-0.029059714984925475,0.1820441539948831,0.10441945684501261,-0.06653599234095876,-0.04118809729752455,-0.14042514848032323,-0.03747696670527503,0.058073918752623965,0.008545976144125297,-0.06807806403149703,0.11924653709876493,0.026516519115617674,0.12000225548332673,-0.06036606216633732,-0.07756618978278881,-0.09636675395088304,-0.0060955535241996395,-0.03288404479231933,-0.10492159566852473,0.06174742178865018,-0.020237270667349955,-0.07117602416661042,-0.016284985445369608,-0.07642253301289068,0.12343909063452088,-0.03325883132389544,-0.035800019540847376,0.14089193088922952,-0.07876300702139849,0.034172162807107234,0.2238405083522389,-0.011165870484620042,0.04169041096930801,0.13917060872233725,0.025881058191952754,0.2238405083522389,-0.022488769223155982,-0.010034022648215806,-0.07302775303795872,0.10161126730007802,0.005984324961135572,-0.06932153342344323,-0.1169097355047166,0.0170801608578616,-0.07333731649874992,-0.009289620525785873,-0.05371063660110676,-0.0026299178419946757,-0.0007173745442318114,-0.0954258205984441,-0.07295169279230095,-0.013481206823592632,0.01906951119433852,-0.13780467657464496,0.09339486111661918,0.1654058231389086,-0.04991396520039659,-0.10533027621647816,-0.020294667246506984,0.000270139652038974,-0.1515837213447298,-0.014621235181626547,-0.030576117325328153,-0.04713128079149044,-0.1513124398485766,-0.1400648390433043,0.18851590181138958,0.03789078585410678,-0.05371063660110676,-0.013481206823592632,0.03868214442299867,0.06970124618921925,-0.11060073637350734,-0.05257210655868798,0.15058305015703874,0.06480615043443567,-0.10143182120178336,-0.049113141930306206,-0.01883641461136394,-0.07451964898157389,0.01977425746557019,-0.006220698023107023,-0.10226722365564114,0.11439012193690634,-0.06535120454951296,-0.0833795273285841,-0.046339054927914354,-0.005037337597076762,-0.054437241308111846,-0.08555843152237623,0.06576102612071653,0.05067141553916984,0.04938772415873111,-0.04609383540327264,0.03516670155159339,0.029860126660036956,-0.12066038644975612,-0.043546841652727764,0.09952828121301537,-0.007984980117852475,-0.016213484120305353,0.02651664738687179,0.07253845985914054,-0.04290506641487584,0.17317796096094604,-0.15967846917752998,-0.09612660252544725,-0.035277560810939794,0.07402703458246905],\"yaxis\":\"y\",\"type\":\"scatter\"}],                        {\"template\":{\"data\":{\"histogram2dcontour\":[{\"type\":\"histogram2dcontour\",\"colorbar\":{\"outlinewidth\":0,\"ticks\":\"\"},\"colorscale\":[[0.0,\"#0d0887\"],[0.1111111111111111,\"#46039f\"],[0.2222222222222222,\"#7201a8\"],[0.3333333333333333,\"#9c179e\"],[0.4444444444444444,\"#bd3786\"],[0.5555555555555556,\"#d8576b\"],[0.6666666666666666,\"#ed7953\"],[0.7777777777777778,\"#fb9f3a\"],[0.8888888888888888,\"#fdca26\"],[1.0,\"#f0f921\"]]}],\"choropleth\":[{\"type\":\"choropleth\",\"colorbar\":{\"outlinewidth\":0,\"ticks\":\"\"}}],\"histogram2d\":[{\"type\":\"histogram2d\",\"colorbar\":{\"outlinewidth\":0,\"ticks\":\"\"},\"colorscale\":[[0.0,\"#0d0887\"],[0.1111111111111111,\"#46039f\"],[0.2222222222222222,\"#7201a8\"],[0.3333333333333333,\"#9c179e\"],[0.4444444444444444,\"#bd3786\"],[0.5555555555555556,\"#d8576b\"],[0.6666666666666666,\"#ed7953\"],[0.7777777777777778,\"#fb9f3a\"],[0.8888888888888888,\"#fdca26\"],[1.0,\"#f0f921\"]]}],\"heatmap\":[{\"type\":\"heatmap\",\"colorbar\":{\"outlinewidth\":0,\"ticks\":\"\"},\"colorscale\":[[0.0,\"#0d0887\"],[0.1111111111111111,\"#46039f\"],[0.2222222222222222,\"#7201a8\"],[0.3333333333333333,\"#9c179e\"],[0.4444444444444444,\"#bd3786\"],[0.5555555555555556,\"#d8576b\"],[0.6666666666666666,\"#ed7953\"],[0.7777777777777778,\"#fb9f3a\"],[0.8888888888888888,\"#fdca26\"],[1.0,\"#f0f921\"]]}],\"heatmapgl\":[{\"type\":\"heatmapgl\",\"colorbar\":{\"outlinewidth\":0,\"ticks\":\"\"},\"colorscale\":[[0.0,\"#0d0887\"],[0.1111111111111111,\"#46039f\"],[0.2222222222222222,\"#7201a8\"],[0.3333333333333333,\"#9c179e\"],[0.4444444444444444,\"#bd3786\"],[0.5555555555555556,\"#d8576b\"],[0.6666666666666666,\"#ed7953\"],[0.7777777777777778,\"#fb9f3a\"],[0.8888888888888888,\"#fdca26\"],[1.0,\"#f0f921\"]]}],\"contourcarpet\":[{\"type\":\"contourcarpet\",\"colorbar\":{\"outlinewidth\":0,\"ticks\":\"\"}}],\"contour\":[{\"type\":\"contour\",\"colorbar\":{\"outlinewidth\":0,\"ticks\":\"\"},\"colorscale\":[[0.0,\"#0d0887\"],[0.1111111111111111,\"#46039f\"],[0.2222222222222222,\"#7201a8\"],[0.3333333333333333,\"#9c179e\"],[0.4444444444444444,\"#bd3786\"],[0.5555555555555556,\"#d8576b\"],[0.6666666666666666,\"#ed7953\"],[0.7777777777777778,\"#fb9f3a\"],[0.8888888888888888,\"#fdca26\"],[1.0,\"#f0f921\"]]}],\"surface\":[{\"type\":\"surface\",\"colorbar\":{\"outlinewidth\":0,\"ticks\":\"\"},\"colorscale\":[[0.0,\"#0d0887\"],[0.1111111111111111,\"#46039f\"],[0.2222222222222222,\"#7201a8\"],[0.3333333333333333,\"#9c179e\"],[0.4444444444444444,\"#bd3786\"],[0.5555555555555556,\"#d8576b\"],[0.6666666666666666,\"#ed7953\"],[0.7777777777777778,\"#fb9f3a\"],[0.8888888888888888,\"#fdca26\"],[1.0,\"#f0f921\"]]}],\"mesh3d\":[{\"type\":\"mesh3d\",\"colorbar\":{\"outlinewidth\":0,\"ticks\":\"\"}}],\"scatter\":[{\"fillpattern\":{\"fillmode\":\"overlay\",\"size\":10,\"solidity\":0.2},\"type\":\"scatter\"}],\"parcoords\":[{\"type\":\"parcoords\",\"line\":{\"colorbar\":{\"outlinewidth\":0,\"ticks\":\"\"}}}],\"scatterpolargl\":[{\"type\":\"scatterpolargl\",\"marker\":{\"colorbar\":{\"outlinewidth\":0,\"ticks\":\"\"}}}],\"bar\":[{\"error_x\":{\"color\":\"#2a3f5f\"},\"error_y\":{\"color\":\"#2a3f5f\"},\"marker\":{\"line\":{\"color\":\"#E5ECF6\",\"width\":0.5},\"pattern\":{\"fillmode\":\"overlay\",\"size\":10,\"solidity\":0.2}},\"type\":\"bar\"}],\"scattergeo\":[{\"type\":\"scattergeo\",\"marker\":{\"colorbar\":{\"outlinewidth\":0,\"ticks\":\"\"}}}],\"scatterpolar\":[{\"type\":\"scatterpolar\",\"marker\":{\"colorbar\":{\"outlinewidth\":0,\"ticks\":\"\"}}}],\"histogram\":[{\"marker\":{\"pattern\":{\"fillmode\":\"overlay\",\"size\":10,\"solidity\":0.2}},\"type\":\"histogram\"}],\"scattergl\":[{\"type\":\"scattergl\",\"marker\":{\"colorbar\":{\"outlinewidth\":0,\"ticks\":\"\"}}}],\"scatter3d\":[{\"type\":\"scatter3d\",\"line\":{\"colorbar\":{\"outlinewidth\":0,\"ticks\":\"\"}},\"marker\":{\"colorbar\":{\"outlinewidth\":0,\"ticks\":\"\"}}}],\"scattermapbox\":[{\"type\":\"scattermapbox\",\"marker\":{\"colorbar\":{\"outlinewidth\":0,\"ticks\":\"\"}}}],\"scatterternary\":[{\"type\":\"scatterternary\",\"marker\":{\"colorbar\":{\"outlinewidth\":0,\"ticks\":\"\"}}}],\"scattercarpet\":[{\"type\":\"scattercarpet\",\"marker\":{\"colorbar\":{\"outlinewidth\":0,\"ticks\":\"\"}}}],\"carpet\":[{\"aaxis\":{\"endlinecolor\":\"#2a3f5f\",\"gridcolor\":\"white\",\"linecolor\":\"white\",\"minorgridcolor\":\"white\",\"startlinecolor\":\"#2a3f5f\"},\"baxis\":{\"endlinecolor\":\"#2a3f5f\",\"gridcolor\":\"white\",\"linecolor\":\"white\",\"minorgridcolor\":\"white\",\"startlinecolor\":\"#2a3f5f\"},\"type\":\"carpet\"}],\"table\":[{\"cells\":{\"fill\":{\"color\":\"#EBF0F8\"},\"line\":{\"color\":\"white\"}},\"header\":{\"fill\":{\"color\":\"#C8D4E3\"},\"line\":{\"color\":\"white\"}},\"type\":\"table\"}],\"barpolar\":[{\"marker\":{\"line\":{\"color\":\"#E5ECF6\",\"width\":0.5},\"pattern\":{\"fillmode\":\"overlay\",\"size\":10,\"solidity\":0.2}},\"type\":\"barpolar\"}],\"pie\":[{\"automargin\":true,\"type\":\"pie\"}]},\"layout\":{\"autotypenumbers\":\"strict\",\"colorway\":[\"#636efa\",\"#EF553B\",\"#00cc96\",\"#ab63fa\",\"#FFA15A\",\"#19d3f3\",\"#FF6692\",\"#B6E880\",\"#FF97FF\",\"#FECB52\"],\"font\":{\"color\":\"#2a3f5f\"},\"hovermode\":\"closest\",\"hoverlabel\":{\"align\":\"left\"},\"paper_bgcolor\":\"white\",\"plot_bgcolor\":\"#E5ECF6\",\"polar\":{\"bgcolor\":\"#E5ECF6\",\"angularaxis\":{\"gridcolor\":\"white\",\"linecolor\":\"white\",\"ticks\":\"\"},\"radialaxis\":{\"gridcolor\":\"white\",\"linecolor\":\"white\",\"ticks\":\"\"}},\"ternary\":{\"bgcolor\":\"#E5ECF6\",\"aaxis\":{\"gridcolor\":\"white\",\"linecolor\":\"white\",\"ticks\":\"\"},\"baxis\":{\"gridcolor\":\"white\",\"linecolor\":\"white\",\"ticks\":\"\"},\"caxis\":{\"gridcolor\":\"white\",\"linecolor\":\"white\",\"ticks\":\"\"}},\"coloraxis\":{\"colorbar\":{\"outlinewidth\":0,\"ticks\":\"\"}},\"colorscale\":{\"sequential\":[[0.0,\"#0d0887\"],[0.1111111111111111,\"#46039f\"],[0.2222222222222222,\"#7201a8\"],[0.3333333333333333,\"#9c179e\"],[0.4444444444444444,\"#bd3786\"],[0.5555555555555556,\"#d8576b\"],[0.6666666666666666,\"#ed7953\"],[0.7777777777777778,\"#fb9f3a\"],[0.8888888888888888,\"#fdca26\"],[1.0,\"#f0f921\"]],\"sequentialminus\":[[0.0,\"#0d0887\"],[0.1111111111111111,\"#46039f\"],[0.2222222222222222,\"#7201a8\"],[0.3333333333333333,\"#9c179e\"],[0.4444444444444444,\"#bd3786\"],[0.5555555555555556,\"#d8576b\"],[0.6666666666666666,\"#ed7953\"],[0.7777777777777778,\"#fb9f3a\"],[0.8888888888888888,\"#fdca26\"],[1.0,\"#f0f921\"]],\"diverging\":[[0,\"#8e0152\"],[0.1,\"#c51b7d\"],[0.2,\"#de77ae\"],[0.3,\"#f1b6da\"],[0.4,\"#fde0ef\"],[0.5,\"#f7f7f7\"],[0.6,\"#e6f5d0\"],[0.7,\"#b8e186\"],[0.8,\"#7fbc41\"],[0.9,\"#4d9221\"],[1,\"#276419\"]]},\"xaxis\":{\"gridcolor\":\"white\",\"linecolor\":\"white\",\"ticks\":\"\",\"title\":{\"standoff\":15},\"zerolinecolor\":\"white\",\"automargin\":true,\"zerolinewidth\":2},\"yaxis\":{\"gridcolor\":\"white\",\"linecolor\":\"white\",\"ticks\":\"\",\"title\":{\"standoff\":15},\"zerolinecolor\":\"white\",\"automargin\":true,\"zerolinewidth\":2},\"scene\":{\"xaxis\":{\"backgroundcolor\":\"#E5ECF6\",\"gridcolor\":\"white\",\"linecolor\":\"white\",\"showbackground\":true,\"ticks\":\"\",\"zerolinecolor\":\"white\",\"gridwidth\":2},\"yaxis\":{\"backgroundcolor\":\"#E5ECF6\",\"gridcolor\":\"white\",\"linecolor\":\"white\",\"showbackground\":true,\"ticks\":\"\",\"zerolinecolor\":\"white\",\"gridwidth\":2},\"zaxis\":{\"backgroundcolor\":\"#E5ECF6\",\"gridcolor\":\"white\",\"linecolor\":\"white\",\"showbackground\":true,\"ticks\":\"\",\"zerolinecolor\":\"white\",\"gridwidth\":2}},\"shapedefaults\":{\"line\":{\"color\":\"#2a3f5f\"}},\"annotationdefaults\":{\"arrowcolor\":\"#2a3f5f\",\"arrowhead\":0,\"arrowwidth\":1},\"geo\":{\"bgcolor\":\"white\",\"landcolor\":\"#E5ECF6\",\"subunitcolor\":\"white\",\"showland\":true,\"showlakes\":true,\"lakecolor\":\"white\"},\"title\":{\"x\":0.05},\"mapbox\":{\"style\":\"light\"}}},\"xaxis\":{\"anchor\":\"y\",\"domain\":[0.0,1.0],\"title\":{\"text\":\"PC1\"}},\"yaxis\":{\"anchor\":\"x\",\"domain\":[0.0,1.0],\"title\":{\"text\":\"PC2\"}},\"coloraxis\":{\"colorbar\":{\"title\":{\"text\":\"Summer_sales_indicator\"}},\"colorscale\":[[0.0,\"#0d0887\"],[0.1111111111111111,\"#46039f\"],[0.2222222222222222,\"#7201a8\"],[0.3333333333333333,\"#9c179e\"],[0.4444444444444444,\"#bd3786\"],[0.5555555555555556,\"#d8576b\"],[0.6666666666666666,\"#ed7953\"],[0.7777777777777778,\"#fb9f3a\"],[0.8888888888888888,\"#fdca26\"],[1.0,\"#f0f921\"]]},\"legend\":{\"tracegroupgap\":0},\"margin\":{\"t\":60}},                        {\"responsive\": true}                    ).then(function(){\n",
       "                            \n",
       "var gd = document.getElementById('e8f89f6a-5ae2-4f9c-bc81-c57a72c2a003');\n",
       "var x = new MutationObserver(function (mutations, observer) {{\n",
       "        var display = window.getComputedStyle(gd).display;\n",
       "        if (!display || display === 'none') {{\n",
       "            console.log([gd, 'removed!']);\n",
       "            Plotly.purge(gd);\n",
       "            observer.disconnect();\n",
       "        }}\n",
       "}});\n",
       "\n",
       "// Listen for the removal of the full notebook cells\n",
       "var notebookContainer = gd.closest('#notebook-container');\n",
       "if (notebookContainer) {{\n",
       "    x.observe(notebookContainer, {childList: true});\n",
       "}}\n",
       "\n",
       "// Listen for the clearing of the current output cell\n",
       "var outputEl = gd.closest('.output');\n",
       "if (outputEl) {{\n",
       "    x.observe(outputEl, {childList: true});\n",
       "}}\n",
       "\n",
       "                        })                };                });            </script>        </div>"
      ]
     },
     "metadata": {},
     "output_type": "display_data"
    }
   ],
   "source": [
    "feat_cols = [col for col in hmtraingrp2.columns if col != 'ym_date']\n",
    "df_pca = StandardScaler().fit_transform(hmtraingrp2[feat_cols])\n",
    "model_pca = PCA(n_components=5)\n",
    "model_pca.fit(df_pca)\n",
    "feature = model_pca.transform(df_pca)\n",
    "\n",
    "df_eigen = model_pca.components_.T\n",
    "df_eigen = pd.DataFrame(df_eigen,\n",
    "                        index=None,\n",
    "                        columns=['PC1','PC2','PC3','PC4','PC5'])\n",
    "df_eigen['idxgrp_idx_prdtyp'] = feat_cols\n",
    "df_eigen.head(5)\n",
    "df_eigen = pd.merge(\n",
    "     df_eigen,\n",
    "     hmtraingrp2.corr()[['Ladieswear_Jacket']].reset_index().rename(columns={'Ladieswear_Jacket': 'Summer_sales_indicator'}),\n",
    "     on='idxgrp_idx_prdtyp',\n",
    "     how='left'\n",
    ")\n",
    "\n",
    "\n",
    "px.scatter(df_eigen, x='PC1', y='PC2', hover_name='idxgrp_idx_prdtyp', color='Summer_sales_indicator')\n",
    "\n"
   ]
  },
  {
   "cell_type": "code",
   "execution_count": 48,
   "id": "55aa906a",
   "metadata": {},
   "outputs": [
    {
     "data": {
      "text/plain": [
       "Index(['PC1', 'PC2', 'PC3', 'PC4', 'PC5', 'idxgrp_idx_prdtyp',\n",
       "       'Summer_sales_indicator'],\n",
       "      dtype='object')"
      ]
     },
     "execution_count": 48,
     "metadata": {},
     "output_type": "execute_result"
    }
   ],
   "source": []
  },
  {
   "cell_type": "markdown",
   "id": "219bb7d8",
   "metadata": {
    "scrolled": true
   },
   "source": [
    "We see that the summer products like skirts, wedges, bikini tops etc. are grouped together, represented by the lighter dots. Likewise, winter products like jackets, sweater etc. are grouped together and represented by darker dots."
   ]
  },
  {
   "cell_type": "code",
   "execution_count": null,
   "id": "f7c3b60c",
   "metadata": {},
   "outputs": [],
   "source": [
    "hmtrain[product_type_name].values()"
   ]
  },
  {
   "cell_type": "code",
   "execution_count": null,
   "id": "9e68446e",
   "metadata": {},
   "outputs": [],
   "source": []
  }
 ],
 "metadata": {
  "kernelspec": {
   "display_name": "Python 3 (ipykernel)",
   "language": "python",
   "name": "python3"
  },
  "language_info": {
   "codemirror_mode": {
    "name": "ipython",
    "version": 3
   },
   "file_extension": ".py",
   "mimetype": "text/x-python",
   "name": "python",
   "nbconvert_exporter": "python",
   "pygments_lexer": "ipython3",
   "version": "3.10.2"
  }
 },
 "nbformat": 4,
 "nbformat_minor": 5
}
